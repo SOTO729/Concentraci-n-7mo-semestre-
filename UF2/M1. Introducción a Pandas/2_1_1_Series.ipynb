{
  "nbformat": 4,
  "nbformat_minor": 0,
  "metadata": {
    "colab": {
      "provenance": []
    },
    "kernelspec": {
      "name": "python3",
      "display_name": "Python 3"
    },
    "language_info": {
      "name": "python"
    }
  },
  "cells": [
    {
      "cell_type": "markdown",
      "source": [
        "#Series\n",
        "Es un objeto similar a una matriz unidimensional que contiene una secuencia de valores y una matriz asociada de etiquetas de datos, denominada índice.\n",
        "\n",
        "Para utilizar esta estructura, se debe de importar de la librería de pandas\n",
        "\n"
      ],
      "metadata": {
        "id": "e9eHoQ12Ff-Z"
      }
    },
    {
      "cell_type": "code",
      "source": [
        "import pandas as pd  #Generar un alias para la librería\n",
        "from pandas import Series"
      ],
      "metadata": {
        "id": "uTlQ3OW2f4qD"
      },
      "execution_count": null,
      "outputs": []
    },
    {
      "cell_type": "markdown",
      "source": [
        "##Inicialización\n",
        "\n",
        "`Series(data=lista, index=indices, dtype=tipo)`\n"
      ],
      "metadata": {
        "id": "VsaXCQTZf3kd"
      }
    },
    {
      "cell_type": "code",
      "execution_count": null,
      "metadata": {
        "id": "krXZ3ehlEPtb"
      },
      "outputs": [],
      "source": [
        "ej=pd.Series(data=[1,2,3,4],index=['uno','dos','tres','cuatro'],dtype='int64')"
      ]
    },
    {
      "cell_type": "code",
      "source": [
        "ej"
      ],
      "metadata": {
        "colab": {
          "base_uri": "https://localhost:8080/"
        },
        "id": "iZvsIYAqi7eD",
        "outputId": "9819f4d2-815d-45b1-bc9d-8bbc6f4fcea6"
      },
      "execution_count": null,
      "outputs": [
        {
          "output_type": "execute_result",
          "data": {
            "text/plain": [
              "uno       1\n",
              "dos       2\n",
              "tres      3\n",
              "cuatro    4\n",
              "dtype: int64"
            ]
          },
          "metadata": {},
          "execution_count": 28
        }
      ]
    },
    {
      "cell_type": "code",
      "source": [
        "ej2=pd.Series([1,2,3,4])"
      ],
      "metadata": {
        "id": "qk_bBtEIhHpA"
      },
      "execution_count": null,
      "outputs": []
    },
    {
      "cell_type": "markdown",
      "source": [
        "-- Con listas ya establecidas"
      ],
      "metadata": {
        "id": "8GV7T6m0MvIO"
      }
    },
    {
      "cell_type": "code",
      "source": [
        "ej2"
      ],
      "metadata": {
        "colab": {
          "base_uri": "https://localhost:8080/"
        },
        "id": "OUBMi5f1i9-G",
        "outputId": "ab6a6354-a22c-4ee6-e44b-1cacd35e9306"
      },
      "execution_count": null,
      "outputs": [
        {
          "output_type": "execute_result",
          "data": {
            "text/plain": [
              "0    1\n",
              "1    2\n",
              "2    3\n",
              "3    4\n",
              "dtype: int64"
            ]
          },
          "metadata": {},
          "execution_count": 30
        }
      ]
    },
    {
      "cell_type": "code",
      "source": [
        "#Generar listas\n",
        "nombre=['Pikachu','Charmander','Chikorita','Muk','Artikuno']\n",
        "tipo=['Electrico','Fuego','Hierba','Veneno','Volador']"
      ],
      "metadata": {
        "id": "9BYkxYvHMy1N"
      },
      "execution_count": null,
      "outputs": []
    },
    {
      "cell_type": "markdown",
      "source": [
        "-- Con tuplas de datos"
      ],
      "metadata": {
        "id": "kOsG_tJdh7um"
      }
    },
    {
      "cell_type": "code",
      "source": [
        "Ej4=pd.Series({'Matematicas':7.8,'Ciencias':8.0})\n",
        "Ej4"
      ],
      "metadata": {
        "id": "N5gqL-5Nh-Xb",
        "colab": {
          "base_uri": "https://localhost:8080/"
        },
        "outputId": "a28cc46c-54cd-453e-c6e0-48caa3360104"
      },
      "execution_count": null,
      "outputs": [
        {
          "output_type": "execute_result",
          "data": {
            "text/plain": [
              "Matematicas    7.8\n",
              "Ciencias       8.0\n",
              "dtype: float64"
            ]
          },
          "metadata": {},
          "execution_count": 32
        }
      ]
    },
    {
      "cell_type": "markdown",
      "source": [
        "##Atributos"
      ],
      "metadata": {
        "id": "E8RtfYi3iP_-"
      }
    },
    {
      "cell_type": "code",
      "source": [],
      "metadata": {
        "id": "FXPaKfhFpmxb"
      },
      "execution_count": null,
      "outputs": []
    },
    {
      "cell_type": "code",
      "source": [
        "Ej3=pd.Series([43,56,25,78,96],['aa','bb','cc','dd','ee'])\n",
        "print(Ej3)\n",
        "print(\"\\n\",Ej3.size)\n",
        "print(\"\\n\",Ej3.index)\n",
        "print(\"\\n\",Ej3.dtype)\n",
        "print(\"\\n\",Ej3.values)"
      ],
      "metadata": {
        "id": "U6sIa7t6h2oi",
        "colab": {
          "base_uri": "https://localhost:8080/"
        },
        "outputId": "5e26cac3-9a84-44d8-9618-7472a37e9688"
      },
      "execution_count": null,
      "outputs": [
        {
          "output_type": "stream",
          "name": "stdout",
          "text": [
            "aa    43\n",
            "bb    56\n",
            "cc    25\n",
            "dd    78\n",
            "ee    96\n",
            "dtype: int64\n",
            "\n",
            " 5\n",
            "\n",
            " Index(['aa', 'bb', 'cc', 'dd', 'ee'], dtype='object')\n",
            "\n",
            " int64\n",
            "\n",
            " [43 56 25 78 96]\n"
          ]
        }
      ]
    },
    {
      "cell_type": "markdown",
      "source": [
        "##Funciones aplicables"
      ],
      "metadata": {
        "id": "NK3QQluzUT8W"
      }
    },
    {
      "cell_type": "code",
      "source": [
        "#Ejemplos con serie numérica\n",
        "Ej1=pd.Series([3,6,8,2,5,14],['a','b','c','d','e','f'])\n",
        "print(\"\\n\",Ej1.count())\n",
        "print(\"\\n\",Ej1.sum())\n",
        "print(\"\\n\",Ej1.cumsum())\n",
        "print(\"\\n\",Ej1.min())\n",
        "print(\"\\n\",Ej1.max())\n",
        "print(\"\\n \",Ej1.mean())\n",
        "print(\"\\n\",Ej1.std())\n",
        "print(\"\\n\",Ej1.describe())"
      ],
      "metadata": {
        "id": "CAGMVC2kBVIz",
        "colab": {
          "base_uri": "https://localhost:8080/"
        },
        "outputId": "50222223-5933-408d-a8c6-f59eb93acaf2"
      },
      "execution_count": null,
      "outputs": [
        {
          "output_type": "stream",
          "name": "stdout",
          "text": [
            "\n",
            " 6\n",
            "\n",
            " 38\n",
            "\n",
            " a     3\n",
            "b     9\n",
            "c    17\n",
            "d    19\n",
            "e    24\n",
            "f    38\n",
            "dtype: int64\n",
            "\n",
            " 2\n",
            "\n",
            " 14\n",
            "\n",
            "  6.333333333333333\n",
            "\n",
            " 4.320493798938574\n",
            "\n",
            " count     6.000000\n",
            "mean      6.333333\n",
            "std       4.320494\n",
            "min       2.000000\n",
            "25%       3.500000\n",
            "50%       5.500000\n",
            "75%       7.500000\n",
            "max      14.000000\n",
            "dtype: float64\n"
          ]
        }
      ]
    },
    {
      "cell_type": "code",
      "source": [
        "Ej1.describe()"
      ],
      "metadata": {
        "colab": {
          "base_uri": "https://localhost:8080/"
        },
        "id": "orvxbmfr2Hj_",
        "outputId": "23427356-914d-4c5f-9cd4-c8d296a9a605"
      },
      "execution_count": null,
      "outputs": [
        {
          "output_type": "execute_result",
          "data": {
            "text/plain": [
              "count     6.000000\n",
              "mean      6.333333\n",
              "std       4.320494\n",
              "min       2.000000\n",
              "25%       3.500000\n",
              "50%       5.500000\n",
              "75%       7.500000\n",
              "max      14.000000\n",
              "dtype: float64"
            ]
          },
          "metadata": {},
          "execution_count": 38
        }
      ]
    },
    {
      "cell_type": "markdown",
      "source": [
        "Con valores de tipo cadena"
      ],
      "metadata": {
        "id": "7X57prnmj6Iy"
      }
    },
    {
      "cell_type": "code",
      "source": [
        "#Ejemplos con serie tipo cadena\n",
        "Ej1=pd.Series(['ab','bc','cd','bc','cd','bc'],[3,6,8,2,7,14])\n",
        "print(\"\\n\",Ej1.count())\n",
        "print(\"\\n\",Ej1.sum())\n",
        "print(\"\\n\",Ej1.cumsum())\n",
        "print(\"\\n\",Ej1.min())\n",
        "print(\"\\n\",Ej1.max())\n",
        "#print(\"\\n\",Ej1.mean())\n",
        "#print(\"\\n\",Ej1.std())\n",
        "print(\"\\n \",Ej1.describe())"
      ],
      "metadata": {
        "id": "1mSJG3O5EaUV",
        "colab": {
          "base_uri": "https://localhost:8080/"
        },
        "outputId": "e8aab90a-87c5-4ecd-b67d-33b6b589374d"
      },
      "execution_count": null,
      "outputs": [
        {
          "output_type": "stream",
          "name": "stdout",
          "text": [
            "\n",
            " 6\n",
            "\n",
            " abbccdbccdbc\n",
            "\n",
            " 3               ab\n",
            "6             abbc\n",
            "8           abbccd\n",
            "2         abbccdbc\n",
            "7       abbccdbccd\n",
            "14    abbccdbccdbc\n",
            "dtype: object\n",
            "\n",
            " ab\n",
            "\n",
            " cd\n",
            "\n",
            "  count      6\n",
            "unique     3\n",
            "top       bc\n",
            "freq       3\n",
            "dtype: object\n"
          ]
        }
      ]
    },
    {
      "cell_type": "markdown",
      "source": [
        "##Seleccionar/modificar de datos\n",
        "De pueden seleccionar elementos específicos de una serie, ya sea por índice  o por clave"
      ],
      "metadata": {
        "id": "ehPl0qE4GyK5"
      }
    },
    {
      "cell_type": "code",
      "source": [
        "Ej1=pd.Series([3,6,8,2,5,14],['a','b','c','d','e','f'])\n",
        "Ej1\n"
      ],
      "metadata": {
        "id": "bXxYqsypGtp0",
        "colab": {
          "base_uri": "https://localhost:8080/"
        },
        "outputId": "f1d1243c-33f0-4635-f8f4-465e7624700c"
      },
      "execution_count": null,
      "outputs": [
        {
          "output_type": "execute_result",
          "data": {
            "text/plain": [
              "a     3\n",
              "b     6\n",
              "c     8\n",
              "d     2\n",
              "e     5\n",
              "f    14\n",
              "dtype: int64"
            ]
          },
          "metadata": {},
          "execution_count": 36
        }
      ]
    },
    {
      "cell_type": "code",
      "source": [],
      "metadata": {
        "id": "U8rzcFSSATq_"
      },
      "execution_count": null,
      "outputs": []
    },
    {
      "cell_type": "code",
      "source": [],
      "metadata": {
        "id": "fSJDiIp2ApOF"
      },
      "execution_count": null,
      "outputs": []
    },
    {
      "cell_type": "markdown",
      "source": [
        "###iloc/loc\n",
        "Se uilizan para modificar o seleccionar elementos específicos de una serie, ya sea por índice (iloc) o por clave (loc)\n",
        "Iloc se utiliza para modificar"
      ],
      "metadata": {
        "id": "rVfqYbMjBcCy"
      }
    },
    {
      "cell_type": "code",
      "source": [
        "## Serie con claves\n",
        "Sc=pd.Series([3,6,8,2,5,14],['a','b','c','d','e','f'])\n",
        "\n",
        "print(Sc[4])\n",
        "print(Sc.iloc[4])\n"
      ],
      "metadata": {
        "id": "kh7RY1XlCukS",
        "colab": {
          "base_uri": "https://localhost:8080/"
        },
        "outputId": "a77b682a-5bc4-4692-e088-e3ba96ae9ad5"
      },
      "execution_count": null,
      "outputs": [
        {
          "output_type": "stream",
          "name": "stdout",
          "text": [
            "5\n",
            "5\n"
          ]
        },
        {
          "output_type": "stream",
          "name": "stderr",
          "text": [
            "<ipython-input-74-4624fbaf7f98>:4: FutureWarning: Series.__getitem__ treating keys as positions is deprecated. In a future version, integer keys will always be treated as labels (consistent with DataFrame behavior). To access a value by position, use `ser.iloc[pos]`\n",
            "  print(Sc[4])\n"
          ]
        }
      ]
    },
    {
      "cell_type": "markdown",
      "source": [
        "##Agregar\n",
        "Para agregar datos en una serie que ya tiene claves,solo se agrega la nueva clave con una asignación"
      ],
      "metadata": {
        "id": "d2c-c0Xdksw3"
      }
    },
    {
      "cell_type": "code",
      "source": [
        "Ejemplo=pd.Series(['Gokú','Vegeta','Trunks','Gohan'],['a','b','c','d'])\n",
        "Ejemplo"
      ],
      "metadata": {
        "id": "TH3u8CcpFZfu",
        "colab": {
          "base_uri": "https://localhost:8080/"
        },
        "outputId": "996dc3b6-ce5e-4029-ecee-1b7aae94d13b"
      },
      "execution_count": null,
      "outputs": [
        {
          "output_type": "execute_result",
          "data": {
            "text/plain": [
              "a      Gokú\n",
              "b    Vegeta\n",
              "c    Trunks\n",
              "d     Gohan\n",
              "dtype: object"
            ]
          },
          "metadata": {},
          "execution_count": 41
        }
      ]
    },
    {
      "cell_type": "code",
      "source": [
        "Ejemplo['f']='Goten'\n",
        "Ejemplo"
      ],
      "metadata": {
        "id": "O1lzaq3NJ-rJ",
        "colab": {
          "base_uri": "https://localhost:8080/"
        },
        "outputId": "ee50704d-f96a-4a70-ee58-6269ffbdfd52"
      },
      "execution_count": null,
      "outputs": [
        {
          "output_type": "execute_result",
          "data": {
            "text/plain": [
              "a      Gokú\n",
              "b    Vegeta\n",
              "c    Trunks\n",
              "d     Gohan\n",
              "f     Goten\n",
              "dtype: object"
            ]
          },
          "metadata": {},
          "execution_count": 42
        }
      ]
    },
    {
      "cell_type": "code",
      "source": [
        "Ejemplo=pd.Series(['Gokú','Vegeta','Trunks','Gohan'])\n",
        "Ejemplo[7]='Goten'\n",
        "Ejemplo.index"
      ],
      "metadata": {
        "id": "Tw0mQZ_DKK7P",
        "colab": {
          "base_uri": "https://localhost:8080/"
        },
        "outputId": "1dcbd5e8-08c7-493f-9443-454974d5979e"
      },
      "execution_count": null,
      "outputs": [
        {
          "output_type": "execute_result",
          "data": {
            "text/plain": [
              "Index([0, 1, 2, 3, 7], dtype='int64')"
            ]
          },
          "metadata": {},
          "execution_count": 43
        }
      ]
    },
    {
      "cell_type": "code",
      "source": [
        "#¿Como agregrar el indice que sigue?\n"
      ],
      "metadata": {
        "id": "DwKnlpObUec5"
      },
      "execution_count": null,
      "outputs": []
    },
    {
      "cell_type": "markdown",
      "source": [
        "## Eliminar (drop-pop)\n",
        "-- Drop: Devuelve una copia de la serie tras eliminar el elemento cuya etiqueta se especifica como argumento\n",
        "\n",
        "-- Pop: Acepta una etiqueta y devuelve el valor correspondiente a dicha etiqueta, eliminándolo de la serie"
      ],
      "metadata": {
        "id": "vjfNKHsYLvyt"
      }
    },
    {
      "cell_type": "code",
      "source": [
        "import pandas as pd"
      ],
      "metadata": {
        "id": "xLp2wxrx7OUl"
      },
      "execution_count": null,
      "outputs": []
    },
    {
      "cell_type": "code",
      "source": [
        "Ej1=pd.Series([3,6,8,2,5,14],['a','b','c','d','e','f'])\n",
        "Ej1"
      ],
      "metadata": {
        "colab": {
          "base_uri": "https://localhost:8080/",
          "height": 272
        },
        "id": "Yproi6AB7TK0",
        "outputId": "b7f9c1ce-31a0-4dc7-d599-662e363999c9"
      },
      "execution_count": null,
      "outputs": [
        {
          "output_type": "execute_result",
          "data": {
            "text/plain": [
              "a     3\n",
              "b     6\n",
              "c     8\n",
              "d     2\n",
              "e     5\n",
              "f    14\n",
              "dtype: int64"
            ],
            "text/html": [
              "<div>\n",
              "<style scoped>\n",
              "    .dataframe tbody tr th:only-of-type {\n",
              "        vertical-align: middle;\n",
              "    }\n",
              "\n",
              "    .dataframe tbody tr th {\n",
              "        vertical-align: top;\n",
              "    }\n",
              "\n",
              "    .dataframe thead th {\n",
              "        text-align: right;\n",
              "    }\n",
              "</style>\n",
              "<table border=\"1\" class=\"dataframe\">\n",
              "  <thead>\n",
              "    <tr style=\"text-align: right;\">\n",
              "      <th></th>\n",
              "      <th>0</th>\n",
              "    </tr>\n",
              "  </thead>\n",
              "  <tbody>\n",
              "    <tr>\n",
              "      <th>a</th>\n",
              "      <td>3</td>\n",
              "    </tr>\n",
              "    <tr>\n",
              "      <th>b</th>\n",
              "      <td>6</td>\n",
              "    </tr>\n",
              "    <tr>\n",
              "      <th>c</th>\n",
              "      <td>8</td>\n",
              "    </tr>\n",
              "    <tr>\n",
              "      <th>d</th>\n",
              "      <td>2</td>\n",
              "    </tr>\n",
              "    <tr>\n",
              "      <th>e</th>\n",
              "      <td>5</td>\n",
              "    </tr>\n",
              "    <tr>\n",
              "      <th>f</th>\n",
              "      <td>14</td>\n",
              "    </tr>\n",
              "  </tbody>\n",
              "</table>\n",
              "</div><br><label><b>dtype:</b> int64</label>"
            ]
          },
          "metadata": {},
          "execution_count": 5
        }
      ]
    },
    {
      "cell_type": "code",
      "source": [
        "Ej1=pd.Series([3,6,8,2,5,14],['a','b','c','d','e','f'])\n",
        "##### DROP  ####### Devuelve una copia\n",
        "Ej1.drop(['d','e'])\n",
        "Ej1"
      ],
      "metadata": {
        "id": "bBGJ3TuaL0dl",
        "colab": {
          "base_uri": "https://localhost:8080/",
          "height": 272
        },
        "outputId": "6bd910bb-2575-4dee-cc83-63da54c31b25"
      },
      "execution_count": null,
      "outputs": [
        {
          "output_type": "execute_result",
          "data": {
            "text/plain": [
              "a     3\n",
              "b     6\n",
              "c     8\n",
              "d     2\n",
              "e     5\n",
              "f    14\n",
              "dtype: int64"
            ],
            "text/html": [
              "<div>\n",
              "<style scoped>\n",
              "    .dataframe tbody tr th:only-of-type {\n",
              "        vertical-align: middle;\n",
              "    }\n",
              "\n",
              "    .dataframe tbody tr th {\n",
              "        vertical-align: top;\n",
              "    }\n",
              "\n",
              "    .dataframe thead th {\n",
              "        text-align: right;\n",
              "    }\n",
              "</style>\n",
              "<table border=\"1\" class=\"dataframe\">\n",
              "  <thead>\n",
              "    <tr style=\"text-align: right;\">\n",
              "      <th></th>\n",
              "      <th>0</th>\n",
              "    </tr>\n",
              "  </thead>\n",
              "  <tbody>\n",
              "    <tr>\n",
              "      <th>a</th>\n",
              "      <td>3</td>\n",
              "    </tr>\n",
              "    <tr>\n",
              "      <th>b</th>\n",
              "      <td>6</td>\n",
              "    </tr>\n",
              "    <tr>\n",
              "      <th>c</th>\n",
              "      <td>8</td>\n",
              "    </tr>\n",
              "    <tr>\n",
              "      <th>d</th>\n",
              "      <td>2</td>\n",
              "    </tr>\n",
              "    <tr>\n",
              "      <th>e</th>\n",
              "      <td>5</td>\n",
              "    </tr>\n",
              "    <tr>\n",
              "      <th>f</th>\n",
              "      <td>14</td>\n",
              "    </tr>\n",
              "  </tbody>\n",
              "</table>\n",
              "</div><br><label><b>dtype:</b> int64</label>"
            ]
          },
          "metadata": {},
          "execution_count": 23
        }
      ]
    },
    {
      "cell_type": "code",
      "source": [
        "Ej1=pd.Series([3,6,8,2,5,14],['a','b','c','d','e','f'])\n",
        "##### VAROIANTE DE DROP  ####### Devuelve una copia\n",
        "Ej1.drop(['d','e'],inplace=True) #Atributo de sobreescritura\n",
        "Ej1"
      ],
      "metadata": {
        "colab": {
          "base_uri": "https://localhost:8080/",
          "height": 209
        },
        "id": "VEwNfhfn7ckf",
        "outputId": "7e32e217-2c69-49be-8308-0d3586988c20"
      },
      "execution_count": null,
      "outputs": [
        {
          "output_type": "execute_result",
          "data": {
            "text/plain": [
              "a     3\n",
              "b     6\n",
              "c     8\n",
              "f    14\n",
              "dtype: int64"
            ],
            "text/html": [
              "<div>\n",
              "<style scoped>\n",
              "    .dataframe tbody tr th:only-of-type {\n",
              "        vertical-align: middle;\n",
              "    }\n",
              "\n",
              "    .dataframe tbody tr th {\n",
              "        vertical-align: top;\n",
              "    }\n",
              "\n",
              "    .dataframe thead th {\n",
              "        text-align: right;\n",
              "    }\n",
              "</style>\n",
              "<table border=\"1\" class=\"dataframe\">\n",
              "  <thead>\n",
              "    <tr style=\"text-align: right;\">\n",
              "      <th></th>\n",
              "      <th>0</th>\n",
              "    </tr>\n",
              "  </thead>\n",
              "  <tbody>\n",
              "    <tr>\n",
              "      <th>a</th>\n",
              "      <td>3</td>\n",
              "    </tr>\n",
              "    <tr>\n",
              "      <th>b</th>\n",
              "      <td>6</td>\n",
              "    </tr>\n",
              "    <tr>\n",
              "      <th>c</th>\n",
              "      <td>8</td>\n",
              "    </tr>\n",
              "    <tr>\n",
              "      <th>f</th>\n",
              "      <td>14</td>\n",
              "    </tr>\n",
              "  </tbody>\n",
              "</table>\n",
              "</div><br><label><b>dtype:</b> int64</label>"
            ]
          },
          "metadata": {},
          "execution_count": 37
        }
      ]
    },
    {
      "cell_type": "code",
      "source": [
        "######## POP ##### Borra y retorna el valor\n",
        "Ej2=pd.Series([3,6,8,2,5,14],['a','b','c','d','e','f'])\n",
        "print('POP')\n",
        "DatoEliminar=Ej2.pop('c')\n",
        "type(DatoEliminar)"
      ],
      "metadata": {
        "id": "1dFgMVpQ9gAb",
        "colab": {
          "base_uri": "https://localhost:8080/"
        },
        "outputId": "1ec259c9-a37d-4673-99f3-53a5635f6406"
      },
      "execution_count": null,
      "outputs": [
        {
          "output_type": "stream",
          "name": "stdout",
          "text": [
            "POP\n"
          ]
        },
        {
          "output_type": "execute_result",
          "data": {
            "text/plain": [
              "numpy.int64"
            ]
          },
          "metadata": {},
          "execution_count": 30
        }
      ]
    },
    {
      "cell_type": "code",
      "source": [
        "Ej2"
      ],
      "metadata": {
        "colab": {
          "base_uri": "https://localhost:8080/",
          "height": 241
        },
        "id": "N_ND4pqq8Rm5",
        "outputId": "98e40546-f878-48e7-fd7c-55402b03c8f6"
      },
      "execution_count": null,
      "outputs": [
        {
          "output_type": "execute_result",
          "data": {
            "text/plain": [
              "a     3\n",
              "b     6\n",
              "d     2\n",
              "e     5\n",
              "f    14\n",
              "dtype: int64"
            ],
            "text/html": [
              "<div>\n",
              "<style scoped>\n",
              "    .dataframe tbody tr th:only-of-type {\n",
              "        vertical-align: middle;\n",
              "    }\n",
              "\n",
              "    .dataframe tbody tr th {\n",
              "        vertical-align: top;\n",
              "    }\n",
              "\n",
              "    .dataframe thead th {\n",
              "        text-align: right;\n",
              "    }\n",
              "</style>\n",
              "<table border=\"1\" class=\"dataframe\">\n",
              "  <thead>\n",
              "    <tr style=\"text-align: right;\">\n",
              "      <th></th>\n",
              "      <th>0</th>\n",
              "    </tr>\n",
              "  </thead>\n",
              "  <tbody>\n",
              "    <tr>\n",
              "      <th>a</th>\n",
              "      <td>3</td>\n",
              "    </tr>\n",
              "    <tr>\n",
              "      <th>b</th>\n",
              "      <td>6</td>\n",
              "    </tr>\n",
              "    <tr>\n",
              "      <th>d</th>\n",
              "      <td>2</td>\n",
              "    </tr>\n",
              "    <tr>\n",
              "      <th>e</th>\n",
              "      <td>5</td>\n",
              "    </tr>\n",
              "    <tr>\n",
              "      <th>f</th>\n",
              "      <td>14</td>\n",
              "    </tr>\n",
              "  </tbody>\n",
              "</table>\n",
              "</div><br><label><b>dtype:</b> int64</label>"
            ]
          },
          "metadata": {},
          "execution_count": 31
        }
      ]
    },
    {
      "cell_type": "code",
      "source": [
        "Ej1=pd.Series([3,6,8,2,5,14],['a','b','c','d','e','f'])\n",
        "##Programa que pida una clave, la borre de la serie e imprima el mensale\n",
        "##\"El valor eliminado es..\"\n",
        "clave=input('Inserte una clave')\n",
        "eliminado=Ej1.pop(clave)\n",
        "print('El valor eliminado es:',eliminado)"
      ],
      "metadata": {
        "colab": {
          "base_uri": "https://localhost:8080/"
        },
        "id": "31Vekh1F_waq",
        "outputId": "df32555d-6247-48a5-fd8a-f525f625f1c2"
      },
      "execution_count": null,
      "outputs": [
        {
          "output_type": "stream",
          "name": "stdout",
          "text": [
            "Inserte una clavea\n",
            "El valor eliminado es: 3\n"
          ]
        }
      ]
    },
    {
      "cell_type": "code",
      "source": [
        "Ej1.index"
      ],
      "metadata": {
        "colab": {
          "base_uri": "https://localhost:8080/"
        },
        "id": "taC0SaIeGEQd",
        "outputId": "f454accc-08dc-42c6-a113-b702cf69f679"
      },
      "execution_count": null,
      "outputs": [
        {
          "output_type": "execute_result",
          "data": {
            "text/plain": [
              "Index(['juan', 'toño', 'mario'], dtype='object')"
            ]
          },
          "metadata": {},
          "execution_count": 55
        }
      ]
    },
    {
      "cell_type": "code",
      "source": [
        "import pandas as pd\n",
        "Ej1=pd.Series([1,2,3,4,5],['pepe','juan','toño','maria','mario'])\n",
        "#1\n",
        "print('1.')\n",
        "print(Ej1)\n",
        "print('\\n')\n",
        "#2\n",
        "print('2.')\n",
        "print('Nombre 1:',Ej1.index[0])\n",
        "print('Edad 1:',Ej1['pepe'])\n",
        "print('Nombre 3:',Ej1.index[2])\n",
        "print('Edad 3:',Ej1['toño'])\n",
        "print('\\n')\n",
        "#3\n",
        "print('3.')\n",
        "print(Ej1.index[2])\n",
        "print('\\n')\n",
        "Ej2=Ej1.copy()\n",
        "prov1=Ej2.pop('pepe')\n",
        "print('\\n')\n",
        "#4\n",
        "print('4.')\n",
        "print(prov1)\n",
        "prov2=Ej1.drop('maria')\n",
        "print('\\n')\n",
        "#5\n",
        "print('5.')\n",
        "print(prov2)\n",
        "Ej1.pop('mario')\n",
        "print('\\n')\n",
        "#6\n",
        "print('6.')\n",
        "print(Ej1)"
      ],
      "metadata": {
        "colab": {
          "base_uri": "https://localhost:8080/"
        },
        "id": "KnMdYFF0DQtj",
        "outputId": "415fbebd-1bea-4ee3-8fe7-df57aed27774"
      },
      "execution_count": null,
      "outputs": [
        {
          "output_type": "stream",
          "name": "stdout",
          "text": [
            "1.\n",
            "pepe     1\n",
            "juan     2\n",
            "toño     3\n",
            "maria    4\n",
            "mario    5\n",
            "dtype: int64\n",
            "\n",
            "\n",
            "2.\n",
            "Nombre 1: pepe\n",
            "Edad 1: 1\n",
            "Nombre 3: toño\n",
            "Edad 3: 3\n",
            "\n",
            "\n",
            "3.\n",
            "toño\n",
            "\n",
            "\n",
            "\n",
            "\n",
            "4.\n",
            "1\n",
            "\n",
            "\n",
            "5.\n",
            "pepe     1\n",
            "juan     2\n",
            "toño     3\n",
            "mario    5\n",
            "dtype: int64\n",
            "\n",
            "\n",
            "6.\n",
            "pepe     1\n",
            "juan     2\n",
            "toño     3\n",
            "maria    4\n",
            "dtype: int64\n"
          ]
        }
      ]
    },
    {
      "cell_type": "code",
      "source": [
        "#Generar una serie con los nombres de 5 personas como indice y la edad como valor\n",
        "serie=pd.Series([1,2,3,4,5],['pepe','juan','toño','maria','mario'])\n",
        "print('1.')\n",
        "serie"
      ],
      "metadata": {
        "colab": {
          "base_uri": "https://localhost:8080/",
          "height": 258
        },
        "id": "j5KITl9P2_fn",
        "outputId": "6c78a238-23f0-4d05-f760-0ff1c0263b4f"
      },
      "execution_count": null,
      "outputs": [
        {
          "output_type": "stream",
          "name": "stdout",
          "text": [
            "1.\n"
          ]
        },
        {
          "output_type": "execute_result",
          "data": {
            "text/plain": [
              "pepe     1\n",
              "juan     2\n",
              "toño     3\n",
              "maria    4\n",
              "mario    5\n",
              "dtype: int64"
            ],
            "text/html": [
              "<div>\n",
              "<style scoped>\n",
              "    .dataframe tbody tr th:only-of-type {\n",
              "        vertical-align: middle;\n",
              "    }\n",
              "\n",
              "    .dataframe tbody tr th {\n",
              "        vertical-align: top;\n",
              "    }\n",
              "\n",
              "    .dataframe thead th {\n",
              "        text-align: right;\n",
              "    }\n",
              "</style>\n",
              "<table border=\"1\" class=\"dataframe\">\n",
              "  <thead>\n",
              "    <tr style=\"text-align: right;\">\n",
              "      <th></th>\n",
              "      <th>0</th>\n",
              "    </tr>\n",
              "  </thead>\n",
              "  <tbody>\n",
              "    <tr>\n",
              "      <th>pepe</th>\n",
              "      <td>1</td>\n",
              "    </tr>\n",
              "    <tr>\n",
              "      <th>juan</th>\n",
              "      <td>2</td>\n",
              "    </tr>\n",
              "    <tr>\n",
              "      <th>toño</th>\n",
              "      <td>3</td>\n",
              "    </tr>\n",
              "    <tr>\n",
              "      <th>maria</th>\n",
              "      <td>4</td>\n",
              "    </tr>\n",
              "    <tr>\n",
              "      <th>mario</th>\n",
              "      <td>5</td>\n",
              "    </tr>\n",
              "  </tbody>\n",
              "</table>\n",
              "</div><br><label><b>dtype:</b> int64</label>"
            ]
          },
          "metadata": {},
          "execution_count": 37
        }
      ]
    },
    {
      "cell_type": "code",
      "source": [
        "serie.iloc[[0,1]]"
      ],
      "metadata": {
        "colab": {
          "base_uri": "https://localhost:8080/",
          "height": 146
        },
        "id": "SDG5UWzr3mCS",
        "outputId": "e9d8eedb-2c21-4645-bba4-4d01196e319a"
      },
      "execution_count": null,
      "outputs": [
        {
          "output_type": "execute_result",
          "data": {
            "text/plain": [
              "pepe    1\n",
              "juan    2\n",
              "dtype: int64"
            ],
            "text/html": [
              "<div>\n",
              "<style scoped>\n",
              "    .dataframe tbody tr th:only-of-type {\n",
              "        vertical-align: middle;\n",
              "    }\n",
              "\n",
              "    .dataframe tbody tr th {\n",
              "        vertical-align: top;\n",
              "    }\n",
              "\n",
              "    .dataframe thead th {\n",
              "        text-align: right;\n",
              "    }\n",
              "</style>\n",
              "<table border=\"1\" class=\"dataframe\">\n",
              "  <thead>\n",
              "    <tr style=\"text-align: right;\">\n",
              "      <th></th>\n",
              "      <th>0</th>\n",
              "    </tr>\n",
              "  </thead>\n",
              "  <tbody>\n",
              "    <tr>\n",
              "      <th>pepe</th>\n",
              "      <td>1</td>\n",
              "    </tr>\n",
              "    <tr>\n",
              "      <th>juan</th>\n",
              "      <td>2</td>\n",
              "    </tr>\n",
              "  </tbody>\n",
              "</table>\n",
              "</div><br><label><b>dtype:</b> int64</label>"
            ]
          },
          "metadata": {},
          "execution_count": 38
        }
      ]
    },
    {
      "cell_type": "code",
      "source": [
        "#Imprimir el nombre de la persona en el lugar 3\n",
        "serie.index[3]"
      ],
      "metadata": {
        "colab": {
          "base_uri": "https://localhost:8080/",
          "height": 35
        },
        "id": "Qy4ifht85gzo",
        "outputId": "7a5a740c-eefb-4a80-99df-1924638ffdb5"
      },
      "execution_count": null,
      "outputs": [
        {
          "output_type": "execute_result",
          "data": {
            "text/plain": [
              "'maria'"
            ],
            "application/vnd.google.colaboratory.intrinsic+json": {
              "type": "string"
            }
          },
          "metadata": {},
          "execution_count": 39
        }
      ]
    },
    {
      "cell_type": "code",
      "source": [
        "#Imprimir la edad de la persona en el lugar 1\n",
        "serie.iloc[0]"
      ],
      "metadata": {
        "colab": {
          "base_uri": "https://localhost:8080/"
        },
        "id": "kFlwxfX151r1",
        "outputId": "dca8dbae-4b9c-40b9-d30f-c3bc363e6260"
      },
      "execution_count": null,
      "outputs": [
        {
          "output_type": "execute_result",
          "data": {
            "text/plain": [
              "1"
            ]
          },
          "metadata": {},
          "execution_count": 40
        }
      ]
    },
    {
      "cell_type": "code",
      "source": [
        "#Eliminar a la persona del lugar 4\n",
        "serie.drop(serie.index[3],inplace=True)\n",
        "serie"
      ],
      "metadata": {
        "colab": {
          "base_uri": "https://localhost:8080/",
          "height": 209
        },
        "id": "OTmbt-8o6Etr",
        "outputId": "1b9241b9-aff0-4e0e-fe19-d07894368f0d"
      },
      "execution_count": null,
      "outputs": [
        {
          "output_type": "execute_result",
          "data": {
            "text/plain": [
              "pepe     1\n",
              "juan     2\n",
              "toño     3\n",
              "mario    5\n",
              "dtype: int64"
            ],
            "text/html": [
              "<div>\n",
              "<style scoped>\n",
              "    .dataframe tbody tr th:only-of-type {\n",
              "        vertical-align: middle;\n",
              "    }\n",
              "\n",
              "    .dataframe tbody tr th {\n",
              "        vertical-align: top;\n",
              "    }\n",
              "\n",
              "    .dataframe thead th {\n",
              "        text-align: right;\n",
              "    }\n",
              "</style>\n",
              "<table border=\"1\" class=\"dataframe\">\n",
              "  <thead>\n",
              "    <tr style=\"text-align: right;\">\n",
              "      <th></th>\n",
              "      <th>0</th>\n",
              "    </tr>\n",
              "  </thead>\n",
              "  <tbody>\n",
              "    <tr>\n",
              "      <th>pepe</th>\n",
              "      <td>1</td>\n",
              "    </tr>\n",
              "    <tr>\n",
              "      <th>juan</th>\n",
              "      <td>2</td>\n",
              "    </tr>\n",
              "    <tr>\n",
              "      <th>toño</th>\n",
              "      <td>3</td>\n",
              "    </tr>\n",
              "    <tr>\n",
              "      <th>mario</th>\n",
              "      <td>5</td>\n",
              "    </tr>\n",
              "  </tbody>\n",
              "</table>\n",
              "</div><br><label><b>dtype:</b> int64</label>"
            ]
          },
          "metadata": {},
          "execution_count": 41
        }
      ]
    },
    {
      "cell_type": "code",
      "source": [
        "serie=pd.Series([43,23,70,12],['Juan','Maria','Pedro','Bonifacio'])\n",
        "serie.pop(serie.index[serie.size-1])\n",
        "serie"
      ],
      "metadata": {
        "colab": {
          "base_uri": "https://localhost:8080/",
          "height": 178
        },
        "id": "OBmCx4i87_VR",
        "outputId": "b72eaf40-fb7b-49ec-a5c2-04c3ee44c13a"
      },
      "execution_count": null,
      "outputs": [
        {
          "output_type": "execute_result",
          "data": {
            "text/plain": [
              "Juan     43\n",
              "Maria    23\n",
              "Pedro    70\n",
              "dtype: int64"
            ],
            "text/html": [
              "<div>\n",
              "<style scoped>\n",
              "    .dataframe tbody tr th:only-of-type {\n",
              "        vertical-align: middle;\n",
              "    }\n",
              "\n",
              "    .dataframe tbody tr th {\n",
              "        vertical-align: top;\n",
              "    }\n",
              "\n",
              "    .dataframe thead th {\n",
              "        text-align: right;\n",
              "    }\n",
              "</style>\n",
              "<table border=\"1\" class=\"dataframe\">\n",
              "  <thead>\n",
              "    <tr style=\"text-align: right;\">\n",
              "      <th></th>\n",
              "      <th>0</th>\n",
              "    </tr>\n",
              "  </thead>\n",
              "  <tbody>\n",
              "    <tr>\n",
              "      <th>Juan</th>\n",
              "      <td>43</td>\n",
              "    </tr>\n",
              "    <tr>\n",
              "      <th>Maria</th>\n",
              "      <td>23</td>\n",
              "    </tr>\n",
              "    <tr>\n",
              "      <th>Pedro</th>\n",
              "      <td>70</td>\n",
              "    </tr>\n",
              "  </tbody>\n",
              "</table>\n",
              "</div><br><label><b>dtype:</b> int64</label>"
            ]
          },
          "metadata": {},
          "execution_count": 48
        }
      ]
    },
    {
      "cell_type": "code",
      "source": [
        "%%shell\n",
        "jupyter nbconvert --to html 2_1_1_Series.ipynb"
      ],
      "metadata": {
        "id": "8bzWMMmEF7f0",
        "colab": {
          "base_uri": "https://localhost:8080/"
        },
        "outputId": "b897a916-c56c-48b2-dd68-7d2e4d1f92bc"
      },
      "execution_count": null,
      "outputs": [
        {
          "output_type": "stream",
          "name": "stdout",
          "text": [
            "[NbConvertApp] Converting notebook 2_1_1_Series.ipynb to html\n",
            "[NbConvertApp] Writing 660840 bytes to 2_1_1_Series.html\n"
          ]
        },
        {
          "output_type": "execute_result",
          "data": {
            "text/plain": []
          },
          "metadata": {},
          "execution_count": 49
        }
      ]
    },
    {
      "cell_type": "code",
      "source": [],
      "metadata": {
        "id": "KhXLDdB3imQ1"
      },
      "execution_count": null,
      "outputs": []
    }
  ]
}