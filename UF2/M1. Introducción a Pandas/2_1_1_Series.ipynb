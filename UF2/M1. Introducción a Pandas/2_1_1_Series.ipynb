{
  "cells": [
    {
      "cell_type": "markdown",
      "metadata": {
        "id": "e9eHoQ12Ff-Z"
      },
      "source": [
        "#Series\n",
        "Es un objeto similar a una matriz unidimensional que contiene una secuencia de valores y una matriz asociada de etiquetas de datos, denominada índice.\n",
        "\n",
        "Para utilizar esta estructura, se debe de importar de la librería de pandas\n",
        "\n"
      ]
    },
    {
      "cell_type": "code",
      "execution_count": null,
      "metadata": {
        "id": "uTlQ3OW2f4qD"
      },
      "outputs": [],
      "source": [
        "import pandas as pd  #Generar un alias para la librería\n",
        "from pandas import Series"
      ]
    },
    {
      "cell_type": "markdown",
      "metadata": {
        "id": "VsaXCQTZf3kd"
      },
      "source": [
        "##Inicialización\n",
        "\n",
        "`Series(data=lista, index=indices, dtype=tipo)`\n"
      ]
    },
    {
      "cell_type": "code",
      "execution_count": null,
      "metadata": {
        "id": "krXZ3ehlEPtb"
      },
      "outputs": [],
      "source": [
        "ej=pd.Series(data=[1,2,3,4],index=['uno','dos','tres','cuatro'],dtype='int64')\n",
        "ej"
      ]
    },
    {
      "cell_type": "code",
      "execution_count": null,
      "metadata": {
        "colab": {
          "base_uri": "https://localhost:8080/"
        },
        "id": "iZvsIYAqi7eD",
        "outputId": "9819f4d2-815d-45b1-bc9d-8bbc6f4fcea6"
      },
      "outputs": [
        {
          "data": {
            "text/plain": [
              "uno       1\n",
              "dos       2\n",
              "tres      3\n",
              "cuatro    4\n",
              "dtype: int64"
            ]
          },
          "execution_count": 28,
          "metadata": {},
          "output_type": "execute_result"
        }
      ],
      "source": [
        "ej"
      ]
    },
    {
      "cell_type": "code",
      "execution_count": null,
      "metadata": {
        "id": "qk_bBtEIhHpA"
      },
      "outputs": [],
      "source": [
        "ej2=pd.Series([1,2,3,4])"
      ]
    },
    {
      "cell_type": "markdown",
      "metadata": {
        "id": "8GV7T6m0MvIO"
      },
      "source": [
        "-- Con listas ya establecidas"
      ]
    },
    {
      "cell_type": "code",
      "execution_count": null,
      "metadata": {
        "colab": {
          "base_uri": "https://localhost:8080/"
        },
        "id": "OUBMi5f1i9-G",
        "outputId": "ab6a6354-a22c-4ee6-e44b-1cacd35e9306"
      },
      "outputs": [
        {
          "data": {
            "text/plain": [
              "0    1\n",
              "1    2\n",
              "2    3\n",
              "3    4\n",
              "dtype: int64"
            ]
          },
          "execution_count": 30,
          "metadata": {},
          "output_type": "execute_result"
        }
      ],
      "source": [
        "ej2"
      ]
    },
    {
      "cell_type": "code",
      "execution_count": null,
      "metadata": {
        "id": "9BYkxYvHMy1N"
      },
      "outputs": [],
      "source": [
        "#Generar listas\n",
        "nombre=['Pikachu','Charmander','Chikorita','Muk','Artikuno']\n",
        "tipo=['Electrico','Fuego','Hierba','Veneno','Volador']"
      ]
    },
    {
      "cell_type": "markdown",
      "metadata": {
        "id": "kOsG_tJdh7um"
      },
      "source": [
        "-- Con tuplas de datos"
      ]
    },
    {
      "cell_type": "code",
      "execution_count": null,
      "metadata": {
        "colab": {
          "base_uri": "https://localhost:8080/"
        },
        "id": "N5gqL-5Nh-Xb",
        "outputId": "a28cc46c-54cd-453e-c6e0-48caa3360104"
      },
      "outputs": [
        {
          "data": {
            "text/plain": [
              "Matematicas    7.8\n",
              "Ciencias       8.0\n",
              "dtype: float64"
            ]
          },
          "execution_count": 32,
          "metadata": {},
          "output_type": "execute_result"
        }
      ],
      "source": [
        "Ej4=pd.Series({'Matematicas':7.8,'Ciencias':8.0})\n",
        "Ej4"
      ]
    },
    {
      "cell_type": "markdown",
      "metadata": {
        "id": "E8RtfYi3iP_-"
      },
      "source": [
        "##Atributos"
      ]
    },
    {
      "cell_type": "code",
      "execution_count": null,
      "metadata": {
        "id": "FXPaKfhFpmxb"
      },
      "outputs": [],
      "source": []
    },
    {
      "cell_type": "code",
      "execution_count": null,
      "metadata": {
        "colab": {
          "base_uri": "https://localhost:8080/"
        },
        "id": "U6sIa7t6h2oi",
        "outputId": "5e26cac3-9a84-44d8-9618-7472a37e9688"
      },
      "outputs": [
        {
          "name": "stdout",
          "output_type": "stream",
          "text": [
            "aa    43\n",
            "bb    56\n",
            "cc    25\n",
            "dd    78\n",
            "ee    96\n",
            "dtype: int64\n",
            "\n",
            " 5\n",
            "\n",
            " Index(['aa', 'bb', 'cc', 'dd', 'ee'], dtype='object')\n",
            "\n",
            " int64\n",
            "\n",
            " [43 56 25 78 96]\n"
          ]
        }
      ],
      "source": [
        "Ej3=pd.Series([43,56,25,78,96],['aa','bb','cc','dd','ee'])\n",
        "print(Ej3)\n",
        "print(\"\\n\",Ej3.size)\n",
        "print(\"\\n\",Ej3.index)\n",
        "print(\"\\n\",Ej3.dtype)\n",
        "print(\"\\n\",Ej3.values)"
      ]
    },
    {
      "cell_type": "markdown",
      "metadata": {
        "id": "NK3QQluzUT8W"
      },
      "source": [
        "##Funciones aplicables"
      ]
    },
    {
      "cell_type": "code",
      "execution_count": null,
      "metadata": {
        "colab": {
          "base_uri": "https://localhost:8080/"
        },
        "id": "CAGMVC2kBVIz",
        "outputId": "50222223-5933-408d-a8c6-f59eb93acaf2"
      },
      "outputs": [
        {
          "name": "stdout",
          "output_type": "stream",
          "text": [
            "\n",
            " 6\n",
            "\n",
            " 38\n",
            "\n",
            " a     3\n",
            "b     9\n",
            "c    17\n",
            "d    19\n",
            "e    24\n",
            "f    38\n",
            "dtype: int64\n",
            "\n",
            " 2\n",
            "\n",
            " 14\n",
            "\n",
            "  6.333333333333333\n",
            "\n",
            " 4.320493798938574\n",
            "\n",
            " count     6.000000\n",
            "mean      6.333333\n",
            "std       4.320494\n",
            "min       2.000000\n",
            "25%       3.500000\n",
            "50%       5.500000\n",
            "75%       7.500000\n",
            "max      14.000000\n",
            "dtype: float64\n"
          ]
        }
      ],
      "source": [
        "#Ejemplos con serie numérica\n",
        "Ej1=pd.Series([3,6,8,2,5,14],['a','b','c','d','e','f'])\n",
        "print(\"\\n\",Ej1.count())\n",
        "print(\"\\n\",Ej1.sum())\n",
        "print(\"\\n\",Ej1.cumsum())\n",
        "print(\"\\n\",Ej1.min())\n",
        "print(\"\\n\",Ej1.max())\n",
        "print(\"\\n \",Ej1.mean())\n",
        "print(\"\\n\",Ej1.std())\n",
        "print(\"\\n\",Ej1.describe())"
      ]
    },
    {
      "cell_type": "code",
      "execution_count": null,
      "metadata": {
        "colab": {
          "base_uri": "https://localhost:8080/"
        },
        "id": "orvxbmfr2Hj_",
        "outputId": "23427356-914d-4c5f-9cd4-c8d296a9a605"
      },
      "outputs": [
        {
          "data": {
            "text/plain": [
              "count     6.000000\n",
              "mean      6.333333\n",
              "std       4.320494\n",
              "min       2.000000\n",
              "25%       3.500000\n",
              "50%       5.500000\n",
              "75%       7.500000\n",
              "max      14.000000\n",
              "dtype: float64"
            ]
          },
          "execution_count": 38,
          "metadata": {},
          "output_type": "execute_result"
        }
      ],
      "source": [
        "Ej1.describe()"
      ]
    },
    {
      "cell_type": "markdown",
      "metadata": {
        "id": "7X57prnmj6Iy"
      },
      "source": [
        "Con valores de tipo cadena"
      ]
    },
    {
      "cell_type": "code",
      "execution_count": null,
      "metadata": {
        "colab": {
          "base_uri": "https://localhost:8080/"
        },
        "id": "1mSJG3O5EaUV",
        "outputId": "e8aab90a-87c5-4ecd-b67d-33b6b589374d"
      },
      "outputs": [
        {
          "name": "stdout",
          "output_type": "stream",
          "text": [
            "\n",
            " 6\n",
            "\n",
            " abbccdbccdbc\n",
            "\n",
            " 3               ab\n",
            "6             abbc\n",
            "8           abbccd\n",
            "2         abbccdbc\n",
            "7       abbccdbccd\n",
            "14    abbccdbccdbc\n",
            "dtype: object\n",
            "\n",
            " ab\n",
            "\n",
            " cd\n",
            "\n",
            "  count      6\n",
            "unique     3\n",
            "top       bc\n",
            "freq       3\n",
            "dtype: object\n"
          ]
        }
      ],
      "source": [
        "#Ejemplos con serie tipo cadena\n",
        "Ej1=pd.Series(['ab','bc','cd','bc','cd','bc'],[3,6,8,2,7,14])\n",
        "print(\"\\n\",Ej1.count())\n",
        "print(\"\\n\",Ej1.sum())\n",
        "print(\"\\n\",Ej1.cumsum())\n",
        "print(\"\\n\",Ej1.min())\n",
        "print(\"\\n\",Ej1.max())\n",
        "#print(\"\\n\",Ej1.mean())\n",
        "#print(\"\\n\",Ej1.std())\n",
        "print(\"\\n \",Ej1.describe())"
      ]
    },
    {
      "cell_type": "markdown",
      "metadata": {
        "id": "ehPl0qE4GyK5"
      },
      "source": [
        "##Seleccionar/modificar de datos\n",
        "De pueden seleccionar elementos específicos de una serie, ya sea por índice  o por clave"
      ]
    },
    {
      "cell_type": "code",
      "execution_count": null,
      "metadata": {
        "colab": {
          "base_uri": "https://localhost:8080/"
        },
        "id": "bXxYqsypGtp0",
        "outputId": "f1d1243c-33f0-4635-f8f4-465e7624700c"
      },
      "outputs": [
        {
          "data": {
            "text/plain": [
              "a     3\n",
              "b     6\n",
              "c     8\n",
              "d     2\n",
              "e     5\n",
              "f    14\n",
              "dtype: int64"
            ]
          },
          "execution_count": 36,
          "metadata": {},
          "output_type": "execute_result"
        }
      ],
      "source": [
        "Ej1=pd.Series([3,6,8,2,5,14],['a','b','c','d','e','f'])\n",
        "Ej1\n"
      ]
    },
    {
      "cell_type": "code",
      "execution_count": null,
      "metadata": {
        "id": "U8rzcFSSATq_"
      },
      "outputs": [],
      "source": []
    },
    {
      "cell_type": "code",
      "execution_count": null,
      "metadata": {
        "id": "fSJDiIp2ApOF"
      },
      "outputs": [],
      "source": []
    },
    {
      "cell_type": "markdown",
      "metadata": {
        "id": "rVfqYbMjBcCy"
      },
      "source": [
        "###iloc/loc\n",
        "Se uilizan para modificar o seleccionar elementos específicos de una serie, ya sea por índice (iloc) o por clave (loc)\n",
        "Iloc se utiliza para modificar"
      ]
    },
    {
      "cell_type": "code",
      "execution_count": null,
      "metadata": {
        "colab": {
          "base_uri": "https://localhost:8080/"
        },
        "id": "kh7RY1XlCukS",
        "outputId": "a77b682a-5bc4-4692-e088-e3ba96ae9ad5"
      },
      "outputs": [
        {
          "name": "stdout",
          "output_type": "stream",
          "text": [
            "5\n",
            "5\n"
          ]
        },
        {
          "name": "stderr",
          "output_type": "stream",
          "text": [
            "<ipython-input-74-4624fbaf7f98>:4: FutureWarning: Series.__getitem__ treating keys as positions is deprecated. In a future version, integer keys will always be treated as labels (consistent with DataFrame behavior). To access a value by position, use `ser.iloc[pos]`\n",
            "  print(Sc[4])\n"
          ]
        }
      ],
      "source": [
        "## Serie con claves\n",
        "Sc=pd.Series([3,6,8,2,5,14],['a','b','c','d','e','f'])\n",
        "\n",
        "print(Sc[4])\n",
        "print(Sc.iloc[4])\n"
      ]
    },
    {
      "cell_type": "markdown",
      "metadata": {
        "id": "d2c-c0Xdksw3"
      },
      "source": [
        "##Agregar\n",
        "Para agregar datos en una serie que ya tiene claves,solo se agrega la nueva clave con una asignación"
      ]
    },
    {
      "cell_type": "code",
      "execution_count": null,
      "metadata": {
        "colab": {
          "base_uri": "https://localhost:8080/"
        },
        "id": "TH3u8CcpFZfu",
        "outputId": "996dc3b6-ce5e-4029-ecee-1b7aae94d13b"
      },
      "outputs": [
        {
          "data": {
            "text/plain": [
              "a      Gokú\n",
              "b    Vegeta\n",
              "c    Trunks\n",
              "d     Gohan\n",
              "dtype: object"
            ]
          },
          "execution_count": 41,
          "metadata": {},
          "output_type": "execute_result"
        }
      ],
      "source": [
        "Ejemplo=pd.Series(['Gokú','Vegeta','Trunks','Gohan'],['a','b','c','d'])\n",
        "Ejemplo"
      ]
    },
    {
      "cell_type": "code",
      "execution_count": null,
      "metadata": {
        "colab": {
          "base_uri": "https://localhost:8080/"
        },
        "id": "O1lzaq3NJ-rJ",
        "outputId": "ee50704d-f96a-4a70-ee58-6269ffbdfd52"
      },
      "outputs": [
        {
          "data": {
            "text/plain": [
              "a      Gokú\n",
              "b    Vegeta\n",
              "c    Trunks\n",
              "d     Gohan\n",
              "f     Goten\n",
              "dtype: object"
            ]
          },
          "execution_count": 42,
          "metadata": {},
          "output_type": "execute_result"
        }
      ],
      "source": [
        "Ejemplo['f']='Goten'\n",
        "Ejemplo"
      ]
    },
    {
      "cell_type": "code",
      "execution_count": null,
      "metadata": {
        "colab": {
          "base_uri": "https://localhost:8080/"
        },
        "id": "Tw0mQZ_DKK7P",
        "outputId": "1dcbd5e8-08c7-493f-9443-454974d5979e"
      },
      "outputs": [
        {
          "data": {
            "text/plain": [
              "Index([0, 1, 2, 3, 7], dtype='int64')"
            ]
          },
          "execution_count": 43,
          "metadata": {},
          "output_type": "execute_result"
        }
      ],
      "source": [
        "Ejemplo=pd.Series(['Gokú','Vegeta','Trunks','Gohan'])\n",
        "Ejemplo[7]='Goten'\n",
        "Ejemplo.index"
      ]
    },
    {
      "cell_type": "code",
      "execution_count": null,
      "metadata": {
        "id": "DwKnlpObUec5"
      },
      "outputs": [],
      "source": [
        "#¿Como agregrar el indice que sigue?\n"
      ]
    },
    {
      "cell_type": "markdown",
      "metadata": {
        "id": "vjfNKHsYLvyt"
      },
      "source": [
        "## Eliminar (drop-pop)\n",
        "-- Drop: Devuelve una copia de la serie tras eliminar el elemento cuya etiqueta se especifica como argumento\n",
        "\n",
        "-- Pop: Acepta una etiqueta y devuelve el valor correspondiente a dicha etiqueta, eliminándolo de la serie"
      ]
    },
    {
      "cell_type": "code",
      "execution_count": null,
      "metadata": {
        "id": "xLp2wxrx7OUl"
      },
      "outputs": [],
      "source": [
        "import pandas as pd"
      ]
    },
    {
      "cell_type": "code",
      "execution_count": null,
      "metadata": {
        "colab": {
          "base_uri": "https://localhost:8080/",
          "height": 272
        },
        "id": "Yproi6AB7TK0",
        "outputId": "b7f9c1ce-31a0-4dc7-d599-662e363999c9"
      },
      "outputs": [
        {
          "data": {
            "text/html": [
              "<div>\n",
              "<style scoped>\n",
              "    .dataframe tbody tr th:only-of-type {\n",
              "        vertical-align: middle;\n",
              "    }\n",
              "\n",
              "    .dataframe tbody tr th {\n",
              "        vertical-align: top;\n",
              "    }\n",
              "\n",
              "    .dataframe thead th {\n",
              "        text-align: right;\n",
              "    }\n",
              "</style>\n",
              "<table border=\"1\" class=\"dataframe\">\n",
              "  <thead>\n",
              "    <tr style=\"text-align: right;\">\n",
              "      <th></th>\n",
              "      <th>0</th>\n",
              "    </tr>\n",
              "  </thead>\n",
              "  <tbody>\n",
              "    <tr>\n",
              "      <th>a</th>\n",
              "      <td>3</td>\n",
              "    </tr>\n",
              "    <tr>\n",
              "      <th>b</th>\n",
              "      <td>6</td>\n",
              "    </tr>\n",
              "    <tr>\n",
              "      <th>c</th>\n",
              "      <td>8</td>\n",
              "    </tr>\n",
              "    <tr>\n",
              "      <th>d</th>\n",
              "      <td>2</td>\n",
              "    </tr>\n",
              "    <tr>\n",
              "      <th>e</th>\n",
              "      <td>5</td>\n",
              "    </tr>\n",
              "    <tr>\n",
              "      <th>f</th>\n",
              "      <td>14</td>\n",
              "    </tr>\n",
              "  </tbody>\n",
              "</table>\n",
              "</div><br><label><b>dtype:</b> int64</label>"
            ],
            "text/plain": [
              "a     3\n",
              "b     6\n",
              "c     8\n",
              "d     2\n",
              "e     5\n",
              "f    14\n",
              "dtype: int64"
            ]
          },
          "execution_count": 5,
          "metadata": {},
          "output_type": "execute_result"
        }
      ],
      "source": [
        "Ej1=pd.Series([3,6,8,2,5,14],['a','b','c','d','e','f'])\n",
        "Ej1"
      ]
    },
    {
      "cell_type": "code",
      "execution_count": null,
      "metadata": {
        "colab": {
          "base_uri": "https://localhost:8080/",
          "height": 272
        },
        "id": "bBGJ3TuaL0dl",
        "outputId": "6bd910bb-2575-4dee-cc83-63da54c31b25"
      },
      "outputs": [
        {
          "data": {
            "text/html": [
              "<div>\n",
              "<style scoped>\n",
              "    .dataframe tbody tr th:only-of-type {\n",
              "        vertical-align: middle;\n",
              "    }\n",
              "\n",
              "    .dataframe tbody tr th {\n",
              "        vertical-align: top;\n",
              "    }\n",
              "\n",
              "    .dataframe thead th {\n",
              "        text-align: right;\n",
              "    }\n",
              "</style>\n",
              "<table border=\"1\" class=\"dataframe\">\n",
              "  <thead>\n",
              "    <tr style=\"text-align: right;\">\n",
              "      <th></th>\n",
              "      <th>0</th>\n",
              "    </tr>\n",
              "  </thead>\n",
              "  <tbody>\n",
              "    <tr>\n",
              "      <th>a</th>\n",
              "      <td>3</td>\n",
              "    </tr>\n",
              "    <tr>\n",
              "      <th>b</th>\n",
              "      <td>6</td>\n",
              "    </tr>\n",
              "    <tr>\n",
              "      <th>c</th>\n",
              "      <td>8</td>\n",
              "    </tr>\n",
              "    <tr>\n",
              "      <th>d</th>\n",
              "      <td>2</td>\n",
              "    </tr>\n",
              "    <tr>\n",
              "      <th>e</th>\n",
              "      <td>5</td>\n",
              "    </tr>\n",
              "    <tr>\n",
              "      <th>f</th>\n",
              "      <td>14</td>\n",
              "    </tr>\n",
              "  </tbody>\n",
              "</table>\n",
              "</div><br><label><b>dtype:</b> int64</label>"
            ],
            "text/plain": [
              "a     3\n",
              "b     6\n",
              "c     8\n",
              "d     2\n",
              "e     5\n",
              "f    14\n",
              "dtype: int64"
            ]
          },
          "execution_count": 23,
          "metadata": {},
          "output_type": "execute_result"
        }
      ],
      "source": [
        "Ej1=pd.Series([3,6,8,2,5,14],['a','b','c','d','e','f'])\n",
        "##### DROP  ####### Devuelve una copia\n",
        "Ej1.drop(['d','e'])\n",
        "Ej1"
      ]
    },
    {
      "cell_type": "code",
      "execution_count": null,
      "metadata": {
        "colab": {
          "base_uri": "https://localhost:8080/",
          "height": 209
        },
        "id": "VEwNfhfn7ckf",
        "outputId": "7e32e217-2c69-49be-8308-0d3586988c20"
      },
      "outputs": [
        {
          "data": {
            "text/html": [
              "<div>\n",
              "<style scoped>\n",
              "    .dataframe tbody tr th:only-of-type {\n",
              "        vertical-align: middle;\n",
              "    }\n",
              "\n",
              "    .dataframe tbody tr th {\n",
              "        vertical-align: top;\n",
              "    }\n",
              "\n",
              "    .dataframe thead th {\n",
              "        text-align: right;\n",
              "    }\n",
              "</style>\n",
              "<table border=\"1\" class=\"dataframe\">\n",
              "  <thead>\n",
              "    <tr style=\"text-align: right;\">\n",
              "      <th></th>\n",
              "      <th>0</th>\n",
              "    </tr>\n",
              "  </thead>\n",
              "  <tbody>\n",
              "    <tr>\n",
              "      <th>a</th>\n",
              "      <td>3</td>\n",
              "    </tr>\n",
              "    <tr>\n",
              "      <th>b</th>\n",
              "      <td>6</td>\n",
              "    </tr>\n",
              "    <tr>\n",
              "      <th>c</th>\n",
              "      <td>8</td>\n",
              "    </tr>\n",
              "    <tr>\n",
              "      <th>f</th>\n",
              "      <td>14</td>\n",
              "    </tr>\n",
              "  </tbody>\n",
              "</table>\n",
              "</div><br><label><b>dtype:</b> int64</label>"
            ],
            "text/plain": [
              "a     3\n",
              "b     6\n",
              "c     8\n",
              "f    14\n",
              "dtype: int64"
            ]
          },
          "execution_count": 37,
          "metadata": {},
          "output_type": "execute_result"
        }
      ],
      "source": [
        "Ej1=pd.Series([3,6,8,2,5,14],['a','b','c','d','e','f'])\n",
        "##### VAROIANTE DE DROP  ####### Devuelve una copia\n",
        "Ej1.drop(['d','e'],inplace=True) #Atributo de sobreescritura\n",
        "Ej1"
      ]
    },
    {
      "cell_type": "code",
      "execution_count": null,
      "metadata": {
        "colab": {
          "base_uri": "https://localhost:8080/"
        },
        "id": "1dFgMVpQ9gAb",
        "outputId": "1ec259c9-a37d-4673-99f3-53a5635f6406"
      },
      "outputs": [
        {
          "name": "stdout",
          "output_type": "stream",
          "text": [
            "POP\n"
          ]
        },
        {
          "data": {
            "text/plain": [
              "numpy.int64"
            ]
          },
          "execution_count": 30,
          "metadata": {},
          "output_type": "execute_result"
        }
      ],
      "source": [
        "######## POP ##### Borra y retorna el valor\n",
        "Ej2=pd.Series([3,6,8,2,5,14],['a','b','c','d','e','f'])\n",
        "print('POP')\n",
        "DatoEliminar=Ej2.pop('c')\n",
        "type(DatoEliminar)"
      ]
    },
    {
      "cell_type": "code",
      "execution_count": null,
      "metadata": {
        "colab": {
          "base_uri": "https://localhost:8080/",
          "height": 241
        },
        "id": "N_ND4pqq8Rm5",
        "outputId": "98e40546-f878-48e7-fd7c-55402b03c8f6"
      },
      "outputs": [
        {
          "data": {
            "text/html": [
              "<div>\n",
              "<style scoped>\n",
              "    .dataframe tbody tr th:only-of-type {\n",
              "        vertical-align: middle;\n",
              "    }\n",
              "\n",
              "    .dataframe tbody tr th {\n",
              "        vertical-align: top;\n",
              "    }\n",
              "\n",
              "    .dataframe thead th {\n",
              "        text-align: right;\n",
              "    }\n",
              "</style>\n",
              "<table border=\"1\" class=\"dataframe\">\n",
              "  <thead>\n",
              "    <tr style=\"text-align: right;\">\n",
              "      <th></th>\n",
              "      <th>0</th>\n",
              "    </tr>\n",
              "  </thead>\n",
              "  <tbody>\n",
              "    <tr>\n",
              "      <th>a</th>\n",
              "      <td>3</td>\n",
              "    </tr>\n",
              "    <tr>\n",
              "      <th>b</th>\n",
              "      <td>6</td>\n",
              "    </tr>\n",
              "    <tr>\n",
              "      <th>d</th>\n",
              "      <td>2</td>\n",
              "    </tr>\n",
              "    <tr>\n",
              "      <th>e</th>\n",
              "      <td>5</td>\n",
              "    </tr>\n",
              "    <tr>\n",
              "      <th>f</th>\n",
              "      <td>14</td>\n",
              "    </tr>\n",
              "  </tbody>\n",
              "</table>\n",
              "</div><br><label><b>dtype:</b> int64</label>"
            ],
            "text/plain": [
              "a     3\n",
              "b     6\n",
              "d     2\n",
              "e     5\n",
              "f    14\n",
              "dtype: int64"
            ]
          },
          "execution_count": 31,
          "metadata": {},
          "output_type": "execute_result"
        }
      ],
      "source": [
        "Ej2"
      ]
    },
    {
      "cell_type": "code",
      "execution_count": null,
      "metadata": {
        "colab": {
          "base_uri": "https://localhost:8080/"
        },
        "id": "31Vekh1F_waq",
        "outputId": "df32555d-6247-48a5-fd8a-f525f625f1c2"
      },
      "outputs": [
        {
          "name": "stdout",
          "output_type": "stream",
          "text": [
            "Inserte una clavea\n",
            "El valor eliminado es: 3\n"
          ]
        }
      ],
      "source": [
        "Ej1=pd.Series([3,6,8,2,5,14],['a','b','c','d','e','f'])\n",
        "##Programa que pida una clave, la borre de la serie e imprima el mensale\n",
        "##\"El valor eliminado es..\"\n",
        "clave=input('Inserte una clave')\n",
        "eliminado=Ej1.pop(clave)\n",
        "print('El valor eliminado es:',eliminado)"
      ]
    },
    {
      "cell_type": "code",
      "execution_count": null,
      "metadata": {
        "colab": {
          "base_uri": "https://localhost:8080/"
        },
        "id": "taC0SaIeGEQd",
        "outputId": "f454accc-08dc-42c6-a113-b702cf69f679"
      },
      "outputs": [
        {
          "data": {
            "text/plain": [
              "Index(['juan', 'toño', 'mario'], dtype='object')"
            ]
          },
          "execution_count": 55,
          "metadata": {},
          "output_type": "execute_result"
        }
      ],
      "source": [
        "Ej1.index"
      ]
    },
    {
      "cell_type": "code",
      "execution_count": null,
      "metadata": {
        "colab": {
          "base_uri": "https://localhost:8080/"
        },
        "id": "KnMdYFF0DQtj",
        "outputId": "415fbebd-1bea-4ee3-8fe7-df57aed27774"
      },
      "outputs": [
        {
          "name": "stdout",
          "output_type": "stream",
          "text": [
            "1.\n",
            "pepe     1\n",
            "juan     2\n",
            "toño     3\n",
            "maria    4\n",
            "mario    5\n",
            "dtype: int64\n",
            "\n",
            "\n",
            "2.\n",
            "Nombre 1: pepe\n",
            "Edad 1: 1\n",
            "Nombre 3: toño\n",
            "Edad 3: 3\n",
            "\n",
            "\n",
            "3.\n",
            "toño\n",
            "\n",
            "\n",
            "\n",
            "\n",
            "4.\n",
            "1\n",
            "\n",
            "\n",
            "5.\n",
            "pepe     1\n",
            "juan     2\n",
            "toño     3\n",
            "mario    5\n",
            "dtype: int64\n",
            "\n",
            "\n",
            "6.\n",
            "pepe     1\n",
            "juan     2\n",
            "toño     3\n",
            "maria    4\n",
            "dtype: int64\n"
          ]
        }
      ],
      "source": [
        "import pandas as pd\n",
        "Ej1=pd.Series([1,2,3,4,5],['pepe','juan','toño','maria','mario'])\n",
        "#1\n",
        "print('1.')\n",
        "print(Ej1)\n",
        "print('\\n')\n",
        "#2\n",
        "print('2.')\n",
        "print('Nombre 1:',Ej1.index[0])\n",
        "print('Edad 1:',Ej1['pepe'])\n",
        "print('Nombre 3:',Ej1.index[2])\n",
        "print('Edad 3:',Ej1['toño'])\n",
        "print('\\n')\n",
        "#3\n",
        "print('3.')\n",
        "print(Ej1.index[2])\n",
        "print('\\n')\n",
        "Ej2=Ej1.copy()\n",
        "prov1=Ej2.pop('pepe')\n",
        "print('\\n')\n",
        "#4\n",
        "print('4.')\n",
        "print(prov1)\n",
        "prov2=Ej1.drop('maria')\n",
        "print('\\n')\n",
        "#5\n",
        "print('5.')\n",
        "print(prov2)\n",
        "Ej1.pop('mario')\n",
        "print('\\n')\n",
        "#6\n",
        "print('6.')\n",
        "print(Ej1)"
      ]
    },
    {
      "cell_type": "code",
      "execution_count": null,
      "metadata": {
        "colab": {
          "base_uri": "https://localhost:8080/",
          "height": 258
        },
        "id": "j5KITl9P2_fn",
        "outputId": "6c78a238-23f0-4d05-f760-0ff1c0263b4f"
      },
      "outputs": [
        {
          "name": "stdout",
          "output_type": "stream",
          "text": [
            "1.\n"
          ]
        },
        {
          "data": {
            "text/html": [
              "<div>\n",
              "<style scoped>\n",
              "    .dataframe tbody tr th:only-of-type {\n",
              "        vertical-align: middle;\n",
              "    }\n",
              "\n",
              "    .dataframe tbody tr th {\n",
              "        vertical-align: top;\n",
              "    }\n",
              "\n",
              "    .dataframe thead th {\n",
              "        text-align: right;\n",
              "    }\n",
              "</style>\n",
              "<table border=\"1\" class=\"dataframe\">\n",
              "  <thead>\n",
              "    <tr style=\"text-align: right;\">\n",
              "      <th></th>\n",
              "      <th>0</th>\n",
              "    </tr>\n",
              "  </thead>\n",
              "  <tbody>\n",
              "    <tr>\n",
              "      <th>pepe</th>\n",
              "      <td>1</td>\n",
              "    </tr>\n",
              "    <tr>\n",
              "      <th>juan</th>\n",
              "      <td>2</td>\n",
              "    </tr>\n",
              "    <tr>\n",
              "      <th>toño</th>\n",
              "      <td>3</td>\n",
              "    </tr>\n",
              "    <tr>\n",
              "      <th>maria</th>\n",
              "      <td>4</td>\n",
              "    </tr>\n",
              "    <tr>\n",
              "      <th>mario</th>\n",
              "      <td>5</td>\n",
              "    </tr>\n",
              "  </tbody>\n",
              "</table>\n",
              "</div><br><label><b>dtype:</b> int64</label>"
            ],
            "text/plain": [
              "pepe     1\n",
              "juan     2\n",
              "toño     3\n",
              "maria    4\n",
              "mario    5\n",
              "dtype: int64"
            ]
          },
          "execution_count": 37,
          "metadata": {},
          "output_type": "execute_result"
        }
      ],
      "source": [
        "#Generar una serie con los nombres de 5 personas como indice y la edad como valor\n",
        "serie=pd.Series([1,2,3,4,5],['pepe','juan','toño','maria','mario'])\n",
        "print('1.')\n",
        "serie"
      ]
    },
    {
      "cell_type": "code",
      "execution_count": null,
      "metadata": {
        "colab": {
          "base_uri": "https://localhost:8080/",
          "height": 146
        },
        "id": "SDG5UWzr3mCS",
        "outputId": "e9d8eedb-2c21-4645-bba4-4d01196e319a"
      },
      "outputs": [
        {
          "data": {
            "text/html": [
              "<div>\n",
              "<style scoped>\n",
              "    .dataframe tbody tr th:only-of-type {\n",
              "        vertical-align: middle;\n",
              "    }\n",
              "\n",
              "    .dataframe tbody tr th {\n",
              "        vertical-align: top;\n",
              "    }\n",
              "\n",
              "    .dataframe thead th {\n",
              "        text-align: right;\n",
              "    }\n",
              "</style>\n",
              "<table border=\"1\" class=\"dataframe\">\n",
              "  <thead>\n",
              "    <tr style=\"text-align: right;\">\n",
              "      <th></th>\n",
              "      <th>0</th>\n",
              "    </tr>\n",
              "  </thead>\n",
              "  <tbody>\n",
              "    <tr>\n",
              "      <th>pepe</th>\n",
              "      <td>1</td>\n",
              "    </tr>\n",
              "    <tr>\n",
              "      <th>juan</th>\n",
              "      <td>2</td>\n",
              "    </tr>\n",
              "  </tbody>\n",
              "</table>\n",
              "</div><br><label><b>dtype:</b> int64</label>"
            ],
            "text/plain": [
              "pepe    1\n",
              "juan    2\n",
              "dtype: int64"
            ]
          },
          "execution_count": 38,
          "metadata": {},
          "output_type": "execute_result"
        }
      ],
      "source": [
        "serie.iloc[[0,1]]"
      ]
    },
    {
      "cell_type": "code",
      "execution_count": null,
      "metadata": {
        "colab": {
          "base_uri": "https://localhost:8080/",
          "height": 35
        },
        "id": "Qy4ifht85gzo",
        "outputId": "7a5a740c-eefb-4a80-99df-1924638ffdb5"
      },
      "outputs": [
        {
          "data": {
            "application/vnd.google.colaboratory.intrinsic+json": {
              "type": "string"
            },
            "text/plain": [
              "'maria'"
            ]
          },
          "execution_count": 39,
          "metadata": {},
          "output_type": "execute_result"
        }
      ],
      "source": [
        "#Imprimir el nombre de la persona en el lugar 3\n",
        "serie.index[3]"
      ]
    },
    {
      "cell_type": "code",
      "execution_count": null,
      "metadata": {
        "colab": {
          "base_uri": "https://localhost:8080/"
        },
        "id": "kFlwxfX151r1",
        "outputId": "dca8dbae-4b9c-40b9-d30f-c3bc363e6260"
      },
      "outputs": [
        {
          "data": {
            "text/plain": [
              "1"
            ]
          },
          "execution_count": 40,
          "metadata": {},
          "output_type": "execute_result"
        }
      ],
      "source": [
        "#Imprimir la edad de la persona en el lugar 1\n",
        "serie.iloc[0]"
      ]
    },
    {
      "cell_type": "code",
      "execution_count": null,
      "metadata": {
        "colab": {
          "base_uri": "https://localhost:8080/",
          "height": 209
        },
        "id": "OTmbt-8o6Etr",
        "outputId": "1b9241b9-aff0-4e0e-fe19-d07894368f0d"
      },
      "outputs": [
        {
          "data": {
            "text/html": [
              "<div>\n",
              "<style scoped>\n",
              "    .dataframe tbody tr th:only-of-type {\n",
              "        vertical-align: middle;\n",
              "    }\n",
              "\n",
              "    .dataframe tbody tr th {\n",
              "        vertical-align: top;\n",
              "    }\n",
              "\n",
              "    .dataframe thead th {\n",
              "        text-align: right;\n",
              "    }\n",
              "</style>\n",
              "<table border=\"1\" class=\"dataframe\">\n",
              "  <thead>\n",
              "    <tr style=\"text-align: right;\">\n",
              "      <th></th>\n",
              "      <th>0</th>\n",
              "    </tr>\n",
              "  </thead>\n",
              "  <tbody>\n",
              "    <tr>\n",
              "      <th>pepe</th>\n",
              "      <td>1</td>\n",
              "    </tr>\n",
              "    <tr>\n",
              "      <th>juan</th>\n",
              "      <td>2</td>\n",
              "    </tr>\n",
              "    <tr>\n",
              "      <th>toño</th>\n",
              "      <td>3</td>\n",
              "    </tr>\n",
              "    <tr>\n",
              "      <th>mario</th>\n",
              "      <td>5</td>\n",
              "    </tr>\n",
              "  </tbody>\n",
              "</table>\n",
              "</div><br><label><b>dtype:</b> int64</label>"
            ],
            "text/plain": [
              "pepe     1\n",
              "juan     2\n",
              "toño     3\n",
              "mario    5\n",
              "dtype: int64"
            ]
          },
          "execution_count": 41,
          "metadata": {},
          "output_type": "execute_result"
        }
      ],
      "source": [
        "#Eliminar a la persona del lugar 4\n",
        "serie.drop(serie.index[3],inplace=True)\n",
        "serie"
      ]
    },
    {
      "cell_type": "code",
      "execution_count": null,
      "metadata": {
        "colab": {
          "base_uri": "https://localhost:8080/",
          "height": 178
        },
        "id": "OBmCx4i87_VR",
        "outputId": "b72eaf40-fb7b-49ec-a5c2-04c3ee44c13a"
      },
      "outputs": [
        {
          "data": {
            "text/html": [
              "<div>\n",
              "<style scoped>\n",
              "    .dataframe tbody tr th:only-of-type {\n",
              "        vertical-align: middle;\n",
              "    }\n",
              "\n",
              "    .dataframe tbody tr th {\n",
              "        vertical-align: top;\n",
              "    }\n",
              "\n",
              "    .dataframe thead th {\n",
              "        text-align: right;\n",
              "    }\n",
              "</style>\n",
              "<table border=\"1\" class=\"dataframe\">\n",
              "  <thead>\n",
              "    <tr style=\"text-align: right;\">\n",
              "      <th></th>\n",
              "      <th>0</th>\n",
              "    </tr>\n",
              "  </thead>\n",
              "  <tbody>\n",
              "    <tr>\n",
              "      <th>Juan</th>\n",
              "      <td>43</td>\n",
              "    </tr>\n",
              "    <tr>\n",
              "      <th>Maria</th>\n",
              "      <td>23</td>\n",
              "    </tr>\n",
              "    <tr>\n",
              "      <th>Pedro</th>\n",
              "      <td>70</td>\n",
              "    </tr>\n",
              "  </tbody>\n",
              "</table>\n",
              "</div><br><label><b>dtype:</b> int64</label>"
            ],
            "text/plain": [
              "Juan     43\n",
              "Maria    23\n",
              "Pedro    70\n",
              "dtype: int64"
            ]
          },
          "execution_count": 48,
          "metadata": {},
          "output_type": "execute_result"
        }
      ],
      "source": [
        "serie=pd.Series([43,23,70,12],['Juan','Maria','Pedro','Bonifacio'])\n",
        "serie.pop(serie.index[serie.size-1])\n",
        "serie"
      ]
    },
    {
      "cell_type": "code",
      "execution_count": null,
      "metadata": {
        "colab": {
          "base_uri": "https://localhost:8080/"
        },
        "id": "8bzWMMmEF7f0",
        "outputId": "b897a916-c56c-48b2-dd68-7d2e4d1f92bc"
      },
      "outputs": [
        {
          "name": "stdout",
          "output_type": "stream",
          "text": [
            "[NbConvertApp] Converting notebook 2_1_1_Series.ipynb to html\n",
            "[NbConvertApp] Writing 660840 bytes to 2_1_1_Series.html\n"
          ]
        },
        {
          "data": {
            "text/plain": []
          },
          "execution_count": 49,
          "metadata": {},
          "output_type": "execute_result"
        }
      ],
      "source": [
        "%%shell\n",
        "jupyter nbconvert --to html 2_1_1_Series.ipynb"
      ]
    },
    {
      "cell_type": "code",
      "execution_count": null,
      "metadata": {
        "id": "KhXLDdB3imQ1"
      },
      "outputs": [],
      "source": []
    }
  ],
  "metadata": {
    "colab": {
      "provenance": []
    },
    "kernelspec": {
      "display_name": "Python 3",
      "name": "python3"
    },
    "language_info": {
      "name": "python"
    }
  },
  "nbformat": 4,
  "nbformat_minor": 0
}
