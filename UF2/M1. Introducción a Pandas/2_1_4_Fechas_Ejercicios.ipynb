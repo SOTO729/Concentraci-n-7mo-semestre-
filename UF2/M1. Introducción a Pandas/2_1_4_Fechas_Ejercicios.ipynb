{
  "nbformat": 4,
  "nbformat_minor": 0,
  "metadata": {
    "colab": {
      "provenance": []
    },
    "kernelspec": {
      "name": "python3",
      "display_name": "Python 3"
    },
    "language_info": {
      "name": "python"
    }
  },
  "cells": [
    {
      "cell_type": "markdown",
      "source": [
        "# Formato Fecha\n",
        "Python tiene dos funciones que permite trabajar con fechas:\n",
        "\n",
        "`datetime:` Para manejar dia, mes, año, hora, minutos, segundos\n",
        "\n",
        "`timedelta: `Para manejar espacios entre fechas (dias, semanas)\n",
        "\n",
        "No es necesario importar pandas para utilizar estas dos funciones"
      ],
      "metadata": {
        "id": "ub6LLQIwd-2x"
      }
    },
    {
      "cell_type": "markdown",
      "source": [
        "##Datetime"
      ],
      "metadata": {
        "id": "klTbyA3zxUMi"
      }
    },
    {
      "cell_type": "code",
      "source": [
        "from datetime import date, time, datetime, timedelta"
      ],
      "metadata": {
        "id": "ds9vCeu2hWl9"
      },
      "execution_count": null,
      "outputs": []
    },
    {
      "cell_type": "code",
      "source": [
        "#Formato normal\n",
        "#Año, mes, día, hora, minuto, segundos\n",
        "#Datetime genera una fecha completa (fecha-hora)\n",
        "ej=datetime(2020,5,15,15,30,5)\n",
        "print(\"Ejemplo DateTime: \",ej)\n",
        "\n",
        "#Horas\n",
        "#date genera solo una fecha (año, mes, dia)\n",
        "ejFecha=date(2020,5,15)\n",
        "print(\"Ejemplo Fecha: \",ejFecha)\n",
        "\n",
        "#time genera solo una hora (hora, minuto, segundo)\n",
        "ejHora=time(15,30,5)\n",
        "print(\"Ejemplo Hora: \",ejHora)"
      ],
      "metadata": {
        "id": "i2tj3KcYhdMr",
        "colab": {
          "base_uri": "https://localhost:8080/"
        },
        "outputId": "00bf9d87-f516-4f03-a7dd-c2e432f2ccb0"
      },
      "execution_count": null,
      "outputs": [
        {
          "output_type": "stream",
          "name": "stdout",
          "text": [
            "Ejemplo DateTime:  2020-05-15 15:30:05\n",
            "Ejemplo Fecha:  2020-05-15\n",
            "Ejemplo Hora:  15:30:05\n"
          ]
        }
      ]
    },
    {
      "cell_type": "code",
      "source": [
        "#Para imprimir la fecha actual: .now()\n",
        "#Se imprime la fecha y hora del servidor\n",
        "fechaActual=datetime.now()\n",
        "print(\"Fecha actual: \",fechaActual)\n",
        "\n",
        "#De este modo se pueden extraer caracteristicas específicas de una fecha específica\n",
        "print(\"Solo fecha actual: \",fechaActual.date())\n",
        "print(\"Solo hora actual: \",fechaActual.time())\n",
        "print(fechaActual.year)\n",
        "print(fechaActual.month)"
      ],
      "metadata": {
        "id": "9dupA0oShuV9",
        "colab": {
          "base_uri": "https://localhost:8080/"
        },
        "outputId": "ccc05d2a-6c65-4bbd-d7ca-b7b438066193"
      },
      "execution_count": null,
      "outputs": [
        {
          "output_type": "stream",
          "name": "stdout",
          "text": [
            "Fecha actual:  2024-08-14 22:28:08.594868\n",
            "Solo fecha actual:  2024-08-14\n",
            "Solo hora actual:  22:28:08.594868\n",
            "2024\n",
            "8\n"
          ]
        }
      ]
    },
    {
      "cell_type": "markdown",
      "source": [
        "###Ejercicio 1\n",
        "1. Genera una nueva fecha (datetime) con tu fecha de nacimiento.\n",
        "2. Obtén el mes y el año en nuevas variables. Imprime \"Nací en el mes número MES en el año ANIO\". Ejemplo: \"***Nací en el mes número 11 en el año de 1987***\"\n",
        "3. Calcula los años que tienes(utiliza la fecha actual para el cálculo) Ejemplo: **\"Tengo 37 Años\"**\n"
      ],
      "metadata": {
        "id": "EYjRN-Nw5w3w"
      }
    },
    {
      "cell_type": "code",
      "source": [
        "#Resuelve el ejercicio aquí:\n",
        "nacimiento=datetime(2002,8,16,20,30,5)\n",
        "print(\"Nací en el mes número\",nacimiento.month,'en el año',nacimiento.year)"
      ],
      "metadata": {
        "id": "kgj16C7U6Eor",
        "colab": {
          "base_uri": "https://localhost:8080/"
        },
        "outputId": "5d7bdc44-b3e2-4dc2-a914-31f546a0797c"
      },
      "execution_count": null,
      "outputs": [
        {
          "output_type": "stream",
          "name": "stdout",
          "text": [
            "Nací en el mes número 8 en el año 2002\n"
          ]
        }
      ]
    },
    {
      "cell_type": "code",
      "source": [],
      "metadata": {
        "id": "KUJ5Nbc4Bfpw"
      },
      "execution_count": null,
      "outputs": []
    },
    {
      "cell_type": "code",
      "source": [
        "actual=datetime.now()\n",
        "actual2=datetime(2024,8,16,20,30,5)\n",
        "print('Tengo',actual.year-nacimiento.year,'años')\n",
        "print('Tengo',actual2.year-nacimiento.year,'años')"
      ],
      "metadata": {
        "colab": {
          "base_uri": "https://localhost:8080/"
        },
        "id": "lbJrz0gSBJvV",
        "outputId": "5f7b9f8c-67fe-4810-bcdd-a424c84afd8d"
      },
      "execution_count": null,
      "outputs": [
        {
          "output_type": "stream",
          "name": "stdout",
          "text": [
            "Tengo 22 años\n",
            "Tengo 22 años\n"
          ]
        }
      ]
    },
    {
      "cell_type": "markdown",
      "source": [
        "##timedelta\n",
        "\n",
        "Dada una fecha y un lapso de tiempo, regresa la fecha resultante de sumar el lapso de tiempo a la fecha inicial.\n",
        "\n",
        "`datetime.timedelta(days=0, seconds=0, microseconds=0, milliseconds=0, minutes=0, hours=0, weeks=0)`"
      ],
      "metadata": {
        "id": "WWmS-0F-nDuo"
      }
    },
    {
      "cell_type": "code",
      "source": [
        "ejemplo=datetime(2022,2,25,10,45)\n",
        "print(\"\\n\\ntimedelta--------------Ejemplos \\n\")\n",
        "print(\"Diferencia de fechas: \",ejemplo+timedelta(days=10, hours=10))\n",
        "print(\"Diferencia de fechas: \",ejemplo+timedelta(days=10, hours=10, weeks=5))\n",
        "print(\"Diferencia de horas: \",ejemplo+timedelta(hours=10))"
      ],
      "metadata": {
        "id": "rubFzjn-h8w5",
        "colab": {
          "base_uri": "https://localhost:8080/"
        },
        "outputId": "28e11140-a45d-4473-8eb7-2e0a0cbfe888"
      },
      "execution_count": null,
      "outputs": [
        {
          "output_type": "stream",
          "name": "stdout",
          "text": [
            "\n",
            "\n",
            "timedelta--------------Ejemplos \n",
            "\n",
            "Diferencia de fechas:  2022-03-07 20:45:00\n",
            "Diferencia de fechas:  2022-04-11 20:45:00\n",
            "Diferencia de horas:  2022-02-25 20:45:00\n"
          ]
        }
      ]
    },
    {
      "cell_type": "markdown",
      "source": [
        "###Ejercicio 2\n",
        "Calcula las fechas que serán contando a partir de hoy....\n",
        "1. 15 semanas\n",
        "2. 27 días\n",
        "3. 2 semanas, 5 días y 23 hrs"
      ],
      "metadata": {
        "id": "Vo0dy3Y-6Kq9"
      }
    },
    {
      "cell_type": "code",
      "source": [
        "#Resuelve aquí el ejercicio\n",
        "hoy=datetime.now()\n",
        "print('15 semanas: ',hoy+timedelta(weeks=15))\n",
        "print('27 días: ',hoy+timedelta(days=27))\n",
        "print('2 semanas, 5 días y 23 hrs: ',hoy+timedelta(weeks=2,days=5,hours=23))"
      ],
      "metadata": {
        "id": "ceBTUKrr6cpA",
        "colab": {
          "base_uri": "https://localhost:8080/"
        },
        "outputId": "c7ccd581-ea4c-4fff-eb2f-7fc448dc5f64"
      },
      "execution_count": null,
      "outputs": [
        {
          "output_type": "stream",
          "name": "stdout",
          "text": [
            "15 semanas:  2024-11-27 22:35:36.292431\n",
            "27 días:  2024-09-10 22:35:36.292431\n",
            "2 semanas, 5 días y 23 hrs:  2024-09-03 21:35:36.292431\n"
          ]
        }
      ]
    },
    {
      "cell_type": "markdown",
      "source": [
        "##Formato para fechas\n",
        "Para imprimir una fecha en diferente formato, se utiliza la función `strftime`. Verifica la página https://aprendeconalf.es/docencia/python/manual/datetime/#conversi%C3%B3n-de-fechas-en-cadenas-con-diferentes-formatos para verificar los parámetros que acepta\n"
      ],
      "metadata": {
        "id": "WK3UUL_ui782"
      }
    },
    {
      "cell_type": "code",
      "source": [
        "ejFormato=datetime(2020,10,15,15,8)\n",
        "print(\"Formato normal: \", ejFormato)\n",
        "print(\"Formato cambiado: \", ejFormato.strftime('Son las %I %p, día: %A, mes: %B'))\n",
        "print(\"Formato cambiado: \", ejFormato.strftime('%A, %d %B, %Y'))"
      ],
      "metadata": {
        "id": "45dnStj9i7LP",
        "colab": {
          "base_uri": "https://localhost:8080/"
        },
        "outputId": "21248316-8f82-463f-94e9-98e3c372724e"
      },
      "execution_count": null,
      "outputs": [
        {
          "output_type": "stream",
          "name": "stdout",
          "text": [
            "Formato normal:  2020-10-15 15:08:00\n",
            "Formato cambiado:  Son las 03 PM, día: Thursday, mes: October\n",
            "Formato cambiado:  Thursday, 15 October, 2020\n"
          ]
        }
      ]
    },
    {
      "cell_type": "markdown",
      "source": [
        "###Ejercicio 3\n",
        "Imprime lo siguiente (utiliza la variable donde almacenaste tu fecha de nacimiento):\n",
        "1. \"Yo nací un DIA(Nombre) DIA de MES(Nombre) en el año AÑO\". Ejemplo: ***Yo nací un Monday 23 de November en el año 1987***\n",
        "2. \"Mi fecha de nacimiento es DIA(Numero)--MES(Numero)--AÑO(2Digitos)\". Ejemplo: ***Mi fecha de nacimiento es 23--Nov--87***"
      ],
      "metadata": {
        "id": "yGBuFJwR6ji3"
      }
    },
    {
      "cell_type": "code",
      "source": [
        "#Resuelve el ejercicio aquí\n",
        "nacimiento\n",
        "print('1. Yo nací un',nacimiento.strftime('%A %d'),'de',nacimiento.strftime('%B'),'en el año',nacimiento.year)\n",
        "print('2. Mi fecha de nacimiento es',nacimiento.strftime('%d--%b--%y'))"
      ],
      "metadata": {
        "id": "DdbGXYaM65Ze",
        "colab": {
          "base_uri": "https://localhost:8080/"
        },
        "outputId": "705cf2c2-3754-4f44-c68d-cd23f5a2f19d"
      },
      "execution_count": null,
      "outputs": [
        {
          "output_type": "stream",
          "name": "stdout",
          "text": [
            "1. Yo nací un Friday 16 de August en el año 2002\n",
            "2. Mi fecha de nacimiento es 16--Aug--02\n"
          ]
        }
      ]
    },
    {
      "cell_type": "markdown",
      "source": [
        "Pasar cadena a fecha\n",
        "\n",
        "Se siguen utilizando los parámetros de la página anterior, pepro lal función es s`trptime`"
      ],
      "metadata": {
        "id": "8QFHaf6jypF7"
      }
    },
    {
      "cell_type": "code",
      "source": [
        "print(\"\\n\\nCadenas en fechas\\n\")\n",
        "cad='2022-8-18 13:15:45'\n",
        "#datetime.strptime(FormatoDeCadena, FormatoCon ParametrosDeFecha)\n",
        "newdate=datetime.strptime('2020-4-15 20:50:30', '%Y-%m-%d %H:%M:%S')\n",
        "print(\"Nueva fecha: \",newdate)\n",
        "\n",
        "#Al utilizar strptime, se debe de tener cuidado de que la cadena cumpla con el patrón descrito\n",
        "newdate2=datetime.strptime('Son las 03 PM, día: Thursday, mes: October', 'Son las %I %p, día: %A, mes: %B')\n",
        "print(\"Nueva fecha: \",newdate2)"
      ],
      "metadata": {
        "id": "p3aE6HaHjHPe",
        "colab": {
          "base_uri": "https://localhost:8080/"
        },
        "outputId": "8e83e3f2-24c2-4561-8fd1-07f6c54f90eb"
      },
      "execution_count": null,
      "outputs": [
        {
          "output_type": "stream",
          "name": "stdout",
          "text": [
            "\n",
            "\n",
            "Cadenas en fechas\n",
            "\n",
            "Nueva fecha:  2020-04-15 20:50:30\n",
            "Nueva fecha:  1900-10-01 15:00:00\n"
          ]
        }
      ]
    },
    {
      "cell_type": "markdown",
      "source": [
        "###Ejercicio 4\n",
        "Extrae las fechas de las siguientes cadenas (guardalos en variables de tipo fecha)\n",
        "1. \"Hoy es Monday 23 de January de 2022\"\n",
        "2. \"12 de February del 2000\""
      ],
      "metadata": {
        "id": "MrVC3KRy7Aum"
      }
    },
    {
      "cell_type": "code",
      "source": [
        "#Resuelve aquí tu ejercicio\n",
        "cad1=\"Hoy es Monday 23 de January de 2022\"\n",
        "newdate=datetime.strptime(cad1, 'Hoy es %A %d de %B de %Y')\n",
        "print(newdate)\n",
        "cad2=\"12 de February del 2000\"\n",
        "newdate2=datetime.strptime(cad2, '%d de %B del %Y')\n",
        "print(newdate2)\n"
      ],
      "metadata": {
        "id": "F2SnVihK6ktI",
        "colab": {
          "base_uri": "https://localhost:8080/"
        },
        "outputId": "55d6a6fd-970a-4b00-8e28-63250c7be852"
      },
      "execution_count": null,
      "outputs": [
        {
          "output_type": "stream",
          "name": "stdout",
          "text": [
            "2022-01-23 00:00:00\n",
            "2000-02-12 00:00:00\n"
          ]
        }
      ]
    },
    {
      "cell_type": "markdown",
      "source": [
        "##Fechas en DataFrame\n",
        "Se utiliza la función `to_datetime` para convertir una columna tipo cadena a una tipo fecha"
      ],
      "metadata": {
        "id": "JB6wJZxsjJsU"
      }
    },
    {
      "cell_type": "code",
      "source": [
        "import pandas as pd\n",
        "from pandas import DataFrame\n",
        "\n",
        "data = {'FechaTexto': ['2021-01-15', '1989-05-24','2020-01-18', '2021-01-15','1999-04-04','2001-08-07']}\n",
        "fr=pd.DataFrame(data,index=['a','b','c','d','e','f'])\n",
        "\n",
        "#Se imprime el tipo de dato en la columna (cadena)\n",
        "fr['FechaTexto'].dtype"
      ],
      "metadata": {
        "id": "Q0RhpbryjXK0",
        "colab": {
          "base_uri": "https://localhost:8080/"
        },
        "outputId": "1e3611aa-c3ef-48c5-a987-f5b5355ac722"
      },
      "execution_count": null,
      "outputs": [
        {
          "output_type": "execute_result",
          "data": {
            "text/plain": [
              "dtype('O')"
            ]
          },
          "metadata": {},
          "execution_count": 70
        }
      ]
    },
    {
      "cell_type": "code",
      "source": [
        "#La función pd.to_datetime permite pasar a tipo fecha la columna, generando el formato correspondiente\n",
        "fr['FechaHora']=pd.to_datetime(fr['FechaTexto'], format=\"%Y-%m-%d\")\n",
        "print(fr)\n",
        "fr['FechaHora'].dtype"
      ],
      "metadata": {
        "id": "cVzN9CoajvnN",
        "colab": {
          "base_uri": "https://localhost:8080/"
        },
        "outputId": "39c66114-4e83-4424-e532-d48b420fade1"
      },
      "execution_count": null,
      "outputs": [
        {
          "output_type": "stream",
          "name": "stdout",
          "text": [
            "   FechaTexto  FechaHora\n",
            "a  2021-01-15 2021-01-15\n",
            "b  1989-05-24 1989-05-24\n",
            "c  2020-01-18 2020-01-18\n",
            "d  2021-01-15 2021-01-15\n",
            "e  1999-04-04 1999-04-04\n",
            "f  2001-08-07 2001-08-07\n"
          ]
        },
        {
          "output_type": "execute_result",
          "data": {
            "text/plain": [
              "dtype('<M8[ns]')"
            ]
          },
          "metadata": {},
          "execution_count": 71
        }
      ]
    },
    {
      "cell_type": "code",
      "source": [
        "\"En formato fecha, se pueden imprimir con otra estructura, con la función dtrftime\"\n",
        "Ej=fr.loc['b','FechaHora']\n",
        "print(Ej)\n",
        "\n",
        "print('\\n',Ej.strftime('Hoy es %A, %d de %m de %Y'))"
      ],
      "metadata": {
        "id": "M7JyE8QdkqYX",
        "colab": {
          "base_uri": "https://localhost:8080/"
        },
        "outputId": "3fd024d1-c90c-4a72-cf33-e569559c84c0"
      },
      "execution_count": null,
      "outputs": [
        {
          "output_type": "stream",
          "name": "stdout",
          "text": [
            "1989-05-24 00:00:00\n",
            "\n",
            " Hoy es Wednesday, 24 de 05 de 1989\n"
          ]
        }
      ]
    },
    {
      "cell_type": "code",
      "source": [
        "#También se pueden extraer otros elementos de la columna, como el mes o el año, agregando dt\n",
        "fr['year']=fr['FechaHora'].dt.year\n",
        "fr['mes']=fr['FechaHora'].dt.month\n",
        "print(fr)\n",
        "fr.info()"
      ],
      "metadata": {
        "id": "GRNn9Ou9ml7I",
        "colab": {
          "base_uri": "https://localhost:8080/"
        },
        "outputId": "e66c476d-d54e-4bbc-bb2d-aa556fda67b2"
      },
      "execution_count": null,
      "outputs": [
        {
          "output_type": "stream",
          "name": "stdout",
          "text": [
            "   FechaTexto  FechaHora  year  mes\n",
            "a  2021-01-15 2021-01-15  2021    1\n",
            "b  1989-05-24 1989-05-24  1989    5\n",
            "c  2020-01-18 2020-01-18  2020    1\n",
            "d  2021-01-15 2021-01-15  2021    1\n",
            "e  1999-04-04 1999-04-04  1999    4\n",
            "f  2001-08-07 2001-08-07  2001    8\n",
            "<class 'pandas.core.frame.DataFrame'>\n",
            "Index: 6 entries, a to f\n",
            "Data columns (total 4 columns):\n",
            " #   Column      Non-Null Count  Dtype         \n",
            "---  ------      --------------  -----         \n",
            " 0   FechaTexto  6 non-null      object        \n",
            " 1   FechaHora   6 non-null      datetime64[ns]\n",
            " 2   year        6 non-null      int32         \n",
            " 3   mes         6 non-null      int32         \n",
            "dtypes: datetime64[ns](1), int32(2), object(1)\n",
            "memory usage: 364.0+ bytes\n"
          ]
        }
      ]
    },
    {
      "cell_type": "markdown",
      "source": [
        "### Ejercicio 5\n",
        "1. Agrega al siguiente dataframe una columna con el texto en formato fecha\n",
        "2. Imprime la fecha de la fila 'b' con el formato \"Hoy es DIA de MES\""
      ],
      "metadata": {
        "id": "It2tebMz7krZ"
      }
    },
    {
      "cell_type": "code",
      "source": [
        "import pandas as pd\n",
        "from pandas import DataFrame\n",
        "\n",
        "data = {'FechaTexto': ['9/January/1998', '15/November/2001','1/July/2015']}\n",
        "Ej=pd.DataFrame(data,index=['a','b','c'])\n",
        "Ej"
      ],
      "metadata": {
        "id": "PXnG5zDyhTTg",
        "colab": {
          "base_uri": "https://localhost:8080/",
          "height": 143
        },
        "outputId": "1a4fffc7-717b-4877-80d8-e662ea01b68d"
      },
      "execution_count": null,
      "outputs": [
        {
          "output_type": "execute_result",
          "data": {
            "text/plain": [
              "         FechaTexto\n",
              "a    9/January/1998\n",
              "b  15/November/2001\n",
              "c       1/July/2015"
            ],
            "text/html": [
              "\n",
              "  <div id=\"df-7481acb3-4980-47f2-8fb8-8ed6ab4a7457\" class=\"colab-df-container\">\n",
              "    <div>\n",
              "<style scoped>\n",
              "    .dataframe tbody tr th:only-of-type {\n",
              "        vertical-align: middle;\n",
              "    }\n",
              "\n",
              "    .dataframe tbody tr th {\n",
              "        vertical-align: top;\n",
              "    }\n",
              "\n",
              "    .dataframe thead th {\n",
              "        text-align: right;\n",
              "    }\n",
              "</style>\n",
              "<table border=\"1\" class=\"dataframe\">\n",
              "  <thead>\n",
              "    <tr style=\"text-align: right;\">\n",
              "      <th></th>\n",
              "      <th>FechaTexto</th>\n",
              "    </tr>\n",
              "  </thead>\n",
              "  <tbody>\n",
              "    <tr>\n",
              "      <th>a</th>\n",
              "      <td>9/January/1998</td>\n",
              "    </tr>\n",
              "    <tr>\n",
              "      <th>b</th>\n",
              "      <td>15/November/2001</td>\n",
              "    </tr>\n",
              "    <tr>\n",
              "      <th>c</th>\n",
              "      <td>1/July/2015</td>\n",
              "    </tr>\n",
              "  </tbody>\n",
              "</table>\n",
              "</div>\n",
              "    <div class=\"colab-df-buttons\">\n",
              "\n",
              "  <div class=\"colab-df-container\">\n",
              "    <button class=\"colab-df-convert\" onclick=\"convertToInteractive('df-7481acb3-4980-47f2-8fb8-8ed6ab4a7457')\"\n",
              "            title=\"Convert this dataframe to an interactive table.\"\n",
              "            style=\"display:none;\">\n",
              "\n",
              "  <svg xmlns=\"http://www.w3.org/2000/svg\" height=\"24px\" viewBox=\"0 -960 960 960\">\n",
              "    <path d=\"M120-120v-720h720v720H120Zm60-500h600v-160H180v160Zm220 220h160v-160H400v160Zm0 220h160v-160H400v160ZM180-400h160v-160H180v160Zm440 0h160v-160H620v160ZM180-180h160v-160H180v160Zm440 0h160v-160H620v160Z\"/>\n",
              "  </svg>\n",
              "    </button>\n",
              "\n",
              "  <style>\n",
              "    .colab-df-container {\n",
              "      display:flex;\n",
              "      gap: 12px;\n",
              "    }\n",
              "\n",
              "    .colab-df-convert {\n",
              "      background-color: #E8F0FE;\n",
              "      border: none;\n",
              "      border-radius: 50%;\n",
              "      cursor: pointer;\n",
              "      display: none;\n",
              "      fill: #1967D2;\n",
              "      height: 32px;\n",
              "      padding: 0 0 0 0;\n",
              "      width: 32px;\n",
              "    }\n",
              "\n",
              "    .colab-df-convert:hover {\n",
              "      background-color: #E2EBFA;\n",
              "      box-shadow: 0px 1px 2px rgba(60, 64, 67, 0.3), 0px 1px 3px 1px rgba(60, 64, 67, 0.15);\n",
              "      fill: #174EA6;\n",
              "    }\n",
              "\n",
              "    .colab-df-buttons div {\n",
              "      margin-bottom: 4px;\n",
              "    }\n",
              "\n",
              "    [theme=dark] .colab-df-convert {\n",
              "      background-color: #3B4455;\n",
              "      fill: #D2E3FC;\n",
              "    }\n",
              "\n",
              "    [theme=dark] .colab-df-convert:hover {\n",
              "      background-color: #434B5C;\n",
              "      box-shadow: 0px 1px 3px 1px rgba(0, 0, 0, 0.15);\n",
              "      filter: drop-shadow(0px 1px 2px rgba(0, 0, 0, 0.3));\n",
              "      fill: #FFFFFF;\n",
              "    }\n",
              "  </style>\n",
              "\n",
              "    <script>\n",
              "      const buttonEl =\n",
              "        document.querySelector('#df-7481acb3-4980-47f2-8fb8-8ed6ab4a7457 button.colab-df-convert');\n",
              "      buttonEl.style.display =\n",
              "        google.colab.kernel.accessAllowed ? 'block' : 'none';\n",
              "\n",
              "      async function convertToInteractive(key) {\n",
              "        const element = document.querySelector('#df-7481acb3-4980-47f2-8fb8-8ed6ab4a7457');\n",
              "        const dataTable =\n",
              "          await google.colab.kernel.invokeFunction('convertToInteractive',\n",
              "                                                    [key], {});\n",
              "        if (!dataTable) return;\n",
              "\n",
              "        const docLinkHtml = 'Like what you see? Visit the ' +\n",
              "          '<a target=\"_blank\" href=https://colab.research.google.com/notebooks/data_table.ipynb>data table notebook</a>'\n",
              "          + ' to learn more about interactive tables.';\n",
              "        element.innerHTML = '';\n",
              "        dataTable['output_type'] = 'display_data';\n",
              "        await google.colab.output.renderOutput(dataTable, element);\n",
              "        const docLink = document.createElement('div');\n",
              "        docLink.innerHTML = docLinkHtml;\n",
              "        element.appendChild(docLink);\n",
              "      }\n",
              "    </script>\n",
              "  </div>\n",
              "\n",
              "\n",
              "<div id=\"df-0c15b2ba-5929-43c1-b080-3e5cfc6df1e4\">\n",
              "  <button class=\"colab-df-quickchart\" onclick=\"quickchart('df-0c15b2ba-5929-43c1-b080-3e5cfc6df1e4')\"\n",
              "            title=\"Suggest charts\"\n",
              "            style=\"display:none;\">\n",
              "\n",
              "<svg xmlns=\"http://www.w3.org/2000/svg\" height=\"24px\"viewBox=\"0 0 24 24\"\n",
              "     width=\"24px\">\n",
              "    <g>\n",
              "        <path d=\"M19 3H5c-1.1 0-2 .9-2 2v14c0 1.1.9 2 2 2h14c1.1 0 2-.9 2-2V5c0-1.1-.9-2-2-2zM9 17H7v-7h2v7zm4 0h-2V7h2v10zm4 0h-2v-4h2v4z\"/>\n",
              "    </g>\n",
              "</svg>\n",
              "  </button>\n",
              "\n",
              "<style>\n",
              "  .colab-df-quickchart {\n",
              "      --bg-color: #E8F0FE;\n",
              "      --fill-color: #1967D2;\n",
              "      --hover-bg-color: #E2EBFA;\n",
              "      --hover-fill-color: #174EA6;\n",
              "      --disabled-fill-color: #AAA;\n",
              "      --disabled-bg-color: #DDD;\n",
              "  }\n",
              "\n",
              "  [theme=dark] .colab-df-quickchart {\n",
              "      --bg-color: #3B4455;\n",
              "      --fill-color: #D2E3FC;\n",
              "      --hover-bg-color: #434B5C;\n",
              "      --hover-fill-color: #FFFFFF;\n",
              "      --disabled-bg-color: #3B4455;\n",
              "      --disabled-fill-color: #666;\n",
              "  }\n",
              "\n",
              "  .colab-df-quickchart {\n",
              "    background-color: var(--bg-color);\n",
              "    border: none;\n",
              "    border-radius: 50%;\n",
              "    cursor: pointer;\n",
              "    display: none;\n",
              "    fill: var(--fill-color);\n",
              "    height: 32px;\n",
              "    padding: 0;\n",
              "    width: 32px;\n",
              "  }\n",
              "\n",
              "  .colab-df-quickchart:hover {\n",
              "    background-color: var(--hover-bg-color);\n",
              "    box-shadow: 0 1px 2px rgba(60, 64, 67, 0.3), 0 1px 3px 1px rgba(60, 64, 67, 0.15);\n",
              "    fill: var(--button-hover-fill-color);\n",
              "  }\n",
              "\n",
              "  .colab-df-quickchart-complete:disabled,\n",
              "  .colab-df-quickchart-complete:disabled:hover {\n",
              "    background-color: var(--disabled-bg-color);\n",
              "    fill: var(--disabled-fill-color);\n",
              "    box-shadow: none;\n",
              "  }\n",
              "\n",
              "  .colab-df-spinner {\n",
              "    border: 2px solid var(--fill-color);\n",
              "    border-color: transparent;\n",
              "    border-bottom-color: var(--fill-color);\n",
              "    animation:\n",
              "      spin 1s steps(1) infinite;\n",
              "  }\n",
              "\n",
              "  @keyframes spin {\n",
              "    0% {\n",
              "      border-color: transparent;\n",
              "      border-bottom-color: var(--fill-color);\n",
              "      border-left-color: var(--fill-color);\n",
              "    }\n",
              "    20% {\n",
              "      border-color: transparent;\n",
              "      border-left-color: var(--fill-color);\n",
              "      border-top-color: var(--fill-color);\n",
              "    }\n",
              "    30% {\n",
              "      border-color: transparent;\n",
              "      border-left-color: var(--fill-color);\n",
              "      border-top-color: var(--fill-color);\n",
              "      border-right-color: var(--fill-color);\n",
              "    }\n",
              "    40% {\n",
              "      border-color: transparent;\n",
              "      border-right-color: var(--fill-color);\n",
              "      border-top-color: var(--fill-color);\n",
              "    }\n",
              "    60% {\n",
              "      border-color: transparent;\n",
              "      border-right-color: var(--fill-color);\n",
              "    }\n",
              "    80% {\n",
              "      border-color: transparent;\n",
              "      border-right-color: var(--fill-color);\n",
              "      border-bottom-color: var(--fill-color);\n",
              "    }\n",
              "    90% {\n",
              "      border-color: transparent;\n",
              "      border-bottom-color: var(--fill-color);\n",
              "    }\n",
              "  }\n",
              "</style>\n",
              "\n",
              "  <script>\n",
              "    async function quickchart(key) {\n",
              "      const quickchartButtonEl =\n",
              "        document.querySelector('#' + key + ' button');\n",
              "      quickchartButtonEl.disabled = true;  // To prevent multiple clicks.\n",
              "      quickchartButtonEl.classList.add('colab-df-spinner');\n",
              "      try {\n",
              "        const charts = await google.colab.kernel.invokeFunction(\n",
              "            'suggestCharts', [key], {});\n",
              "      } catch (error) {\n",
              "        console.error('Error during call to suggestCharts:', error);\n",
              "      }\n",
              "      quickchartButtonEl.classList.remove('colab-df-spinner');\n",
              "      quickchartButtonEl.classList.add('colab-df-quickchart-complete');\n",
              "    }\n",
              "    (() => {\n",
              "      let quickchartButtonEl =\n",
              "        document.querySelector('#df-0c15b2ba-5929-43c1-b080-3e5cfc6df1e4 button');\n",
              "      quickchartButtonEl.style.display =\n",
              "        google.colab.kernel.accessAllowed ? 'block' : 'none';\n",
              "    })();\n",
              "  </script>\n",
              "</div>\n",
              "\n",
              "  <div id=\"id_7eaf40b5-3b37-49b6-b14f-cdb2bb9af2c6\">\n",
              "    <style>\n",
              "      .colab-df-generate {\n",
              "        background-color: #E8F0FE;\n",
              "        border: none;\n",
              "        border-radius: 50%;\n",
              "        cursor: pointer;\n",
              "        display: none;\n",
              "        fill: #1967D2;\n",
              "        height: 32px;\n",
              "        padding: 0 0 0 0;\n",
              "        width: 32px;\n",
              "      }\n",
              "\n",
              "      .colab-df-generate:hover {\n",
              "        background-color: #E2EBFA;\n",
              "        box-shadow: 0px 1px 2px rgba(60, 64, 67, 0.3), 0px 1px 3px 1px rgba(60, 64, 67, 0.15);\n",
              "        fill: #174EA6;\n",
              "      }\n",
              "\n",
              "      [theme=dark] .colab-df-generate {\n",
              "        background-color: #3B4455;\n",
              "        fill: #D2E3FC;\n",
              "      }\n",
              "\n",
              "      [theme=dark] .colab-df-generate:hover {\n",
              "        background-color: #434B5C;\n",
              "        box-shadow: 0px 1px 3px 1px rgba(0, 0, 0, 0.15);\n",
              "        filter: drop-shadow(0px 1px 2px rgba(0, 0, 0, 0.3));\n",
              "        fill: #FFFFFF;\n",
              "      }\n",
              "    </style>\n",
              "    <button class=\"colab-df-generate\" onclick=\"generateWithVariable('Ej')\"\n",
              "            title=\"Generate code using this dataframe.\"\n",
              "            style=\"display:none;\">\n",
              "\n",
              "  <svg xmlns=\"http://www.w3.org/2000/svg\" height=\"24px\"viewBox=\"0 0 24 24\"\n",
              "       width=\"24px\">\n",
              "    <path d=\"M7,19H8.4L18.45,9,17,7.55,7,17.6ZM5,21V16.75L18.45,3.32a2,2,0,0,1,2.83,0l1.4,1.43a1.91,1.91,0,0,1,.58,1.4,1.91,1.91,0,0,1-.58,1.4L9.25,21ZM18.45,9,17,7.55Zm-12,3A5.31,5.31,0,0,0,4.9,8.1,5.31,5.31,0,0,0,1,6.5,5.31,5.31,0,0,0,4.9,4.9,5.31,5.31,0,0,0,6.5,1,5.31,5.31,0,0,0,8.1,4.9,5.31,5.31,0,0,0,12,6.5,5.46,5.46,0,0,0,6.5,12Z\"/>\n",
              "  </svg>\n",
              "    </button>\n",
              "    <script>\n",
              "      (() => {\n",
              "      const buttonEl =\n",
              "        document.querySelector('#id_7eaf40b5-3b37-49b6-b14f-cdb2bb9af2c6 button.colab-df-generate');\n",
              "      buttonEl.style.display =\n",
              "        google.colab.kernel.accessAllowed ? 'block' : 'none';\n",
              "\n",
              "      buttonEl.onclick = () => {\n",
              "        google.colab.notebook.generateWithVariable('Ej');\n",
              "      }\n",
              "      })();\n",
              "    </script>\n",
              "  </div>\n",
              "\n",
              "    </div>\n",
              "  </div>\n"
            ],
            "application/vnd.google.colaboratory.intrinsic+json": {
              "type": "dataframe",
              "variable_name": "Ej",
              "summary": "{\n  \"name\": \"Ej\",\n  \"rows\": 3,\n  \"fields\": [\n    {\n      \"column\": \"FechaTexto\",\n      \"properties\": {\n        \"dtype\": \"object\",\n        \"num_unique_values\": 3,\n        \"samples\": [\n          \"9/January/1998\",\n          \"15/November/2001\",\n          \"1/July/2015\"\n        ],\n        \"semantic_type\": \"\",\n        \"description\": \"\"\n      }\n    }\n  ]\n}"
            }
          },
          "metadata": {},
          "execution_count": 78
        }
      ]
    },
    {
      "cell_type": "code",
      "source": [
        "#Resuelve tu ejercicio aquí\n",
        "Ej['Formato Fecha']=pd.to_datetime(Ej['FechaTexto'], format=\"%d/%B/%Y\")\n",
        "Ej"
      ],
      "metadata": {
        "id": "6bW4X49WAyCC",
        "colab": {
          "base_uri": "https://localhost:8080/",
          "height": 143
        },
        "outputId": "78921bf9-3818-4a5f-dc75-a7215535761b"
      },
      "execution_count": null,
      "outputs": [
        {
          "output_type": "execute_result",
          "data": {
            "text/plain": [
              "         FechaTexto Formato Fecha\n",
              "a    9/January/1998    1998-01-09\n",
              "b  15/November/2001    2001-11-15\n",
              "c       1/July/2015    2015-07-01"
            ],
            "text/html": [
              "\n",
              "  <div id=\"df-63ca4b4d-aa27-41a6-89ac-eb07a55db42b\" class=\"colab-df-container\">\n",
              "    <div>\n",
              "<style scoped>\n",
              "    .dataframe tbody tr th:only-of-type {\n",
              "        vertical-align: middle;\n",
              "    }\n",
              "\n",
              "    .dataframe tbody tr th {\n",
              "        vertical-align: top;\n",
              "    }\n",
              "\n",
              "    .dataframe thead th {\n",
              "        text-align: right;\n",
              "    }\n",
              "</style>\n",
              "<table border=\"1\" class=\"dataframe\">\n",
              "  <thead>\n",
              "    <tr style=\"text-align: right;\">\n",
              "      <th></th>\n",
              "      <th>FechaTexto</th>\n",
              "      <th>Formato Fecha</th>\n",
              "    </tr>\n",
              "  </thead>\n",
              "  <tbody>\n",
              "    <tr>\n",
              "      <th>a</th>\n",
              "      <td>9/January/1998</td>\n",
              "      <td>1998-01-09</td>\n",
              "    </tr>\n",
              "    <tr>\n",
              "      <th>b</th>\n",
              "      <td>15/November/2001</td>\n",
              "      <td>2001-11-15</td>\n",
              "    </tr>\n",
              "    <tr>\n",
              "      <th>c</th>\n",
              "      <td>1/July/2015</td>\n",
              "      <td>2015-07-01</td>\n",
              "    </tr>\n",
              "  </tbody>\n",
              "</table>\n",
              "</div>\n",
              "    <div class=\"colab-df-buttons\">\n",
              "\n",
              "  <div class=\"colab-df-container\">\n",
              "    <button class=\"colab-df-convert\" onclick=\"convertToInteractive('df-63ca4b4d-aa27-41a6-89ac-eb07a55db42b')\"\n",
              "            title=\"Convert this dataframe to an interactive table.\"\n",
              "            style=\"display:none;\">\n",
              "\n",
              "  <svg xmlns=\"http://www.w3.org/2000/svg\" height=\"24px\" viewBox=\"0 -960 960 960\">\n",
              "    <path d=\"M120-120v-720h720v720H120Zm60-500h600v-160H180v160Zm220 220h160v-160H400v160Zm0 220h160v-160H400v160ZM180-400h160v-160H180v160Zm440 0h160v-160H620v160ZM180-180h160v-160H180v160Zm440 0h160v-160H620v160Z\"/>\n",
              "  </svg>\n",
              "    </button>\n",
              "\n",
              "  <style>\n",
              "    .colab-df-container {\n",
              "      display:flex;\n",
              "      gap: 12px;\n",
              "    }\n",
              "\n",
              "    .colab-df-convert {\n",
              "      background-color: #E8F0FE;\n",
              "      border: none;\n",
              "      border-radius: 50%;\n",
              "      cursor: pointer;\n",
              "      display: none;\n",
              "      fill: #1967D2;\n",
              "      height: 32px;\n",
              "      padding: 0 0 0 0;\n",
              "      width: 32px;\n",
              "    }\n",
              "\n",
              "    .colab-df-convert:hover {\n",
              "      background-color: #E2EBFA;\n",
              "      box-shadow: 0px 1px 2px rgba(60, 64, 67, 0.3), 0px 1px 3px 1px rgba(60, 64, 67, 0.15);\n",
              "      fill: #174EA6;\n",
              "    }\n",
              "\n",
              "    .colab-df-buttons div {\n",
              "      margin-bottom: 4px;\n",
              "    }\n",
              "\n",
              "    [theme=dark] .colab-df-convert {\n",
              "      background-color: #3B4455;\n",
              "      fill: #D2E3FC;\n",
              "    }\n",
              "\n",
              "    [theme=dark] .colab-df-convert:hover {\n",
              "      background-color: #434B5C;\n",
              "      box-shadow: 0px 1px 3px 1px rgba(0, 0, 0, 0.15);\n",
              "      filter: drop-shadow(0px 1px 2px rgba(0, 0, 0, 0.3));\n",
              "      fill: #FFFFFF;\n",
              "    }\n",
              "  </style>\n",
              "\n",
              "    <script>\n",
              "      const buttonEl =\n",
              "        document.querySelector('#df-63ca4b4d-aa27-41a6-89ac-eb07a55db42b button.colab-df-convert');\n",
              "      buttonEl.style.display =\n",
              "        google.colab.kernel.accessAllowed ? 'block' : 'none';\n",
              "\n",
              "      async function convertToInteractive(key) {\n",
              "        const element = document.querySelector('#df-63ca4b4d-aa27-41a6-89ac-eb07a55db42b');\n",
              "        const dataTable =\n",
              "          await google.colab.kernel.invokeFunction('convertToInteractive',\n",
              "                                                    [key], {});\n",
              "        if (!dataTable) return;\n",
              "\n",
              "        const docLinkHtml = 'Like what you see? Visit the ' +\n",
              "          '<a target=\"_blank\" href=https://colab.research.google.com/notebooks/data_table.ipynb>data table notebook</a>'\n",
              "          + ' to learn more about interactive tables.';\n",
              "        element.innerHTML = '';\n",
              "        dataTable['output_type'] = 'display_data';\n",
              "        await google.colab.output.renderOutput(dataTable, element);\n",
              "        const docLink = document.createElement('div');\n",
              "        docLink.innerHTML = docLinkHtml;\n",
              "        element.appendChild(docLink);\n",
              "      }\n",
              "    </script>\n",
              "  </div>\n",
              "\n",
              "\n",
              "<div id=\"df-92b9743f-0aa3-46b3-a606-10eabd94ada0\">\n",
              "  <button class=\"colab-df-quickchart\" onclick=\"quickchart('df-92b9743f-0aa3-46b3-a606-10eabd94ada0')\"\n",
              "            title=\"Suggest charts\"\n",
              "            style=\"display:none;\">\n",
              "\n",
              "<svg xmlns=\"http://www.w3.org/2000/svg\" height=\"24px\"viewBox=\"0 0 24 24\"\n",
              "     width=\"24px\">\n",
              "    <g>\n",
              "        <path d=\"M19 3H5c-1.1 0-2 .9-2 2v14c0 1.1.9 2 2 2h14c1.1 0 2-.9 2-2V5c0-1.1-.9-2-2-2zM9 17H7v-7h2v7zm4 0h-2V7h2v10zm4 0h-2v-4h2v4z\"/>\n",
              "    </g>\n",
              "</svg>\n",
              "  </button>\n",
              "\n",
              "<style>\n",
              "  .colab-df-quickchart {\n",
              "      --bg-color: #E8F0FE;\n",
              "      --fill-color: #1967D2;\n",
              "      --hover-bg-color: #E2EBFA;\n",
              "      --hover-fill-color: #174EA6;\n",
              "      --disabled-fill-color: #AAA;\n",
              "      --disabled-bg-color: #DDD;\n",
              "  }\n",
              "\n",
              "  [theme=dark] .colab-df-quickchart {\n",
              "      --bg-color: #3B4455;\n",
              "      --fill-color: #D2E3FC;\n",
              "      --hover-bg-color: #434B5C;\n",
              "      --hover-fill-color: #FFFFFF;\n",
              "      --disabled-bg-color: #3B4455;\n",
              "      --disabled-fill-color: #666;\n",
              "  }\n",
              "\n",
              "  .colab-df-quickchart {\n",
              "    background-color: var(--bg-color);\n",
              "    border: none;\n",
              "    border-radius: 50%;\n",
              "    cursor: pointer;\n",
              "    display: none;\n",
              "    fill: var(--fill-color);\n",
              "    height: 32px;\n",
              "    padding: 0;\n",
              "    width: 32px;\n",
              "  }\n",
              "\n",
              "  .colab-df-quickchart:hover {\n",
              "    background-color: var(--hover-bg-color);\n",
              "    box-shadow: 0 1px 2px rgba(60, 64, 67, 0.3), 0 1px 3px 1px rgba(60, 64, 67, 0.15);\n",
              "    fill: var(--button-hover-fill-color);\n",
              "  }\n",
              "\n",
              "  .colab-df-quickchart-complete:disabled,\n",
              "  .colab-df-quickchart-complete:disabled:hover {\n",
              "    background-color: var(--disabled-bg-color);\n",
              "    fill: var(--disabled-fill-color);\n",
              "    box-shadow: none;\n",
              "  }\n",
              "\n",
              "  .colab-df-spinner {\n",
              "    border: 2px solid var(--fill-color);\n",
              "    border-color: transparent;\n",
              "    border-bottom-color: var(--fill-color);\n",
              "    animation:\n",
              "      spin 1s steps(1) infinite;\n",
              "  }\n",
              "\n",
              "  @keyframes spin {\n",
              "    0% {\n",
              "      border-color: transparent;\n",
              "      border-bottom-color: var(--fill-color);\n",
              "      border-left-color: var(--fill-color);\n",
              "    }\n",
              "    20% {\n",
              "      border-color: transparent;\n",
              "      border-left-color: var(--fill-color);\n",
              "      border-top-color: var(--fill-color);\n",
              "    }\n",
              "    30% {\n",
              "      border-color: transparent;\n",
              "      border-left-color: var(--fill-color);\n",
              "      border-top-color: var(--fill-color);\n",
              "      border-right-color: var(--fill-color);\n",
              "    }\n",
              "    40% {\n",
              "      border-color: transparent;\n",
              "      border-right-color: var(--fill-color);\n",
              "      border-top-color: var(--fill-color);\n",
              "    }\n",
              "    60% {\n",
              "      border-color: transparent;\n",
              "      border-right-color: var(--fill-color);\n",
              "    }\n",
              "    80% {\n",
              "      border-color: transparent;\n",
              "      border-right-color: var(--fill-color);\n",
              "      border-bottom-color: var(--fill-color);\n",
              "    }\n",
              "    90% {\n",
              "      border-color: transparent;\n",
              "      border-bottom-color: var(--fill-color);\n",
              "    }\n",
              "  }\n",
              "</style>\n",
              "\n",
              "  <script>\n",
              "    async function quickchart(key) {\n",
              "      const quickchartButtonEl =\n",
              "        document.querySelector('#' + key + ' button');\n",
              "      quickchartButtonEl.disabled = true;  // To prevent multiple clicks.\n",
              "      quickchartButtonEl.classList.add('colab-df-spinner');\n",
              "      try {\n",
              "        const charts = await google.colab.kernel.invokeFunction(\n",
              "            'suggestCharts', [key], {});\n",
              "      } catch (error) {\n",
              "        console.error('Error during call to suggestCharts:', error);\n",
              "      }\n",
              "      quickchartButtonEl.classList.remove('colab-df-spinner');\n",
              "      quickchartButtonEl.classList.add('colab-df-quickchart-complete');\n",
              "    }\n",
              "    (() => {\n",
              "      let quickchartButtonEl =\n",
              "        document.querySelector('#df-92b9743f-0aa3-46b3-a606-10eabd94ada0 button');\n",
              "      quickchartButtonEl.style.display =\n",
              "        google.colab.kernel.accessAllowed ? 'block' : 'none';\n",
              "    })();\n",
              "  </script>\n",
              "</div>\n",
              "\n",
              "  <div id=\"id_e57f78fc-4ab0-4d7a-978f-ca6b1968c08f\">\n",
              "    <style>\n",
              "      .colab-df-generate {\n",
              "        background-color: #E8F0FE;\n",
              "        border: none;\n",
              "        border-radius: 50%;\n",
              "        cursor: pointer;\n",
              "        display: none;\n",
              "        fill: #1967D2;\n",
              "        height: 32px;\n",
              "        padding: 0 0 0 0;\n",
              "        width: 32px;\n",
              "      }\n",
              "\n",
              "      .colab-df-generate:hover {\n",
              "        background-color: #E2EBFA;\n",
              "        box-shadow: 0px 1px 2px rgba(60, 64, 67, 0.3), 0px 1px 3px 1px rgba(60, 64, 67, 0.15);\n",
              "        fill: #174EA6;\n",
              "      }\n",
              "\n",
              "      [theme=dark] .colab-df-generate {\n",
              "        background-color: #3B4455;\n",
              "        fill: #D2E3FC;\n",
              "      }\n",
              "\n",
              "      [theme=dark] .colab-df-generate:hover {\n",
              "        background-color: #434B5C;\n",
              "        box-shadow: 0px 1px 3px 1px rgba(0, 0, 0, 0.15);\n",
              "        filter: drop-shadow(0px 1px 2px rgba(0, 0, 0, 0.3));\n",
              "        fill: #FFFFFF;\n",
              "      }\n",
              "    </style>\n",
              "    <button class=\"colab-df-generate\" onclick=\"generateWithVariable('Ej')\"\n",
              "            title=\"Generate code using this dataframe.\"\n",
              "            style=\"display:none;\">\n",
              "\n",
              "  <svg xmlns=\"http://www.w3.org/2000/svg\" height=\"24px\"viewBox=\"0 0 24 24\"\n",
              "       width=\"24px\">\n",
              "    <path d=\"M7,19H8.4L18.45,9,17,7.55,7,17.6ZM5,21V16.75L18.45,3.32a2,2,0,0,1,2.83,0l1.4,1.43a1.91,1.91,0,0,1,.58,1.4,1.91,1.91,0,0,1-.58,1.4L9.25,21ZM18.45,9,17,7.55Zm-12,3A5.31,5.31,0,0,0,4.9,8.1,5.31,5.31,0,0,0,1,6.5,5.31,5.31,0,0,0,4.9,4.9,5.31,5.31,0,0,0,6.5,1,5.31,5.31,0,0,0,8.1,4.9,5.31,5.31,0,0,0,12,6.5,5.46,5.46,0,0,0,6.5,12Z\"/>\n",
              "  </svg>\n",
              "    </button>\n",
              "    <script>\n",
              "      (() => {\n",
              "      const buttonEl =\n",
              "        document.querySelector('#id_e57f78fc-4ab0-4d7a-978f-ca6b1968c08f button.colab-df-generate');\n",
              "      buttonEl.style.display =\n",
              "        google.colab.kernel.accessAllowed ? 'block' : 'none';\n",
              "\n",
              "      buttonEl.onclick = () => {\n",
              "        google.colab.notebook.generateWithVariable('Ej');\n",
              "      }\n",
              "      })();\n",
              "    </script>\n",
              "  </div>\n",
              "\n",
              "    </div>\n",
              "  </div>\n"
            ],
            "application/vnd.google.colaboratory.intrinsic+json": {
              "type": "dataframe",
              "variable_name": "Ej",
              "summary": "{\n  \"name\": \"Ej\",\n  \"rows\": 3,\n  \"fields\": [\n    {\n      \"column\": \"FechaTexto\",\n      \"properties\": {\n        \"dtype\": \"object\",\n        \"num_unique_values\": 3,\n        \"samples\": [\n          \"9/January/1998\",\n          \"15/November/2001\",\n          \"1/July/2015\"\n        ],\n        \"semantic_type\": \"\",\n        \"description\": \"\"\n      }\n    },\n    {\n      \"column\": \"Formato Fecha\",\n      \"properties\": {\n        \"dtype\": \"date\",\n        \"min\": \"1998-01-09 00:00:00\",\n        \"max\": \"2015-07-01 00:00:00\",\n        \"num_unique_values\": 3,\n        \"samples\": [\n          \"1998-01-09 00:00:00\",\n          \"2001-11-15 00:00:00\",\n          \"2015-07-01 00:00:00\"\n        ],\n        \"semantic_type\": \"\",\n        \"description\": \"\"\n      }\n    }\n  ]\n}"
            }
          },
          "metadata": {},
          "execution_count": 80
        }
      ]
    },
    {
      "cell_type": "code",
      "source": [
        "fecha=Ej.loc['b','Formato Fecha']\n",
        "print(fecha.strftime('Hoy es %A %d de %B'))"
      ],
      "metadata": {
        "colab": {
          "base_uri": "https://localhost:8080/"
        },
        "id": "O5ygceZEIkaR",
        "outputId": "109cc679-0f41-40bc-d6c2-4bb044e89a9f"
      },
      "execution_count": null,
      "outputs": [
        {
          "output_type": "stream",
          "name": "stdout",
          "text": [
            "Hoy es Thursday 15 de November\n"
          ]
        }
      ]
    },
    {
      "cell_type": "code",
      "source": [
        "%%shell\n",
        "jupyter nbconvert --to html 2_1_4_Fechas_Ejercicios.ipynb"
      ],
      "metadata": {
        "colab": {
          "base_uri": "https://localhost:8080/"
        },
        "id": "UYCawdNymCOv",
        "outputId": "fc1559f7-5c8c-4308-e54d-52685b8a4453"
      },
      "execution_count": null,
      "outputs": [
        {
          "output_type": "stream",
          "name": "stdout",
          "text": [
            "[NbConvertApp] Converting notebook 2_1_4_Fechas_Completo.ipynb to html\n",
            "[NbConvertApp] Writing 617292 bytes to 2_1_4_Fechas_Completo.html\n"
          ]
        },
        {
          "output_type": "execute_result",
          "data": {
            "text/plain": []
          },
          "metadata": {},
          "execution_count": 5
        }
      ]
    }
  ]
}