{
 "cells": [
  {
   "cell_type": "code",
   "execution_count": 2,
   "metadata": {},
   "outputs": [],
   "source": [
    "import pandas as pd"
   ]
  },
  {
   "cell_type": "code",
   "execution_count": 9,
   "metadata": {},
   "outputs": [
    {
     "data": {
      "text/plain": [
       "uno       1\n",
       "dos       2\n",
       "tres      3\n",
       "cuatro    4\n",
       "dtype: int64"
      ]
     },
     "execution_count": 9,
     "metadata": {},
     "output_type": "execute_result"
    }
   ],
   "source": [
    "#Crear una serie\n",
    "Ej1=pd.Series(data=[1,2,3,4],index=['uno','dos','tres','cuatro'],dtype='int64')\n",
    "Ej1\n"
   ]
  },
  {
   "cell_type": "code",
   "execution_count": 10,
   "metadata": {},
   "outputs": [
    {
     "data": {
      "text/plain": [
       "Matematicas    7.8\n",
       "Ciencias       8.0\n",
       "dtype: float64"
      ]
     },
     "execution_count": 10,
     "metadata": {},
     "output_type": "execute_result"
    }
   ],
   "source": [
    "#Crea series con diccionarios\n",
    "Ej4=pd.Series({'Matematicas':7.8,'Ciencias':8.0})\n",
    "Ej4"
   ]
  },
  {
   "cell_type": "code",
   "execution_count": 11,
   "metadata": {},
   "outputs": [
    {
     "data": {
      "text/plain": [
       "aa    43\n",
       "bb    56\n",
       "cc    25\n",
       "dd    78\n",
       "ee    96\n",
       "dtype: int64"
      ]
     },
     "execution_count": 11,
     "metadata": {},
     "output_type": "execute_result"
    }
   ],
   "source": [
    "#Series sin palabras de argumento\n",
    "Ej3=pd.Series([43,56,25,78,96],['aa','bb','cc','dd','ee'])\n",
    "Ej3"
   ]
  },
  {
   "cell_type": "code",
   "execution_count": 12,
   "metadata": {},
   "outputs": [
    {
     "name": "stdout",
     "output_type": "stream",
     "text": [
      "\n",
      " 5\n",
      "\n",
      " Index(['aa', 'bb', 'cc', 'dd', 'ee'], dtype='object')\n",
      "\n",
      " int64\n",
      "\n",
      " [43 56 25 78 96]\n"
     ]
    }
   ],
   "source": [
    "#Algunos métodos\n",
    "print(\"\\n\",Ej3.size)\n",
    "print(\"\\n\",Ej3.index)\n",
    "print(\"\\n\",Ej3.dtype)\n",
    "print(\"\\n\",Ej3.values)"
   ]
  },
  {
   "cell_type": "code",
   "execution_count": 13,
   "metadata": {},
   "outputs": [
    {
     "name": "stdout",
     "output_type": "stream",
     "text": [
      "\n",
      " 4\n",
      "\n",
      " 10\n",
      "\n",
      " uno        1\n",
      "dos        3\n",
      "tres       6\n",
      "cuatro    10\n",
      "dtype: int64\n",
      "\n",
      " 1\n",
      "\n",
      " 4\n",
      "\n",
      "  2.5\n",
      "\n",
      " 1.2909944487358056\n",
      "\n",
      " count    4.000000\n",
      "mean     2.500000\n",
      "std      1.290994\n",
      "min      1.000000\n",
      "25%      1.750000\n",
      "50%      2.500000\n",
      "75%      3.250000\n",
      "max      4.000000\n",
      "dtype: float64\n"
     ]
    }
   ],
   "source": [
    "#Algunas funciones\n",
    "print(\"\\n\",Ej1.count())\n",
    "print(\"\\n\",Ej1.sum())\n",
    "print(\"\\n\",Ej1.cumsum())\n",
    "print(\"\\n\",Ej1.min())\n",
    "print(\"\\n\",Ej1.max())\n",
    "print(\"\\n \",Ej1.mean())\n",
    "print(\"\\n\",Ej1.std())\n",
    "print(\"\\n\",Ej1.describe())"
   ]
  },
  {
   "cell_type": "code",
   "execution_count": 23,
   "metadata": {},
   "outputs": [
    {
     "name": "stdout",
     "output_type": "stream",
     "text": [
      "5\n",
      "\n",
      "e    5\n",
      "dtype: int64\n",
      "\n",
      "5\n",
      "\n",
      "e    5\n",
      "dtype: int64\n"
     ]
    }
   ],
   "source": [
    "#loc e iloc en series\n",
    "## Serie con claves\n",
    "Sc=pd.Series([3,6,8,2,5,14],['a','b','c','d','e','f'])\n",
    "\n",
    "print(Sc.iloc[4])\n",
    "print()\n",
    "print(Sc.iloc[[4]])\n",
    "print()\n",
    "print(Sc.loc['e'])\n",
    "print()\n",
    "print(Sc.loc[['e']])"
   ]
  },
  {
   "cell_type": "code",
   "execution_count": 25,
   "metadata": {},
   "outputs": [
    {
     "data": {
      "text/plain": [
       "a     3\n",
       "b     6\n",
       "c     8\n",
       "f    14\n",
       "dtype: int64"
      ]
     },
     "execution_count": 25,
     "metadata": {},
     "output_type": "execute_result"
    }
   ],
   "source": [
    "Ej1=pd.Series([3,6,8,2,5,14],['a','b','c','d','e','f'])\n",
    "##### DROP  ####### Devuelve una copia\n",
    "Ej1.drop(['d','e'],inplace=True) #Inplace=True para eliminar en la serie/dataframe original/\n",
    "Ej1"
   ]
  },
  {
   "cell_type": "code",
   "execution_count": 28,
   "metadata": {},
   "outputs": [
    {
     "name": "stdout",
     "output_type": "stream",
     "text": [
      "8\n"
     ]
    },
    {
     "data": {
      "text/plain": [
       "a     3\n",
       "b     6\n",
       "d     2\n",
       "e     5\n",
       "f    14\n",
       "dtype: int64"
      ]
     },
     "execution_count": 28,
     "metadata": {},
     "output_type": "execute_result"
    }
   ],
   "source": [
    "######## POP ##### Borra y retorna el valor\n",
    "Ej2=pd.Series([3,6,8,2,5,14],['a','b','c','d','e','f'])\n",
    "\n",
    "DatoEliminar=Ej2.pop('c')\n",
    "print(DatoEliminar)\n",
    "Ej2"
   ]
  },
  {
   "cell_type": "code",
   "execution_count": 29,
   "metadata": {},
   "outputs": [
    {
     "name": "stdout",
     "output_type": "stream",
     "text": [
      "Sin claves:\n",
      "     state  year  pop\n",
      "0    Ohio  2000  1.5\n",
      "1    Ohio  2001  1.7\n",
      "2    Ohio  2002  3.6\n",
      "3  Nevada  2001  2.4\n",
      "4  Nevada  2002  2.9\n",
      "5  Nevada  2003  3.2\n",
      "Con claves:\n",
      "     state  year  pop\n",
      "A    Ohio  2000  1.5\n",
      "B    Ohio  2001  1.7\n",
      "C    Ohio  2002  3.6\n",
      "D  Nevada  2001  2.4\n",
      "E  Nevada  2002  2.9\n",
      "F  Nevada  2003  3.2\n"
     ]
    }
   ],
   "source": [
    "#Creacion de Frames\n",
    "data={'state':['Ohio','Ohio','Ohio','Nevada','Nevada','Nevada'],\n",
    "      'year':[2000,2001,2002,2001,2002,2003],\n",
    "      'pop':[1.5,1.7,3.6,2.4,2.9,3.2]}\n",
    "#Genera un frame con claves automaticas\n",
    "df=pd.DataFrame(data)\n",
    "print('Sin claves:\\n',df)\n",
    "#Genera un frame con claves, agregar el atributo \"index\"\n",
    "df=pd.DataFrame(data,index=['A','B','C','D','E','F'])\n",
    "print('Con claves:\\n',df)"
   ]
  },
  {
   "cell_type": "code",
   "execution_count": 30,
   "metadata": {},
   "outputs": [
    {
     "data": {
      "text/html": [
       "<div>\n",
       "<style scoped>\n",
       "    .dataframe tbody tr th:only-of-type {\n",
       "        vertical-align: middle;\n",
       "    }\n",
       "\n",
       "    .dataframe tbody tr th {\n",
       "        vertical-align: top;\n",
       "    }\n",
       "\n",
       "    .dataframe thead th {\n",
       "        text-align: right;\n",
       "    }\n",
       "</style>\n",
       "<table border=\"1\" class=\"dataframe\">\n",
       "  <thead>\n",
       "    <tr style=\"text-align: right;\">\n",
       "      <th></th>\n",
       "      <th>Nombre</th>\n",
       "      <th>Edad</th>\n",
       "    </tr>\n",
       "  </thead>\n",
       "  <tbody>\n",
       "    <tr>\n",
       "      <th>1</th>\n",
       "      <td>María</td>\n",
       "      <td>18</td>\n",
       "    </tr>\n",
       "    <tr>\n",
       "      <th>2</th>\n",
       "      <td>Luis</td>\n",
       "      <td>22</td>\n",
       "    </tr>\n",
       "    <tr>\n",
       "      <th>3</th>\n",
       "      <td>Carmen</td>\n",
       "      <td>20</td>\n",
       "    </tr>\n",
       "  </tbody>\n",
       "</table>\n",
       "</div>"
      ],
      "text/plain": [
       "   Nombre  Edad\n",
       "1   María    18\n",
       "2    Luis    22\n",
       "3  Carmen    20"
      ]
     },
     "execution_count": 30,
     "metadata": {},
     "output_type": "execute_result"
    }
   ],
   "source": [
    "#Con tuplas de datos\n",
    "df2 = pd.DataFrame([['María', 18], ['Luis', 22], ['Carmen', 20]], columns=['Nombre', 'Edad'],index=[1,2,3])\n",
    "df2"
   ]
  },
  {
   "cell_type": "code",
   "execution_count": 32,
   "metadata": {},
   "outputs": [
    {
     "name": "stdout",
     "output_type": "stream",
     "text": [
      "(6, 3)\n",
      "18\n",
      "Index(['state', 'year', 'pop'], dtype='object')\n",
      "['state' 'year' 'pop']\n",
      "year\n",
      "[['Ohio' 2000 1.5]\n",
      " ['Ohio' 2001 1.7]\n",
      " ['Ohio' 2002 3.6]\n",
      " ['Nevada' 2001 2.4]\n",
      " ['Nevada' 2002 2.9]\n",
      " ['Nevada' 2003 3.2]]\n",
      "['Nevada' 2001 2.4]\n",
      "Index(['A', 'B', 'C', 'D', 'E', 'F'], dtype='object')\n",
      "['A' 'B' 'C' 'D' 'E' 'F']\n",
      "state     object\n",
      "year       int64\n",
      "pop      float64\n",
      "dtype: object\n",
      "[dtype('O') dtype('int64') dtype('float64')]\n"
     ]
    }
   ],
   "source": [
    "#Atributos DataFrames\n",
    "print(df.shape) #(NumFilas, NumColumnas)\n",
    "print(df.size) #(Numero de datos)\n",
    "print(df.columns) #Retorna un pandas.Series con los valores de las columnas\n",
    "print(df.columns.values) #Retorna una lista con los valores de las columnas\n",
    "print(df.columns.values[1]) #Retorna los elementos de la lista\n",
    "print(df.values)\n",
    "print(df.values[3])\n",
    "print(df.index)\n",
    "print(df.index.values)\n",
    "print(df.dtypes)\n",
    "print(df.dtypes.values)"
   ]
  },
  {
   "cell_type": "code",
   "execution_count": 33,
   "metadata": {},
   "outputs": [
    {
     "name": "stdout",
     "output_type": "stream",
     "text": [
      "\n",
      "Elementos no nulos:  state    6\n",
      "year     6\n",
      "pop      6\n",
      "dtype: int64\n",
      "\n",
      "Sumatoria:  state    OhioOhioOhioNevadaNevadaNevada\n",
      "year                              12009\n",
      "pop                                15.3\n",
      "dtype: object\n",
      "\n",
      "Sumatoria acumlada:                              state   year   pop\n",
      "A                            Ohio   2000   1.5\n",
      "B                        OhioOhio   4001   3.2\n",
      "C                    OhioOhioOhio   6003   6.8\n",
      "D              OhioOhioOhioNevada   8004   9.2\n",
      "E        OhioOhioOhioNevadaNevada  10006  12.1\n",
      "F  OhioOhioOhioNevadaNevadaNevada  12009  15.3\n",
      "\n",
      "Minimo:  state    Nevada\n",
      "year       2000\n",
      "pop         1.5\n",
      "dtype: object\n",
      "\n",
      "Maximo:  state    Ohio\n",
      "year     2003\n",
      "pop       3.6\n",
      "dtype: object\n"
     ]
    }
   ],
   "source": [
    "#Funciones\n",
    "print(\"\\nElementos no nulos: \",df.count())\n",
    "print(\"\\nSumatoria: \",df.sum())\n",
    "print(\"\\nSumatoria acumlada: \",df.cumsum())\n",
    "print(\"\\nMinimo: \",df.min())\n",
    "print(\"\\nMaximo: \",df.max())"
   ]
  },
  {
   "cell_type": "code",
   "execution_count": 45,
   "metadata": {},
   "outputs": [
    {
     "data": {
      "text/html": [
       "<div>\n",
       "<style scoped>\n",
       "    .dataframe tbody tr th:only-of-type {\n",
       "        vertical-align: middle;\n",
       "    }\n",
       "\n",
       "    .dataframe tbody tr th {\n",
       "        vertical-align: top;\n",
       "    }\n",
       "\n",
       "    .dataframe thead th {\n",
       "        text-align: right;\n",
       "    }\n",
       "</style>\n",
       "<table border=\"1\" class=\"dataframe\">\n",
       "  <thead>\n",
       "    <tr style=\"text-align: right;\">\n",
       "      <th></th>\n",
       "      <th>state</th>\n",
       "      <th>year</th>\n",
       "      <th>pop</th>\n",
       "    </tr>\n",
       "  </thead>\n",
       "  <tbody>\n",
       "    <tr>\n",
       "      <th>a</th>\n",
       "      <td>Ohio</td>\n",
       "      <td>2000</td>\n",
       "      <td>1.5</td>\n",
       "    </tr>\n",
       "    <tr>\n",
       "      <th>b</th>\n",
       "      <td>Ohio</td>\n",
       "      <td>2001</td>\n",
       "      <td>1.7</td>\n",
       "    </tr>\n",
       "    <tr>\n",
       "      <th>c</th>\n",
       "      <td>Ohio</td>\n",
       "      <td>2002</td>\n",
       "      <td>3.6</td>\n",
       "    </tr>\n",
       "    <tr>\n",
       "      <th>d</th>\n",
       "      <td>Nevada</td>\n",
       "      <td>2001</td>\n",
       "      <td>2.4</td>\n",
       "    </tr>\n",
       "    <tr>\n",
       "      <th>e</th>\n",
       "      <td>Nevada</td>\n",
       "      <td>2002</td>\n",
       "      <td>2.9</td>\n",
       "    </tr>\n",
       "    <tr>\n",
       "      <th>f</th>\n",
       "      <td>Nevada</td>\n",
       "      <td>2003</td>\n",
       "      <td>3.2</td>\n",
       "    </tr>\n",
       "  </tbody>\n",
       "</table>\n",
       "</div>"
      ],
      "text/plain": [
       "    state  year  pop\n",
       "a    Ohio  2000  1.5\n",
       "b    Ohio  2001  1.7\n",
       "c    Ohio  2002  3.6\n",
       "d  Nevada  2001  2.4\n",
       "e  Nevada  2002  2.9\n",
       "f  Nevada  2003  3.2"
      ]
     },
     "execution_count": 45,
     "metadata": {},
     "output_type": "execute_result"
    }
   ],
   "source": [
    "data={'state':['Ohio','Ohio','Ohio','Nevada','Nevada','Nevada'],\n",
    "      'year':[2000,2001,2002,2001,2002,2003],\n",
    "      'pop':[1.5,1.7,3.6,2.4,2.9,3.2]}\n",
    "df=pd.DataFrame(data,index=['a','b','c','d','e','f'])\n",
    "df"
   ]
  },
  {
   "cell_type": "code",
   "execution_count": 49,
   "metadata": {},
   "outputs": [
    {
     "name": "stdout",
     "output_type": "stream",
     "text": [
      "state    Ohio\n",
      "year     2002\n",
      "pop       3.6\n",
      "Name: c, dtype: object\n",
      "state    Nevada\n",
      "year       2002\n",
      "pop         2.9\n",
      "Name: e, dtype: object\n",
      "2000\n",
      "a    Ohio\n",
      "b    Ohio\n",
      "c    Ohio\n",
      "Name: state, dtype: object\n",
      "a    Ohio\n",
      "c    Ohio\n",
      "Name: state, dtype: object\n",
      "2002\n",
      "2002\n"
     ]
    }
   ],
   "source": [
    "print(df.iloc[2])\n",
    "print(df.loc['e'])\n",
    "print(df.iloc[0,1])\n",
    "print(df.iloc[0:3,0])\n",
    "print(df.iloc[[0,2],0])\n",
    "print(df.loc['c','year'])\n",
    "print(df.loc[df.index[2],'year'])"
   ]
  },
  {
   "cell_type": "code",
   "execution_count": 50,
   "metadata": {},
   "outputs": [
    {
     "name": "stdout",
     "output_type": "stream",
     "text": [
      "\n",
      "Frame después de borrar el año:     state  pop\n",
      "a    Ohio  1.5\n",
      "b    Ohio  1.7\n",
      "c    Ohio  3.6\n",
      "d  Nevada  2.4\n",
      "e  Nevada  2.9\n",
      "f  Nevada  3.2\n"
     ]
    }
   ],
   "source": [
    "#Drop\n",
    "#Se debe de especificar qué se está borranto: Columnas (axis=1) o filas (axis=0)\n",
    "df=df.drop('year', axis=1)\n",
    "print(\"\\nFrame después de borrar el año:\",df)"
   ]
  },
  {
   "cell_type": "code",
   "execution_count": 51,
   "metadata": {},
   "outputs": [
    {
     "data": {
      "text/html": [
       "<div>\n",
       "<style scoped>\n",
       "    .dataframe tbody tr th:only-of-type {\n",
       "        vertical-align: middle;\n",
       "    }\n",
       "\n",
       "    .dataframe tbody tr th {\n",
       "        vertical-align: top;\n",
       "    }\n",
       "\n",
       "    .dataframe thead th {\n",
       "        text-align: right;\n",
       "    }\n",
       "</style>\n",
       "<table border=\"1\" class=\"dataframe\">\n",
       "  <thead>\n",
       "    <tr style=\"text-align: right;\">\n",
       "      <th></th>\n",
       "      <th>state</th>\n",
       "      <th>year</th>\n",
       "      <th>pop</th>\n",
       "      <th>status</th>\n",
       "    </tr>\n",
       "  </thead>\n",
       "  <tbody>\n",
       "    <tr>\n",
       "      <th>0</th>\n",
       "      <td>Ohio</td>\n",
       "      <td>2000</td>\n",
       "      <td>1.5</td>\n",
       "      <td>rojo</td>\n",
       "    </tr>\n",
       "    <tr>\n",
       "      <th>1</th>\n",
       "      <td>Ohio</td>\n",
       "      <td>2001</td>\n",
       "      <td>1.7</td>\n",
       "      <td>verde</td>\n",
       "    </tr>\n",
       "    <tr>\n",
       "      <th>2</th>\n",
       "      <td>Ohio</td>\n",
       "      <td>2002</td>\n",
       "      <td>3.6</td>\n",
       "      <td>verde</td>\n",
       "    </tr>\n",
       "    <tr>\n",
       "      <th>3</th>\n",
       "      <td>Nevada</td>\n",
       "      <td>2001</td>\n",
       "      <td>2.4</td>\n",
       "      <td>amarillo</td>\n",
       "    </tr>\n",
       "    <tr>\n",
       "      <th>4</th>\n",
       "      <td>Nevada</td>\n",
       "      <td>2002</td>\n",
       "      <td>2.9</td>\n",
       "      <td>rojo</td>\n",
       "    </tr>\n",
       "    <tr>\n",
       "      <th>5</th>\n",
       "      <td>Nevada</td>\n",
       "      <td>2003</td>\n",
       "      <td>3.2</td>\n",
       "      <td>rojo</td>\n",
       "    </tr>\n",
       "  </tbody>\n",
       "</table>\n",
       "</div>"
      ],
      "text/plain": [
       "    state  year  pop    status\n",
       "0    Ohio  2000  1.5      rojo\n",
       "1    Ohio  2001  1.7     verde\n",
       "2    Ohio  2002  3.6     verde\n",
       "3  Nevada  2001  2.4  amarillo\n",
       "4  Nevada  2002  2.9      rojo\n",
       "5  Nevada  2003  3.2      rojo"
      ]
     },
     "execution_count": 51,
     "metadata": {},
     "output_type": "execute_result"
    }
   ],
   "source": [
    "df=pd.DataFrame({'state':['Ohio','Ohio','Ohio','Nevada','Nevada','Nevada'],\n",
    "      'year':[2000,2001,2002,2001,2002,2003],\n",
    "      'pop':[1.5,1.7,3.6,2.4,2.9,3.2]})\n",
    "df['status']=['rojo','verde','verde','amarillo','rojo','rojo']\n",
    "df"
   ]
  },
  {
   "cell_type": "code",
   "execution_count": 53,
   "metadata": {},
   "outputs": [
    {
     "data": {
      "text/html": [
       "<div>\n",
       "<style scoped>\n",
       "    .dataframe tbody tr th:only-of-type {\n",
       "        vertical-align: middle;\n",
       "    }\n",
       "\n",
       "    .dataframe tbody tr th {\n",
       "        vertical-align: top;\n",
       "    }\n",
       "\n",
       "    .dataframe thead th {\n",
       "        text-align: right;\n",
       "    }\n",
       "</style>\n",
       "<table border=\"1\" class=\"dataframe\">\n",
       "  <thead>\n",
       "    <tr style=\"text-align: right;\">\n",
       "      <th></th>\n",
       "      <th>state</th>\n",
       "      <th>year</th>\n",
       "      <th>pop</th>\n",
       "      <th>status</th>\n",
       "    </tr>\n",
       "  </thead>\n",
       "  <tbody>\n",
       "    <tr>\n",
       "      <th>0</th>\n",
       "      <td>Ohio</td>\n",
       "      <td>2013</td>\n",
       "      <td>2.7</td>\n",
       "      <td>rojo</td>\n",
       "    </tr>\n",
       "    <tr>\n",
       "      <th>1</th>\n",
       "      <td>Ohio</td>\n",
       "      <td>2013</td>\n",
       "      <td>2.7</td>\n",
       "      <td>rojo</td>\n",
       "    </tr>\n",
       "  </tbody>\n",
       "</table>\n",
       "</div>"
      ],
      "text/plain": [
       "  state  year  pop status\n",
       "0  Ohio  2013  2.7   rojo\n",
       "1  Ohio  2013  2.7   rojo"
      ]
     },
     "execution_count": 53,
     "metadata": {},
     "output_type": "execute_result"
    }
   ],
   "source": [
    "#Anexar\n",
    "anexar=pd.DataFrame([['Ohio','2013',2.7,'rojo'],['Ohio','2013',2.7,'rojo']], columns=df.columns.values)\n",
    "anexar"
   ]
  },
  {
   "cell_type": "code",
   "execution_count": 54,
   "metadata": {},
   "outputs": [
    {
     "name": "stdout",
     "output_type": "stream",
     "text": [
      "RangeIndex(start=0, stop=6, step=1)\n"
     ]
    },
    {
     "data": {
      "text/html": [
       "<div>\n",
       "<style scoped>\n",
       "    .dataframe tbody tr th:only-of-type {\n",
       "        vertical-align: middle;\n",
       "    }\n",
       "\n",
       "    .dataframe tbody tr th {\n",
       "        vertical-align: top;\n",
       "    }\n",
       "\n",
       "    .dataframe thead th {\n",
       "        text-align: right;\n",
       "    }\n",
       "</style>\n",
       "<table border=\"1\" class=\"dataframe\">\n",
       "  <thead>\n",
       "    <tr style=\"text-align: right;\">\n",
       "      <th></th>\n",
       "      <th>state</th>\n",
       "      <th>year</th>\n",
       "      <th>pop</th>\n",
       "      <th>status</th>\n",
       "    </tr>\n",
       "  </thead>\n",
       "  <tbody>\n",
       "    <tr>\n",
       "      <th>q</th>\n",
       "      <td>Ohio</td>\n",
       "      <td>2000</td>\n",
       "      <td>1.5</td>\n",
       "      <td>rojo</td>\n",
       "    </tr>\n",
       "    <tr>\n",
       "      <th>i</th>\n",
       "      <td>Ohio</td>\n",
       "      <td>2001</td>\n",
       "      <td>1.7</td>\n",
       "      <td>verde</td>\n",
       "    </tr>\n",
       "    <tr>\n",
       "      <th>o</th>\n",
       "      <td>Ohio</td>\n",
       "      <td>2002</td>\n",
       "      <td>3.6</td>\n",
       "      <td>verde</td>\n",
       "    </tr>\n",
       "    <tr>\n",
       "      <th>u</th>\n",
       "      <td>Nevada</td>\n",
       "      <td>2001</td>\n",
       "      <td>2.4</td>\n",
       "      <td>amarillo</td>\n",
       "    </tr>\n",
       "    <tr>\n",
       "      <th>r</th>\n",
       "      <td>Nevada</td>\n",
       "      <td>2002</td>\n",
       "      <td>2.9</td>\n",
       "      <td>rojo</td>\n",
       "    </tr>\n",
       "    <tr>\n",
       "      <th>y</th>\n",
       "      <td>Nevada</td>\n",
       "      <td>2003</td>\n",
       "      <td>3.2</td>\n",
       "      <td>rojo</td>\n",
       "    </tr>\n",
       "  </tbody>\n",
       "</table>\n",
       "</div>"
      ],
      "text/plain": [
       "    state  year  pop    status\n",
       "q    Ohio  2000  1.5      rojo\n",
       "i    Ohio  2001  1.7     verde\n",
       "o    Ohio  2002  3.6     verde\n",
       "u  Nevada  2001  2.4  amarillo\n",
       "r  Nevada  2002  2.9      rojo\n",
       "y  Nevada  2003  3.2      rojo"
      ]
     },
     "execution_count": 54,
     "metadata": {},
     "output_type": "execute_result"
    }
   ],
   "source": [
    "#Modificar los índices\n",
    "print(df.index)\n",
    "df.index=['q','i','o','u','r','y']\n",
    "df"
   ]
  },
  {
   "cell_type": "code",
   "execution_count": 55,
   "metadata": {},
   "outputs": [
    {
     "data": {
      "text/html": [
       "<div>\n",
       "<style scoped>\n",
       "    .dataframe tbody tr th:only-of-type {\n",
       "        vertical-align: middle;\n",
       "    }\n",
       "\n",
       "    .dataframe tbody tr th {\n",
       "        vertical-align: top;\n",
       "    }\n",
       "\n",
       "    .dataframe thead th {\n",
       "        text-align: right;\n",
       "    }\n",
       "</style>\n",
       "<table border=\"1\" class=\"dataframe\">\n",
       "  <thead>\n",
       "    <tr style=\"text-align: right;\">\n",
       "      <th></th>\n",
       "      <th>state</th>\n",
       "      <th>year</th>\n",
       "      <th>pop</th>\n",
       "      <th>status</th>\n",
       "    </tr>\n",
       "  </thead>\n",
       "  <tbody>\n",
       "    <tr>\n",
       "      <th>o</th>\n",
       "      <td>Ohio</td>\n",
       "      <td>2002</td>\n",
       "      <td>3.6</td>\n",
       "      <td>verde</td>\n",
       "    </tr>\n",
       "    <tr>\n",
       "      <th>i</th>\n",
       "      <td>Ohio</td>\n",
       "      <td>2001</td>\n",
       "      <td>1.7</td>\n",
       "      <td>verde</td>\n",
       "    </tr>\n",
       "    <tr>\n",
       "      <th>y</th>\n",
       "      <td>Nevada</td>\n",
       "      <td>2003</td>\n",
       "      <td>3.2</td>\n",
       "      <td>rojo</td>\n",
       "    </tr>\n",
       "    <tr>\n",
       "      <th>r</th>\n",
       "      <td>Nevada</td>\n",
       "      <td>2002</td>\n",
       "      <td>2.9</td>\n",
       "      <td>rojo</td>\n",
       "    </tr>\n",
       "    <tr>\n",
       "      <th>u</th>\n",
       "      <td>Nevada</td>\n",
       "      <td>2001</td>\n",
       "      <td>2.4</td>\n",
       "      <td>amarillo</td>\n",
       "    </tr>\n",
       "    <tr>\n",
       "      <th>q</th>\n",
       "      <td>Ohio</td>\n",
       "      <td>2000</td>\n",
       "      <td>1.5</td>\n",
       "      <td>rojo</td>\n",
       "    </tr>\n",
       "  </tbody>\n",
       "</table>\n",
       "</div>"
      ],
      "text/plain": [
       "    state  year  pop    status\n",
       "o    Ohio  2002  3.6     verde\n",
       "i    Ohio  2001  1.7     verde\n",
       "y  Nevada  2003  3.2      rojo\n",
       "r  Nevada  2002  2.9      rojo\n",
       "u  Nevada  2001  2.4  amarillo\n",
       "q    Ohio  2000  1.5      rojo"
      ]
     },
     "execution_count": 55,
     "metadata": {},
     "output_type": "execute_result"
    }
   ],
   "source": [
    "#Reajustar los índices\n",
    "#No cambia valores, solo posiciones\n",
    "df=df.reindex(['o','i','y','r','u','q'])\n",
    "df"
   ]
  },
  {
   "cell_type": "code",
   "execution_count": 56,
   "metadata": {},
   "outputs": [
    {
     "data": {
      "text/html": [
       "<div>\n",
       "<style scoped>\n",
       "    .dataframe tbody tr th:only-of-type {\n",
       "        vertical-align: middle;\n",
       "    }\n",
       "\n",
       "    .dataframe tbody tr th {\n",
       "        vertical-align: top;\n",
       "    }\n",
       "\n",
       "    .dataframe thead th {\n",
       "        text-align: right;\n",
       "    }\n",
       "</style>\n",
       "<table border=\"1\" class=\"dataframe\">\n",
       "  <thead>\n",
       "    <tr style=\"text-align: right;\">\n",
       "      <th></th>\n",
       "      <th>state</th>\n",
       "      <th>year</th>\n",
       "      <th>pop</th>\n",
       "      <th>status</th>\n",
       "    </tr>\n",
       "  </thead>\n",
       "  <tbody>\n",
       "    <tr>\n",
       "      <th>w</th>\n",
       "      <td>Ohio</td>\n",
       "      <td>2002</td>\n",
       "      <td>3.6</td>\n",
       "      <td>verde</td>\n",
       "    </tr>\n",
       "    <tr>\n",
       "      <th>b</th>\n",
       "      <td>Ohio</td>\n",
       "      <td>2001</td>\n",
       "      <td>1.7</td>\n",
       "      <td>verde</td>\n",
       "    </tr>\n",
       "    <tr>\n",
       "      <th>x</th>\n",
       "      <td>Nevada</td>\n",
       "      <td>2003</td>\n",
       "      <td>3.2</td>\n",
       "      <td>rojo</td>\n",
       "    </tr>\n",
       "    <tr>\n",
       "      <th>r</th>\n",
       "      <td>Nevada</td>\n",
       "      <td>2002</td>\n",
       "      <td>2.9</td>\n",
       "      <td>rojo</td>\n",
       "    </tr>\n",
       "    <tr>\n",
       "      <th>u</th>\n",
       "      <td>Nevada</td>\n",
       "      <td>2001</td>\n",
       "      <td>2.4</td>\n",
       "      <td>amarillo</td>\n",
       "    </tr>\n",
       "    <tr>\n",
       "      <th>q</th>\n",
       "      <td>Ohio</td>\n",
       "      <td>2000</td>\n",
       "      <td>1.5</td>\n",
       "      <td>rojo</td>\n",
       "    </tr>\n",
       "  </tbody>\n",
       "</table>\n",
       "</div>"
      ],
      "text/plain": [
       "    state  year  pop    status\n",
       "w    Ohio  2002  3.6     verde\n",
       "b    Ohio  2001  1.7     verde\n",
       "x  Nevada  2003  3.2      rojo\n",
       "r  Nevada  2002  2.9      rojo\n",
       "u  Nevada  2001  2.4  amarillo\n",
       "q    Ohio  2000  1.5      rojo"
      ]
     },
     "execution_count": 56,
     "metadata": {},
     "output_type": "execute_result"
    }
   ],
   "source": [
    "#Cambiar un índice específico\n",
    "df=df.rename({'y':'x'})\n",
    "df=df.rename({'o':'w','i':'b'})\n",
    "df"
   ]
  },
  {
   "cell_type": "code",
   "execution_count": 57,
   "metadata": {},
   "outputs": [
    {
     "data": {
      "text/html": [
       "<div>\n",
       "<style scoped>\n",
       "    .dataframe tbody tr th:only-of-type {\n",
       "        vertical-align: middle;\n",
       "    }\n",
       "\n",
       "    .dataframe tbody tr th {\n",
       "        vertical-align: top;\n",
       "    }\n",
       "\n",
       "    .dataframe thead th {\n",
       "        text-align: right;\n",
       "    }\n",
       "</style>\n",
       "<table border=\"1\" class=\"dataframe\">\n",
       "  <thead>\n",
       "    <tr style=\"text-align: right;\">\n",
       "      <th></th>\n",
       "      <th>Sucursal</th>\n",
       "      <th>Gerente</th>\n",
       "      <th>Abril</th>\n",
       "      <th>Mayo</th>\n",
       "    </tr>\n",
       "  </thead>\n",
       "  <tbody>\n",
       "    <tr>\n",
       "      <th>w</th>\n",
       "      <td>Ohio</td>\n",
       "      <td>2002</td>\n",
       "      <td>3.6</td>\n",
       "      <td>verde</td>\n",
       "    </tr>\n",
       "    <tr>\n",
       "      <th>b</th>\n",
       "      <td>Ohio</td>\n",
       "      <td>2001</td>\n",
       "      <td>1.7</td>\n",
       "      <td>verde</td>\n",
       "    </tr>\n",
       "    <tr>\n",
       "      <th>x</th>\n",
       "      <td>Nevada</td>\n",
       "      <td>2003</td>\n",
       "      <td>3.2</td>\n",
       "      <td>rojo</td>\n",
       "    </tr>\n",
       "    <tr>\n",
       "      <th>r</th>\n",
       "      <td>Nevada</td>\n",
       "      <td>2002</td>\n",
       "      <td>2.9</td>\n",
       "      <td>rojo</td>\n",
       "    </tr>\n",
       "    <tr>\n",
       "      <th>u</th>\n",
       "      <td>Nevada</td>\n",
       "      <td>2001</td>\n",
       "      <td>2.4</td>\n",
       "      <td>amarillo</td>\n",
       "    </tr>\n",
       "    <tr>\n",
       "      <th>q</th>\n",
       "      <td>Ohio</td>\n",
       "      <td>2000</td>\n",
       "      <td>1.5</td>\n",
       "      <td>rojo</td>\n",
       "    </tr>\n",
       "  </tbody>\n",
       "</table>\n",
       "</div>"
      ],
      "text/plain": [
       "  Sucursal  Gerente  Abril      Mayo\n",
       "w     Ohio     2002    3.6     verde\n",
       "b     Ohio     2001    1.7     verde\n",
       "x   Nevada     2003    3.2      rojo\n",
       "r   Nevada     2002    2.9      rojo\n",
       "u   Nevada     2001    2.4  amarillo\n",
       "q     Ohio     2000    1.5      rojo"
      ]
     },
     "execution_count": 57,
     "metadata": {},
     "output_type": "execute_result"
    }
   ],
   "source": [
    "#Renombrar columnas\n",
    "df.columns=['Sucursal', 'Gerente', 'Abril', 'Mayo']\n",
    "df"
   ]
  },
  {
   "cell_type": "code",
   "execution_count": 58,
   "metadata": {},
   "outputs": [],
   "source": [
    "#Elemento especifico\n",
    "df=df.rename(index={'ba':'zz'})\n",
    "df=df.rename(columns={'Sucursal':'Tienda'})"
   ]
  },
  {
   "cell_type": "code",
   "execution_count": 59,
   "metadata": {},
   "outputs": [
    {
     "data": {
      "text/html": [
       "<div>\n",
       "<style scoped>\n",
       "    .dataframe tbody tr th:only-of-type {\n",
       "        vertical-align: middle;\n",
       "    }\n",
       "\n",
       "    .dataframe tbody tr th {\n",
       "        vertical-align: top;\n",
       "    }\n",
       "\n",
       "    .dataframe thead th {\n",
       "        text-align: right;\n",
       "    }\n",
       "</style>\n",
       "<table border=\"1\" class=\"dataframe\">\n",
       "  <thead>\n",
       "    <tr style=\"text-align: right;\">\n",
       "      <th></th>\n",
       "      <th>Tienda</th>\n",
       "      <th>Gerente</th>\n",
       "      <th>Abril</th>\n",
       "      <th>Mayo</th>\n",
       "    </tr>\n",
       "  </thead>\n",
       "  <tbody>\n",
       "    <tr>\n",
       "      <th>b</th>\n",
       "      <td>Ohio</td>\n",
       "      <td>2001</td>\n",
       "      <td>1.7</td>\n",
       "      <td>verde</td>\n",
       "    </tr>\n",
       "    <tr>\n",
       "      <th>q</th>\n",
       "      <td>Ohio</td>\n",
       "      <td>2000</td>\n",
       "      <td>1.5</td>\n",
       "      <td>rojo</td>\n",
       "    </tr>\n",
       "    <tr>\n",
       "      <th>r</th>\n",
       "      <td>Nevada</td>\n",
       "      <td>2002</td>\n",
       "      <td>2.9</td>\n",
       "      <td>rojo</td>\n",
       "    </tr>\n",
       "    <tr>\n",
       "      <th>u</th>\n",
       "      <td>Nevada</td>\n",
       "      <td>2001</td>\n",
       "      <td>2.4</td>\n",
       "      <td>amarillo</td>\n",
       "    </tr>\n",
       "    <tr>\n",
       "      <th>w</th>\n",
       "      <td>Ohio</td>\n",
       "      <td>2002</td>\n",
       "      <td>3.6</td>\n",
       "      <td>verde</td>\n",
       "    </tr>\n",
       "    <tr>\n",
       "      <th>x</th>\n",
       "      <td>Nevada</td>\n",
       "      <td>2003</td>\n",
       "      <td>3.2</td>\n",
       "      <td>rojo</td>\n",
       "    </tr>\n",
       "  </tbody>\n",
       "</table>\n",
       "</div>"
      ],
      "text/plain": [
       "   Tienda  Gerente  Abril      Mayo\n",
       "b    Ohio     2001    1.7     verde\n",
       "q    Ohio     2000    1.5      rojo\n",
       "r  Nevada     2002    2.9      rojo\n",
       "u  Nevada     2001    2.4  amarillo\n",
       "w    Ohio     2002    3.6     verde\n",
       "x  Nevada     2003    3.2      rojo"
      ]
     },
     "execution_count": 59,
     "metadata": {},
     "output_type": "execute_result"
    }
   ],
   "source": [
    "#Por defecto no modifica la serie y ordena ascendentemente\n",
    "df.sort_index()"
   ]
  },
  {
   "cell_type": "code",
   "execution_count": 60,
   "metadata": {},
   "outputs": [
    {
     "data": {
      "text/html": [
       "<div>\n",
       "<style scoped>\n",
       "    .dataframe tbody tr th:only-of-type {\n",
       "        vertical-align: middle;\n",
       "    }\n",
       "\n",
       "    .dataframe tbody tr th {\n",
       "        vertical-align: top;\n",
       "    }\n",
       "\n",
       "    .dataframe thead th {\n",
       "        text-align: right;\n",
       "    }\n",
       "</style>\n",
       "<table border=\"1\" class=\"dataframe\">\n",
       "  <thead>\n",
       "    <tr style=\"text-align: right;\">\n",
       "      <th></th>\n",
       "      <th>Tienda</th>\n",
       "      <th>Gerente</th>\n",
       "      <th>Abril</th>\n",
       "      <th>Mayo</th>\n",
       "    </tr>\n",
       "  </thead>\n",
       "  <tbody>\n",
       "    <tr>\n",
       "      <th>x</th>\n",
       "      <td>Nevada</td>\n",
       "      <td>2003</td>\n",
       "      <td>3.2</td>\n",
       "      <td>rojo</td>\n",
       "    </tr>\n",
       "    <tr>\n",
       "      <th>w</th>\n",
       "      <td>Ohio</td>\n",
       "      <td>2002</td>\n",
       "      <td>3.6</td>\n",
       "      <td>verde</td>\n",
       "    </tr>\n",
       "    <tr>\n",
       "      <th>u</th>\n",
       "      <td>Nevada</td>\n",
       "      <td>2001</td>\n",
       "      <td>2.4</td>\n",
       "      <td>amarillo</td>\n",
       "    </tr>\n",
       "    <tr>\n",
       "      <th>r</th>\n",
       "      <td>Nevada</td>\n",
       "      <td>2002</td>\n",
       "      <td>2.9</td>\n",
       "      <td>rojo</td>\n",
       "    </tr>\n",
       "    <tr>\n",
       "      <th>q</th>\n",
       "      <td>Ohio</td>\n",
       "      <td>2000</td>\n",
       "      <td>1.5</td>\n",
       "      <td>rojo</td>\n",
       "    </tr>\n",
       "    <tr>\n",
       "      <th>b</th>\n",
       "      <td>Ohio</td>\n",
       "      <td>2001</td>\n",
       "      <td>1.7</td>\n",
       "      <td>verde</td>\n",
       "    </tr>\n",
       "  </tbody>\n",
       "</table>\n",
       "</div>"
      ],
      "text/plain": [
       "   Tienda  Gerente  Abril      Mayo\n",
       "x  Nevada     2003    3.2      rojo\n",
       "w    Ohio     2002    3.6     verde\n",
       "u  Nevada     2001    2.4  amarillo\n",
       "r  Nevada     2002    2.9      rojo\n",
       "q    Ohio     2000    1.5      rojo\n",
       "b    Ohio     2001    1.7     verde"
      ]
     },
     "execution_count": 60,
     "metadata": {},
     "output_type": "execute_result"
    }
   ],
   "source": [
    "df.sort_index(ascending=False)"
   ]
  },
  {
   "cell_type": "code",
   "execution_count": 61,
   "metadata": {},
   "outputs": [
    {
     "data": {
      "text/html": [
       "<div>\n",
       "<style scoped>\n",
       "    .dataframe tbody tr th:only-of-type {\n",
       "        vertical-align: middle;\n",
       "    }\n",
       "\n",
       "    .dataframe tbody tr th {\n",
       "        vertical-align: top;\n",
       "    }\n",
       "\n",
       "    .dataframe thead th {\n",
       "        text-align: right;\n",
       "    }\n",
       "</style>\n",
       "<table border=\"1\" class=\"dataframe\">\n",
       "  <thead>\n",
       "    <tr style=\"text-align: right;\">\n",
       "      <th></th>\n",
       "      <th>Tienda</th>\n",
       "      <th>Gerente</th>\n",
       "      <th>Abril</th>\n",
       "      <th>Mayo</th>\n",
       "    </tr>\n",
       "  </thead>\n",
       "  <tbody>\n",
       "    <tr>\n",
       "      <th>r</th>\n",
       "      <td>Nevada</td>\n",
       "      <td>2002</td>\n",
       "      <td>2.9</td>\n",
       "      <td>rojo</td>\n",
       "    </tr>\n",
       "    <tr>\n",
       "      <th>q</th>\n",
       "      <td>Ohio</td>\n",
       "      <td>2000</td>\n",
       "      <td>1.5</td>\n",
       "      <td>rojo</td>\n",
       "    </tr>\n",
       "    <tr>\n",
       "      <th>b</th>\n",
       "      <td>Ohio</td>\n",
       "      <td>2001</td>\n",
       "      <td>1.7</td>\n",
       "      <td>verde</td>\n",
       "    </tr>\n",
       "  </tbody>\n",
       "</table>\n",
       "</div>"
      ],
      "text/plain": [
       "   Tienda  Gerente  Abril   Mayo\n",
       "r  Nevada     2002    2.9   rojo\n",
       "q    Ohio     2000    1.5   rojo\n",
       "b    Ohio     2001    1.7  verde"
      ]
     },
     "execution_count": 61,
     "metadata": {},
     "output_type": "execute_result"
    }
   ],
   "source": [
    "df.sort_index(ascending=False).tail(3)"
   ]
  },
  {
   "cell_type": "code",
   "execution_count": 63,
   "metadata": {},
   "outputs": [
    {
     "data": {
      "text/html": [
       "<div>\n",
       "<style scoped>\n",
       "    .dataframe tbody tr th:only-of-type {\n",
       "        vertical-align: middle;\n",
       "    }\n",
       "\n",
       "    .dataframe tbody tr th {\n",
       "        vertical-align: top;\n",
       "    }\n",
       "\n",
       "    .dataframe thead th {\n",
       "        text-align: right;\n",
       "    }\n",
       "</style>\n",
       "<table border=\"1\" class=\"dataframe\">\n",
       "  <thead>\n",
       "    <tr style=\"text-align: right;\">\n",
       "      <th></th>\n",
       "      <th>Tienda</th>\n",
       "      <th>Gerente</th>\n",
       "      <th>Abril</th>\n",
       "      <th>Mayo</th>\n",
       "    </tr>\n",
       "  </thead>\n",
       "  <tbody>\n",
       "    <tr>\n",
       "      <th>w</th>\n",
       "      <td>Ohio</td>\n",
       "      <td>2002</td>\n",
       "      <td>3.6</td>\n",
       "      <td>verde</td>\n",
       "    </tr>\n",
       "    <tr>\n",
       "      <th>b</th>\n",
       "      <td>Ohio</td>\n",
       "      <td>2001</td>\n",
       "      <td>1.7</td>\n",
       "      <td>verde</td>\n",
       "    </tr>\n",
       "    <tr>\n",
       "      <th>x</th>\n",
       "      <td>Nevada</td>\n",
       "      <td>2003</td>\n",
       "      <td>3.2</td>\n",
       "      <td>rojo</td>\n",
       "    </tr>\n",
       "    <tr>\n",
       "      <th>r</th>\n",
       "      <td>Nevada</td>\n",
       "      <td>2002</td>\n",
       "      <td>2.9</td>\n",
       "      <td>rojo</td>\n",
       "    </tr>\n",
       "    <tr>\n",
       "      <th>u</th>\n",
       "      <td>Nevada</td>\n",
       "      <td>2001</td>\n",
       "      <td>2.4</td>\n",
       "      <td>amarillo</td>\n",
       "    </tr>\n",
       "    <tr>\n",
       "      <th>q</th>\n",
       "      <td>Ohio</td>\n",
       "      <td>2000</td>\n",
       "      <td>1.5</td>\n",
       "      <td>rojo</td>\n",
       "    </tr>\n",
       "  </tbody>\n",
       "</table>\n",
       "</div>"
      ],
      "text/plain": [
       "   Tienda  Gerente  Abril      Mayo\n",
       "w    Ohio     2002    3.6     verde\n",
       "b    Ohio     2001    1.7     verde\n",
       "x  Nevada     2003    3.2      rojo\n",
       "r  Nevada     2002    2.9      rojo\n",
       "u  Nevada     2001    2.4  amarillo\n",
       "q    Ohio     2000    1.5      rojo"
      ]
     },
     "execution_count": 63,
     "metadata": {},
     "output_type": "execute_result"
    }
   ],
   "source": [
    "#De acuerdo a los valores\n",
    "df.sort_values(by='Tienda',ascending=False)\n",
    "df"
   ]
  },
  {
   "cell_type": "code",
   "execution_count": 65,
   "metadata": {},
   "outputs": [
    {
     "data": {
      "text/html": [
       "<div>\n",
       "<style scoped>\n",
       "    .dataframe tbody tr th:only-of-type {\n",
       "        vertical-align: middle;\n",
       "    }\n",
       "\n",
       "    .dataframe tbody tr th {\n",
       "        vertical-align: top;\n",
       "    }\n",
       "\n",
       "    .dataframe thead th {\n",
       "        text-align: right;\n",
       "    }\n",
       "</style>\n",
       "<table border=\"1\" class=\"dataframe\">\n",
       "  <thead>\n",
       "    <tr style=\"text-align: right;\">\n",
       "      <th></th>\n",
       "      <th>Tienda</th>\n",
       "      <th>Gerente</th>\n",
       "      <th>Abril</th>\n",
       "      <th>Mayo</th>\n",
       "    </tr>\n",
       "  </thead>\n",
       "  <tbody>\n",
       "    <tr>\n",
       "      <th>w</th>\n",
       "      <td>Ohio</td>\n",
       "      <td>2002</td>\n",
       "      <td>3.6</td>\n",
       "      <td>verde</td>\n",
       "    </tr>\n",
       "    <tr>\n",
       "      <th>b</th>\n",
       "      <td>Ohio</td>\n",
       "      <td>2001</td>\n",
       "      <td>1.7</td>\n",
       "      <td>verde</td>\n",
       "    </tr>\n",
       "    <tr>\n",
       "      <th>x</th>\n",
       "      <td>Nevada</td>\n",
       "      <td>2003</td>\n",
       "      <td>3.2</td>\n",
       "      <td>rojo</td>\n",
       "    </tr>\n",
       "    <tr>\n",
       "      <th>r</th>\n",
       "      <td>Nevada</td>\n",
       "      <td>2002</td>\n",
       "      <td>2.9</td>\n",
       "      <td>rojo</td>\n",
       "    </tr>\n",
       "    <tr>\n",
       "      <th>u</th>\n",
       "      <td>Nevada</td>\n",
       "      <td>2001</td>\n",
       "      <td>2.4</td>\n",
       "      <td>amarillo</td>\n",
       "    </tr>\n",
       "    <tr>\n",
       "      <th>q</th>\n",
       "      <td>Ohio</td>\n",
       "      <td>2000</td>\n",
       "      <td>1.5</td>\n",
       "      <td>rojo</td>\n",
       "    </tr>\n",
       "  </tbody>\n",
       "</table>\n",
       "</div>"
      ],
      "text/plain": [
       "   Tienda  Gerente  Abril      Mayo\n",
       "w    Ohio     2002    3.6     verde\n",
       "b    Ohio     2001    1.7     verde\n",
       "x  Nevada     2003    3.2      rojo\n",
       "r  Nevada     2002    2.9      rojo\n",
       "u  Nevada     2001    2.4  amarillo\n",
       "q    Ohio     2000    1.5      rojo"
      ]
     },
     "execution_count": 65,
     "metadata": {},
     "output_type": "execute_result"
    }
   ],
   "source": [
    "#Ordenar por varias columnas (de ezquierda a derecha)\n",
    "df.sort_values(by=['Tienda','Gerente'],ascending=False) #\n",
    "df"
   ]
  },
  {
   "cell_type": "code",
   "execution_count": 67,
   "metadata": {},
   "outputs": [
    {
     "data": {
      "text/html": [
       "<div>\n",
       "<style scoped>\n",
       "    .dataframe tbody tr th:only-of-type {\n",
       "        vertical-align: middle;\n",
       "    }\n",
       "\n",
       "    .dataframe tbody tr th {\n",
       "        vertical-align: top;\n",
       "    }\n",
       "\n",
       "    .dataframe thead th {\n",
       "        text-align: right;\n",
       "    }\n",
       "</style>\n",
       "<table border=\"1\" class=\"dataframe\">\n",
       "  <thead>\n",
       "    <tr style=\"text-align: right;\">\n",
       "      <th></th>\n",
       "      <th>Tienda</th>\n",
       "      <th>Gerente</th>\n",
       "      <th>Abril</th>\n",
       "      <th>Mayo</th>\n",
       "    </tr>\n",
       "  </thead>\n",
       "  <tbody>\n",
       "    <tr>\n",
       "      <th>w</th>\n",
       "      <td>Ohio</td>\n",
       "      <td>2002</td>\n",
       "      <td>3.6</td>\n",
       "      <td>verde</td>\n",
       "    </tr>\n",
       "    <tr>\n",
       "      <th>b</th>\n",
       "      <td>Ohio</td>\n",
       "      <td>2001</td>\n",
       "      <td>1.7</td>\n",
       "      <td>verde</td>\n",
       "    </tr>\n",
       "    <tr>\n",
       "      <th>x</th>\n",
       "      <td>Nevada</td>\n",
       "      <td>2003</td>\n",
       "      <td>3.2</td>\n",
       "      <td>rojo</td>\n",
       "    </tr>\n",
       "    <tr>\n",
       "      <th>r</th>\n",
       "      <td>Nevada</td>\n",
       "      <td>2002</td>\n",
       "      <td>2.9</td>\n",
       "      <td>rojo</td>\n",
       "    </tr>\n",
       "    <tr>\n",
       "      <th>u</th>\n",
       "      <td>Nevada</td>\n",
       "      <td>2001</td>\n",
       "      <td>2.4</td>\n",
       "      <td>amarillo</td>\n",
       "    </tr>\n",
       "    <tr>\n",
       "      <th>q</th>\n",
       "      <td>Ohio</td>\n",
       "      <td>2000</td>\n",
       "      <td>1.5</td>\n",
       "      <td>rojo</td>\n",
       "    </tr>\n",
       "  </tbody>\n",
       "</table>\n",
       "</div>"
      ],
      "text/plain": [
       "   Tienda  Gerente  Abril      Mayo\n",
       "w    Ohio     2002    3.6     verde\n",
       "b    Ohio     2001    1.7     verde\n",
       "x  Nevada     2003    3.2      rojo\n",
       "r  Nevada     2002    2.9      rojo\n",
       "u  Nevada     2001    2.4  amarillo\n",
       "q    Ohio     2000    1.5      rojo"
      ]
     },
     "execution_count": 67,
     "metadata": {},
     "output_type": "execute_result"
    }
   ],
   "source": [
    "#Ordenar por varias columnas, pero en diferente orden\n",
    "#Categoria --> ascendente\n",
    "#Enero ---> descendente\n",
    "df.sort_values(by=['Tienda','Gerente'],ascending=[True,False])\n",
    "df"
   ]
  },
  {
   "cell_type": "code",
   "execution_count": 68,
   "metadata": {},
   "outputs": [
    {
     "data": {
      "text/html": [
       "<div>\n",
       "<style scoped>\n",
       "    .dataframe tbody tr th:only-of-type {\n",
       "        vertical-align: middle;\n",
       "    }\n",
       "\n",
       "    .dataframe tbody tr th {\n",
       "        vertical-align: top;\n",
       "    }\n",
       "\n",
       "    .dataframe thead th {\n",
       "        text-align: right;\n",
       "    }\n",
       "</style>\n",
       "<table border=\"1\" class=\"dataframe\">\n",
       "  <thead>\n",
       "    <tr style=\"text-align: right;\">\n",
       "      <th></th>\n",
       "      <th>Tienda</th>\n",
       "      <th>Gerente</th>\n",
       "      <th>Abril</th>\n",
       "      <th>Mayo</th>\n",
       "      <th>Ventas</th>\n",
       "    </tr>\n",
       "  </thead>\n",
       "  <tbody>\n",
       "    <tr>\n",
       "      <th>w</th>\n",
       "      <td>Ohio</td>\n",
       "      <td>2002</td>\n",
       "      <td>3.6</td>\n",
       "      <td>verde</td>\n",
       "      <td>Malas</td>\n",
       "    </tr>\n",
       "    <tr>\n",
       "      <th>b</th>\n",
       "      <td>Ohio</td>\n",
       "      <td>2001</td>\n",
       "      <td>1.7</td>\n",
       "      <td>verde</td>\n",
       "      <td>Malas</td>\n",
       "    </tr>\n",
       "    <tr>\n",
       "      <th>x</th>\n",
       "      <td>Nevada</td>\n",
       "      <td>2003</td>\n",
       "      <td>3.2</td>\n",
       "      <td>rojo</td>\n",
       "      <td>Malas</td>\n",
       "    </tr>\n",
       "    <tr>\n",
       "      <th>r</th>\n",
       "      <td>Nevada</td>\n",
       "      <td>2002</td>\n",
       "      <td>2.9</td>\n",
       "      <td>rojo</td>\n",
       "      <td>Malas</td>\n",
       "    </tr>\n",
       "    <tr>\n",
       "      <th>u</th>\n",
       "      <td>Nevada</td>\n",
       "      <td>2001</td>\n",
       "      <td>2.4</td>\n",
       "      <td>amarillo</td>\n",
       "      <td>Malas</td>\n",
       "    </tr>\n",
       "    <tr>\n",
       "      <th>q</th>\n",
       "      <td>Ohio</td>\n",
       "      <td>2000</td>\n",
       "      <td>1.5</td>\n",
       "      <td>rojo</td>\n",
       "      <td>Malas</td>\n",
       "    </tr>\n",
       "  </tbody>\n",
       "</table>\n",
       "</div>"
      ],
      "text/plain": [
       "   Tienda  Gerente  Abril      Mayo Ventas\n",
       "w    Ohio     2002    3.6     verde  Malas\n",
       "b    Ohio     2001    1.7     verde  Malas\n",
       "x  Nevada     2003    3.2      rojo  Malas\n",
       "r  Nevada     2002    2.9      rojo  Malas\n",
       "u  Nevada     2001    2.4  amarillo  Malas\n",
       "q    Ohio     2000    1.5      rojo  Malas"
      ]
     },
     "execution_count": 68,
     "metadata": {},
     "output_type": "execute_result"
    }
   ],
   "source": [
    "import numpy as np\n",
    "#Where\n",
    "#Si las ventas de enero son mayores a 20000, poner \"Buenas\", si no, poner \"Malas\"\n",
    "df['Ventas']=np.where(df['Abril']>4,\"Buenas\",\"Malas\")\n",
    "df"
   ]
  },
  {
   "cell_type": "code",
   "execution_count": 70,
   "metadata": {},
   "outputs": [
    {
     "data": {
      "text/html": [
       "<div>\n",
       "<style scoped>\n",
       "    .dataframe tbody tr th:only-of-type {\n",
       "        vertical-align: middle;\n",
       "    }\n",
       "\n",
       "    .dataframe tbody tr th {\n",
       "        vertical-align: top;\n",
       "    }\n",
       "\n",
       "    .dataframe thead th {\n",
       "        text-align: right;\n",
       "    }\n",
       "</style>\n",
       "<table border=\"1\" class=\"dataframe\">\n",
       "  <thead>\n",
       "    <tr style=\"text-align: right;\">\n",
       "      <th></th>\n",
       "      <th>Tienda</th>\n",
       "      <th>Gerente</th>\n",
       "      <th>Abril</th>\n",
       "      <th>Mayo</th>\n",
       "      <th>Ventas</th>\n",
       "    </tr>\n",
       "  </thead>\n",
       "  <tbody>\n",
       "  </tbody>\n",
       "</table>\n",
       "</div>"
      ],
      "text/plain": [
       "Empty DataFrame\n",
       "Columns: [Tienda, Gerente, Abril, Mayo, Ventas]\n",
       "Index: []"
      ]
     },
     "execution_count": 70,
     "metadata": {},
     "output_type": "execute_result"
    }
   ],
   "source": [
    "#Filtros\n",
    "df[df['Ventas']==\"buenas\"]"
   ]
  },
  {
   "cell_type": "code",
   "execution_count": 72,
   "metadata": {},
   "outputs": [
    {
     "name": "stdout",
     "output_type": "stream",
     "text": [
      "Ejemplo DateTime:  2020-05-15 15:30:05\n",
      "Ejemplo Fecha:  2020-05-15\n",
      "Ejemplo Hora:  15:30:05\n"
     ]
    }
   ],
   "source": [
    "#Formato normal\n",
    "#Año, mes, día, hora, minuto, segundos\n",
    "#Datetime genera una fecha completa (fecha-hora)\n",
    "from datetime import date, time, datetime, timedelta\n",
    "ej=datetime(2020,5,15,15,30,5)\n",
    "print(\"Ejemplo DateTime: \",ej)\n",
    "\n",
    "#Horas\n",
    "#date genera solo una fecha (año, mes, dia)\n",
    "ejFecha=date(2020,5,15)\n",
    "print(\"Ejemplo Fecha: \",ejFecha)\n",
    "\n",
    "#time genera solo una hora (hora, minuto, segundo)\n",
    "ejHora=time(15,30,5)\n",
    "print(\"Ejemplo Hora: \",ejHora)"
   ]
  },
  {
   "cell_type": "code",
   "execution_count": 73,
   "metadata": {},
   "outputs": [
    {
     "name": "stdout",
     "output_type": "stream",
     "text": [
      "Fecha actual:  2024-08-28 04:33:43.800725\n",
      "Solo fecha actual:  2024-08-28\n",
      "Solo hora actual:  04:33:43.800725\n",
      "2024\n",
      "8\n"
     ]
    }
   ],
   "source": [
    "#Para imprimir la fecha actual: .now()\n",
    "#Se imprime la fecha y hora del servidor\n",
    "fechaActual=datetime.now()\n",
    "print(\"Fecha actual: \",fechaActual)\n",
    "\n",
    "#De este modo se pueden extraer caracteristicas específicas de una fecha específica\n",
    "print(\"Solo fecha actual: \",fechaActual.date())\n",
    "print(\"Solo hora actual: \",fechaActual.time())\n",
    "print(fechaActual.year)\n",
    "print(fechaActual.month)"
   ]
  },
  {
   "cell_type": "code",
   "execution_count": 74,
   "metadata": {},
   "outputs": [
    {
     "name": "stdout",
     "output_type": "stream",
     "text": [
      "Tengo 22 años\n"
     ]
    }
   ],
   "source": [
    "#Operaciones con datetimes\n",
    "actual=datetime.now()\n",
    "nacimiento=datetime(2002,8,16,20,30,5)\n",
    "print('Tengo',actual.year-nacimiento.year,'años')"
   ]
  },
  {
   "cell_type": "code",
   "execution_count": 75,
   "metadata": {},
   "outputs": [
    {
     "name": "stdout",
     "output_type": "stream",
     "text": [
      "15 semanas:  2024-12-11 04:35:32.524045\n",
      "27 días:  2024-09-24 04:35:32.524045\n",
      "2 semanas, 5 días y 23 hrs:  2024-09-17 03:35:32.524045\n"
     ]
    }
   ],
   "source": [
    "#Resuelve aquí el ejercicio\n",
    "#Calcula las fechas que serán contando a partir de hoy....\n",
    "#1. 15 semanas\n",
    "#2. 27 días\n",
    "#3. 2 semanas, 5 días y 23 hrs\n",
    "hoy=datetime.now()\n",
    "print('15 semanas: ',hoy+timedelta(weeks=15))\n",
    "print('27 días: ',hoy+timedelta(days=27))\n",
    "print('2 semanas, 5 días y 23 hrs: ',hoy+timedelta(weeks=2,days=5,hours=23))"
   ]
  },
  {
   "cell_type": "code",
   "execution_count": 78,
   "metadata": {},
   "outputs": [
    {
     "name": "stdout",
     "output_type": "stream",
     "text": [
      "Formato normal:  2020-10-15 15:08:00\n",
      "Formato cambiado:  Son las 03 PM, día: Thursday, mes: October\n",
      "Formato cambiado:  Thursday, 15 October, 2020\n",
      "1. Yo nací un Friday 16 de August en el año 2002\n",
      "2. Mi fecha de nacimiento es 16--Aug--02\n"
     ]
    }
   ],
   "source": [
    "#Foramtos\n",
    "ejFormato=datetime(2020,10,15,15,8)\n",
    "print(\"Formato normal: \", ejFormato)\n",
    "print(\"Formato cambiado: \", ejFormato.strftime('Son las %I %p, día: %A, mes: %B'))\n",
    "print(\"Formato cambiado: \", ejFormato.strftime('%A, %d %B, %Y'))\n",
    "print('1. Yo nací un',nacimiento.strftime('%A %d'),'de',nacimiento.strftime('%B'),'en el año',nacimiento.year)\n",
    "print('2. Mi fecha de nacimiento es',nacimiento.strftime('%d--%b--%y'))"
   ]
  },
  {
   "cell_type": "code",
   "execution_count": 80,
   "metadata": {},
   "outputs": [
    {
     "name": "stdout",
     "output_type": "stream",
     "text": [
      "\n",
      "\n",
      "Cadenas en fechas\n",
      "\n",
      "Nueva fecha:  2020-04-15 20:50:30\n",
      "Nueva fecha:  1900-10-01 15:00:00\n"
     ]
    }
   ],
   "source": [
    "#Pasar cadena a fecha\n",
    "\n",
    "#Se siguen utilizando los parámetros de la página anterior, pepro lal función es s`trptime`\n",
    "\n",
    "print(\"\\n\\nCadenas en fechas\\n\")\n",
    "cad='2022-8-18 13:15:45'\n",
    "#datetime.strptime(FormatoDeCadena, FormatoCon ParametrosDeFecha)\n",
    "newdate=datetime.strptime('2020-4-15 20:50:30', '%Y-%m-%d %H:%M:%S')\n",
    "print(\"Nueva fecha: \",newdate)\n",
    "\n",
    "#Al utilizar strptime, se debe de tener cuidado de que la cadena cumpla con el patrón descrito\n",
    "newdate2=datetime.strptime('Son las 03 PM, día: Thursday, mes: October', 'Son las %I %p, día: %A, mes: %B')\n",
    "print(\"Nueva fecha: \",newdate2)"
   ]
  },
  {
   "cell_type": "code",
   "execution_count": null,
   "metadata": {},
   "outputs": [],
   "source": [
    "#Leer CSV\n",
    "Ej=pd.read_csv('Country2.csv', index_col='Code', nrows=20)\n",
    "Ej=Ej.drop(['SurfaceArea','LifeExpectancy','Continent','Region','LocalName','GovernmentForm','Capital'], axis=1)"
   ]
  },
  {
   "cell_type": "code",
   "execution_count": null,
   "metadata": {},
   "outputs": [],
   "source": [
    "# Leer HTML\n",
    "Frame=pd.read_html('Ejemplo-3.html',header=0, index_col=0,encoding='utf-8')\n",
    "len(Frame)\n",
    "print(Frame[0].head())\n",
    "print(Frame[1].head())\n",
    "\n",
    "#imprime el número de filas de cada frame en el archivo (no sabemos cuantos frames existen)\n",
    "len(Frame)"
   ]
  },
  {
   "cell_type": "code",
   "execution_count": null,
   "metadata": {},
   "outputs": [],
   "source": [
    "Ej.dropna()#Retorna dataframe sin vacios\n",
    "Ej.isnull()#Retorna dataframe con boleanos verificando si es null\n",
    "Ej.fillna('--',inplace=True)#Cambia en el dataframe original los vacios por '--'\n",
    "print(\"Reemplaza todos los 0's por 9999\\n\",Ej.replace(0,9999))\n",
    "Ej[Ej['PrecioCompra'].isnull()]#Filtrar cpor nulos\n",
    "Duplicadas=Ej.duplicated() #Retorna serie de boleanos con duplicados o no\n",
    "Ej['Departamento'].duplicated(keep='first')#detecta duplicados y se queda solo el primero last para el ultimo\n",
    "Ej.drop_duplicates()#Quita duplicados, keep como en duplicates"
   ]
  },
  {
   "cell_type": "code",
   "execution_count": 82,
   "metadata": {},
   "outputs": [
    {
     "data": {
      "text/plain": [
       "w    5\n",
       "b    5\n",
       "x    5\n",
       "r    5\n",
       "u    5\n",
       "q    5\n",
       "dtype: int64"
      ]
     },
     "execution_count": 82,
     "metadata": {},
     "output_type": "execute_result"
    }
   ],
   "source": [
    "#Valores únicos en cada columna\n",
    "df.nunique()\n",
    "\n",
    "#Muestra los valores únicos por fila (en caso de que una fila tenga el mismo valor en dos o más columnas)\n",
    "df.nunique(axis=1)"
   ]
  },
  {
   "cell_type": "code",
   "execution_count": 84,
   "metadata": {},
   "outputs": [
    {
     "data": {
      "text/plain": [
       "Tienda\n",
       "Ohio      3\n",
       "Nevada    3\n",
       "Name: count, dtype: int64"
      ]
     },
     "execution_count": 84,
     "metadata": {},
     "output_type": "execute_result"
    }
   ],
   "source": [
    "df['Tienda'].value_counts()"
   ]
  },
  {
   "cell_type": "code",
   "execution_count": null,
   "metadata": {},
   "outputs": [],
   "source": [
    "#Leer un documento json\n",
    "#values no cuenta con nombre de columnas ni claves asignadas (numeración)\n",
    "Frame= pd.read_json('Arch5_values.json', orient='values')\n",
    "Frame.columns=['Nombre', 'Apellido', 'Depto', 'Puesto', 'Fecha', 'Sueldo']\n",
    "Frame.head()"
   ]
  },
  {
   "cell_type": "code",
   "execution_count": null,
   "metadata": {},
   "outputs": [],
   "source": [
    "#Leer archivo excel\n",
    "NewFrame=pd.read_excel('EjemploDatosExcel.xlsx','Hoja1',header=2, index_col=1, skiprows=[1,3,5], usecols='A:C' )\n",
    "print(NewFrame)"
   ]
  },
  {
   "cell_type": "code",
   "execution_count": null,
   "metadata": {},
   "outputs": [],
   "source": [
    "df2.to_excel('EjemploDatosExcel.xlsx', sheet_name='Prueba2') #Exportar a excel, funciona para todos\n",
    "Frame=pd.read_csv('EjemploDatosCSV2.csv', delimiter=';')#Leer csv con delimitador"
   ]
  },
  {
   "cell_type": "code",
   "execution_count": null,
   "metadata": {},
   "outputs": [],
   "source": []
  }
 ],
 "metadata": {
  "kernelspec": {
   "display_name": "Python 3",
   "language": "python",
   "name": "python3"
  },
  "language_info": {
   "codemirror_mode": {
    "name": "ipython",
    "version": 3
   },
   "file_extension": ".py",
   "mimetype": "text/x-python",
   "name": "python",
   "nbconvert_exporter": "python",
   "pygments_lexer": "ipython3",
   "version": "3.10.13"
  }
 },
 "nbformat": 4,
 "nbformat_minor": 2
}
