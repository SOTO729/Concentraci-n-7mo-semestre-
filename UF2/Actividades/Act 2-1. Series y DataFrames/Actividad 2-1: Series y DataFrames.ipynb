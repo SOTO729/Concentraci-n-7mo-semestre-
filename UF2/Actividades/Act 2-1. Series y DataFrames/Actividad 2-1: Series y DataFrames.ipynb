{
 "cells": [
  {
   "cell_type": "code",
   "execution_count": 1,
   "metadata": {},
   "outputs": [],
   "source": [
    "import pandas as pd"
   ]
  },
  {
   "cell_type": "markdown",
   "metadata": {},
   "source": [
    "<h2>Parte 1 (50 puntos): Series</h2>"
   ]
  },
  {
   "cell_type": "markdown",
   "metadata": {},
   "source": [
    "<p>Genera una estructura de datos tipo serie que contenga como índices los nombres de 8 programas\n",
    "de TV o streaming, y como valor, la calificación que les das (1-10). Imprime en pantalla el resultado.\n",
    "Realiza las siguientes actividades:<br><br>\n",
    "1. Borra el programa que prefieras. Imprime la serie<br><br>\n",
    "2. Obtén el promedio de tus calificaciones. Muestra el mensaje “El promedio es: ” seguido del\n",
    "resultado<br><br>\n",
    "3. Agrega un nuevo programa a la serie. Imprime la serie para comprobar<br><br>\n",
    "4. Cambia la calificación de un programa, imprime solo el nombre del programa con su nuevo\n",
    "puntaje<br><br>\n",
    "5. A partir de la serie generada, genera una copia donde se eliminen tres series. Utiliza las\n",
    "posiciones para seleccionar las series a eliminar. Imprime la serie original y la nueva</p>"
   ]
  },
  {
   "cell_type": "code",
   "execution_count": 30,
   "metadata": {},
   "outputs": [
    {
     "data": {
      "text/plain": [
       "Breaking Bad               9.2\n",
       "Better Call Saul           9.6\n",
       "Frieren                    7.8\n",
       "The Promised Neverland     8.9\n",
       "Fullmetal Alchemist       10.0\n",
       "La Rosa de Guadalupe       0.0\n",
       "Attack on Titan           10.0\n",
       "How I Met Your Mother      8.2\n",
       "dtype: float64"
      ]
     },
     "execution_count": 30,
     "metadata": {},
     "output_type": "execute_result"
    }
   ],
   "source": [
    "serie=pd.Series([9.2,9.6,7.8,8.9,10,0,10,8.2],['Breaking Bad','Better Call Saul','Frieren','The Promised Neverland',\n",
    "                         'Fullmetal Alchemist','La Rosa de Guadalupe','Attack on Titan','How I Met Your Mother'])\n",
    "serie"
   ]
  },
  {
   "cell_type": "code",
   "execution_count": 31,
   "metadata": {},
   "outputs": [
    {
     "data": {
      "text/plain": [
       "Breaking Bad               9.2\n",
       "Better Call Saul           9.6\n",
       "Frieren                    7.8\n",
       "The Promised Neverland     8.9\n",
       "Fullmetal Alchemist       10.0\n",
       "Attack on Titan           10.0\n",
       "How I Met Your Mother      8.2\n",
       "dtype: float64"
      ]
     },
     "execution_count": 31,
     "metadata": {},
     "output_type": "execute_result"
    }
   ],
   "source": [
    "# Ejercicio 1\n",
    "serie.drop('La Rosa de Guadalupe',inplace=True)\n",
    "serie"
   ]
  },
  {
   "cell_type": "code",
   "execution_count": 32,
   "metadata": {},
   "outputs": [
    {
     "name": "stdout",
     "output_type": "stream",
     "text": [
      "El promedio de las calificaciones es: 9.1\n"
     ]
    }
   ],
   "source": [
    "# Ejercicio 2\n",
    "print('El promedio de las calificaciones es:',round(float(serie.values.mean()),2))"
   ]
  },
  {
   "cell_type": "code",
   "execution_count": 33,
   "metadata": {},
   "outputs": [
    {
     "data": {
      "text/plain": [
       "Breaking Bad               9.2\n",
       "Better Call Saul           9.6\n",
       "Frieren                    7.8\n",
       "The Promised Neverland     8.9\n",
       "Fullmetal Alchemist       10.0\n",
       "Attack on Titan           10.0\n",
       "How I Met Your Mother      8.2\n",
       "Halo                       6.5\n",
       "dtype: float64"
      ]
     },
     "execution_count": 33,
     "metadata": {},
     "output_type": "execute_result"
    }
   ],
   "source": [
    "# Ejercicio 3\n",
    "serie=pd.concat([serie,pd.Series([6.5],['Halo'])])\n",
    "serie"
   ]
  },
  {
   "cell_type": "code",
   "execution_count": 41,
   "metadata": {},
   "outputs": [
    {
     "name": "stdout",
     "output_type": "stream",
     "text": [
      "Breaking Bad               9.2\n",
      "Better Call Saul           9.6\n",
      "Frieren                    7.8\n",
      "The Promised Neverland     8.9\n",
      "Fullmetal Alchemist       10.0\n",
      "Attack on Titan           10.0\n",
      "How I Met Your Mother      8.2\n",
      "Halo                       7.0\n",
      "dtype: float64\n"
     ]
    },
    {
     "data": {
      "text/plain": [
       "Breaking Bad               9.2\n",
       "Better Call Saul           9.6\n",
       "Frieren                    7.8\n",
       "The Promised Neverland     8.9\n",
       "Fullmetal Alchemist       10.0\n",
       "Attack on Titan           10.0\n",
       "How I Met Your Mother      8.2\n",
       "Halo                       9.9\n",
       "dtype: float64"
      ]
     },
     "execution_count": 41,
     "metadata": {},
     "output_type": "execute_result"
    }
   ],
   "source": [
    "#Ejercicio 4\n",
    "#Metodo 1\n",
    "serie.loc[['Halo']]=7\n",
    "print(serie)\n",
    "#Metodo 2\n",
    "serie['Halo']=9.9\n",
    "serie"
   ]
  },
  {
   "cell_type": "code",
   "execution_count": 44,
   "metadata": {},
   "outputs": [
    {
     "name": "stdout",
     "output_type": "stream",
     "text": [
      "Original:\n",
      " Breaking Bad               9.2\n",
      "Better Call Saul           9.6\n",
      "Frieren                    7.8\n",
      "The Promised Neverland     8.9\n",
      "Fullmetal Alchemist       10.0\n",
      "Attack on Titan           10.0\n",
      "How I Met Your Mother      8.2\n",
      "Halo                       9.9\n",
      "dtype: float64\n",
      "\n",
      "\n",
      "Copia:\n",
      " Better Call Saul           9.6\n",
      "The Promised Neverland     8.9\n",
      "Fullmetal Alchemist       10.0\n",
      "Attack on Titan           10.0\n",
      "How I Met Your Mother      8.2\n",
      "dtype: float64\n"
     ]
    }
   ],
   "source": [
    "#Ejercicio 5\n",
    "print('Original:\\n',serie)\n",
    "serie_copia=serie.drop(index=['Frieren','Breaking Bad','Halo'])\n",
    "print('\\n')\n",
    "print('Copia:\\n',serie_copia)\n"
   ]
  },
  {
   "cell_type": "markdown",
   "metadata": {},
   "source": [
    "<h2>Parte 2 (50 puntos): DataFrame</h2>"
   ]
  },
  {
   "cell_type": "markdown",
   "metadata": {},
   "source": [
    "<p>Genera el siguiente DataFrame (Las claves son los nombres)</p>"
   ]
  },
  {
   "attachments": {
    "image.png": {
     "image/png": "[encoded data removed]"
    }
   },
   "cell_type": "markdown",
   "metadata": {},
   "source": [
    "![image.png](attachment:image.png)"
   ]
  },
  {
   "cell_type": "markdown",
   "metadata": {},
   "source": [
    "<p>Código para el diccionario:<br><br>\n",
    "data = {'Historia': [9.8,7.5,9.5,6.2],<br>\n",
    "'Ciencias': [5,9,10,6],<br>\n",
    "'Civismo':[10,8.9,10,7.5]}<br><br>\n",
    "Una vez generado, realiza lo siguiente:<br><br>\n",
    "6. Imprime los primeros dos registros<br>\n",
    "7. Agrega tu nombre a la lista con las calificaciones que consideres pertinentes (imprime el dataframe para comprobar)<br>\n",
    "8. Borra al primer estudiante de la lista (imprime el dataframe para comprobar)<br>\n",
    "9. Imprime las calificaciones de Historia y Ciencias de Daniela y Alberto<br>\n",
    "10. Imprime la calificación máxima de la materia de historia.<br><br>\n",
    "Como ayuda, a partir de la siguiente página se da una muestra de los resultados esperados en cada\n",
    "punto. NOTA: No uses los mismos datos (utiliza otros programas que te gusten)\n",
    "</p>"
   ]
  },
  {
   "cell_type": "code",
   "execution_count": 63,
   "metadata": {},
   "outputs": [
    {
     "data": {
      "text/html": [
       "<div>\n",
       "<style scoped>\n",
       "    .dataframe tbody tr th:only-of-type {\n",
       "        vertical-align: middle;\n",
       "    }\n",
       "\n",
       "    .dataframe tbody tr th {\n",
       "        vertical-align: top;\n",
       "    }\n",
       "\n",
       "    .dataframe thead th {\n",
       "        text-align: right;\n",
       "    }\n",
       "</style>\n",
       "<table border=\"1\" class=\"dataframe\">\n",
       "  <thead>\n",
       "    <tr style=\"text-align: right;\">\n",
       "      <th></th>\n",
       "      <th>Historia</th>\n",
       "      <th>Ciencias</th>\n",
       "      <th>Civismo</th>\n",
       "    </tr>\n",
       "  </thead>\n",
       "  <tbody>\n",
       "    <tr>\n",
       "      <th>Ernesto</th>\n",
       "      <td>9.8</td>\n",
       "      <td>5</td>\n",
       "      <td>10.0</td>\n",
       "    </tr>\n",
       "    <tr>\n",
       "      <th>Daniela</th>\n",
       "      <td>7.5</td>\n",
       "      <td>9</td>\n",
       "      <td>8.9</td>\n",
       "    </tr>\n",
       "    <tr>\n",
       "      <th>Alberto</th>\n",
       "      <td>9.5</td>\n",
       "      <td>10</td>\n",
       "      <td>10.0</td>\n",
       "    </tr>\n",
       "    <tr>\n",
       "      <th>María</th>\n",
       "      <td>6.2</td>\n",
       "      <td>6</td>\n",
       "      <td>7.5</td>\n",
       "    </tr>\n",
       "  </tbody>\n",
       "</table>\n",
       "</div>"
      ],
      "text/plain": [
       "         Historia  Ciencias  Civismo\n",
       "Ernesto       9.8         5     10.0\n",
       "Daniela       7.5         9      8.9\n",
       "Alberto       9.5        10     10.0\n",
       "María         6.2         6      7.5"
      ]
     },
     "execution_count": 63,
     "metadata": {},
     "output_type": "execute_result"
    }
   ],
   "source": [
    "data = {'Historia': [9.8,7.5,9.5,6.2],'Ciencias': [5,9,10,6],'Civismo':[10,8.9,10,7.5]}\n",
    "df=pd.DataFrame(data,index=['Ernesto','Daniela','Alberto','María'])\n",
    "df"
   ]
  },
  {
   "cell_type": "code",
   "execution_count": 64,
   "metadata": {},
   "outputs": [
    {
     "data": {
      "text/html": [
       "<div>\n",
       "<style scoped>\n",
       "    .dataframe tbody tr th:only-of-type {\n",
       "        vertical-align: middle;\n",
       "    }\n",
       "\n",
       "    .dataframe tbody tr th {\n",
       "        vertical-align: top;\n",
       "    }\n",
       "\n",
       "    .dataframe thead th {\n",
       "        text-align: right;\n",
       "    }\n",
       "</style>\n",
       "<table border=\"1\" class=\"dataframe\">\n",
       "  <thead>\n",
       "    <tr style=\"text-align: right;\">\n",
       "      <th></th>\n",
       "      <th>Historia</th>\n",
       "      <th>Ciencias</th>\n",
       "      <th>Civismo</th>\n",
       "    </tr>\n",
       "  </thead>\n",
       "  <tbody>\n",
       "    <tr>\n",
       "      <th>Ernesto</th>\n",
       "      <td>9.8</td>\n",
       "      <td>5</td>\n",
       "      <td>10.0</td>\n",
       "    </tr>\n",
       "    <tr>\n",
       "      <th>Daniela</th>\n",
       "      <td>7.5</td>\n",
       "      <td>9</td>\n",
       "      <td>8.9</td>\n",
       "    </tr>\n",
       "  </tbody>\n",
       "</table>\n",
       "</div>"
      ],
      "text/plain": [
       "         Historia  Ciencias  Civismo\n",
       "Ernesto       9.8         5     10.0\n",
       "Daniela       7.5         9      8.9"
      ]
     },
     "execution_count": 64,
     "metadata": {},
     "output_type": "execute_result"
    }
   ],
   "source": [
    "#Ejercicio 6\n",
    "df.loc[df.index[0]:df.index[1]]"
   ]
  },
  {
   "cell_type": "code",
   "execution_count": 65,
   "metadata": {},
   "outputs": [
    {
     "data": {
      "text/html": [
       "<div>\n",
       "<style scoped>\n",
       "    .dataframe tbody tr th:only-of-type {\n",
       "        vertical-align: middle;\n",
       "    }\n",
       "\n",
       "    .dataframe tbody tr th {\n",
       "        vertical-align: top;\n",
       "    }\n",
       "\n",
       "    .dataframe thead th {\n",
       "        text-align: right;\n",
       "    }\n",
       "</style>\n",
       "<table border=\"1\" class=\"dataframe\">\n",
       "  <thead>\n",
       "    <tr style=\"text-align: right;\">\n",
       "      <th></th>\n",
       "      <th>Historia</th>\n",
       "      <th>Ciencias</th>\n",
       "      <th>Civismo</th>\n",
       "    </tr>\n",
       "  </thead>\n",
       "  <tbody>\n",
       "    <tr>\n",
       "      <th>Ernesto</th>\n",
       "      <td>9.8</td>\n",
       "      <td>5.0</td>\n",
       "      <td>10.0</td>\n",
       "    </tr>\n",
       "    <tr>\n",
       "      <th>Daniela</th>\n",
       "      <td>7.5</td>\n",
       "      <td>9.0</td>\n",
       "      <td>8.9</td>\n",
       "    </tr>\n",
       "    <tr>\n",
       "      <th>Alberto</th>\n",
       "      <td>9.5</td>\n",
       "      <td>10.0</td>\n",
       "      <td>10.0</td>\n",
       "    </tr>\n",
       "    <tr>\n",
       "      <th>María</th>\n",
       "      <td>6.2</td>\n",
       "      <td>6.0</td>\n",
       "      <td>7.5</td>\n",
       "    </tr>\n",
       "    <tr>\n",
       "      <th>Diego</th>\n",
       "      <td>inf</td>\n",
       "      <td>inf</td>\n",
       "      <td>inf</td>\n",
       "    </tr>\n",
       "  </tbody>\n",
       "</table>\n",
       "</div>"
      ],
      "text/plain": [
       "         Historia  Ciencias  Civismo\n",
       "Ernesto       9.8       5.0     10.0\n",
       "Daniela       7.5       9.0      8.9\n",
       "Alberto       9.5      10.0     10.0\n",
       "María         6.2       6.0      7.5\n",
       "Diego         inf       inf      inf"
      ]
     },
     "execution_count": 65,
     "metadata": {},
     "output_type": "execute_result"
    }
   ],
   "source": [
    "#Ejercicio 7\n",
    "import numpy as np\n",
    "df.loc['Diego']=[np.inf,np.inf,np.inf]\n",
    "df"
   ]
  },
  {
   "cell_type": "code",
   "execution_count": 67,
   "metadata": {},
   "outputs": [
    {
     "data": {
      "text/html": [
       "<div>\n",
       "<style scoped>\n",
       "    .dataframe tbody tr th:only-of-type {\n",
       "        vertical-align: middle;\n",
       "    }\n",
       "\n",
       "    .dataframe tbody tr th {\n",
       "        vertical-align: top;\n",
       "    }\n",
       "\n",
       "    .dataframe thead th {\n",
       "        text-align: right;\n",
       "    }\n",
       "</style>\n",
       "<table border=\"1\" class=\"dataframe\">\n",
       "  <thead>\n",
       "    <tr style=\"text-align: right;\">\n",
       "      <th></th>\n",
       "      <th>Historia</th>\n",
       "      <th>Ciencias</th>\n",
       "      <th>Civismo</th>\n",
       "    </tr>\n",
       "  </thead>\n",
       "  <tbody>\n",
       "    <tr>\n",
       "      <th>Daniela</th>\n",
       "      <td>7.5</td>\n",
       "      <td>9.0</td>\n",
       "      <td>8.9</td>\n",
       "    </tr>\n",
       "    <tr>\n",
       "      <th>Alberto</th>\n",
       "      <td>9.5</td>\n",
       "      <td>10.0</td>\n",
       "      <td>10.0</td>\n",
       "    </tr>\n",
       "    <tr>\n",
       "      <th>María</th>\n",
       "      <td>6.2</td>\n",
       "      <td>6.0</td>\n",
       "      <td>7.5</td>\n",
       "    </tr>\n",
       "    <tr>\n",
       "      <th>Diego</th>\n",
       "      <td>inf</td>\n",
       "      <td>inf</td>\n",
       "      <td>inf</td>\n",
       "    </tr>\n",
       "  </tbody>\n",
       "</table>\n",
       "</div>"
      ],
      "text/plain": [
       "         Historia  Ciencias  Civismo\n",
       "Daniela       7.5       9.0      8.9\n",
       "Alberto       9.5      10.0     10.0\n",
       "María         6.2       6.0      7.5\n",
       "Diego         inf       inf      inf"
      ]
     },
     "execution_count": 67,
     "metadata": {},
     "output_type": "execute_result"
    }
   ],
   "source": [
    "#Ejercicio 8\n",
    "df.drop(index='Ernesto',inplace=True)\n",
    "df"
   ]
  },
  {
   "cell_type": "code",
   "execution_count": 68,
   "metadata": {},
   "outputs": [
    {
     "data": {
      "text/html": [
       "<div>\n",
       "<style scoped>\n",
       "    .dataframe tbody tr th:only-of-type {\n",
       "        vertical-align: middle;\n",
       "    }\n",
       "\n",
       "    .dataframe tbody tr th {\n",
       "        vertical-align: top;\n",
       "    }\n",
       "\n",
       "    .dataframe thead th {\n",
       "        text-align: right;\n",
       "    }\n",
       "</style>\n",
       "<table border=\"1\" class=\"dataframe\">\n",
       "  <thead>\n",
       "    <tr style=\"text-align: right;\">\n",
       "      <th></th>\n",
       "      <th>Historia</th>\n",
       "      <th>Ciencias</th>\n",
       "    </tr>\n",
       "  </thead>\n",
       "  <tbody>\n",
       "    <tr>\n",
       "      <th>Daniela</th>\n",
       "      <td>7.5</td>\n",
       "      <td>9.0</td>\n",
       "    </tr>\n",
       "    <tr>\n",
       "      <th>Alberto</th>\n",
       "      <td>9.5</td>\n",
       "      <td>10.0</td>\n",
       "    </tr>\n",
       "  </tbody>\n",
       "</table>\n",
       "</div>"
      ],
      "text/plain": [
       "         Historia  Ciencias\n",
       "Daniela       7.5       9.0\n",
       "Alberto       9.5      10.0"
      ]
     },
     "execution_count": 68,
     "metadata": {},
     "output_type": "execute_result"
    }
   ],
   "source": [
    "#Ejercicio 9\n",
    "df.drop(columns='Civismo',index=['Diego','María'])"
   ]
  },
  {
   "cell_type": "code",
   "execution_count": 74,
   "metadata": {},
   "outputs": [
    {
     "name": "stdout",
     "output_type": "stream",
     "text": [
      "La calificacion máxima de historia es: inf\n"
     ]
    }
   ],
   "source": [
    "#Ejercicio 10\n",
    "print('La calificacion máxima de historia es:',df['Historia'].max())"
   ]
  }
 ],
 "metadata": {
  "kernelspec": {
   "display_name": "Python 3",
   "language": "python",
   "name": "python3"
  },
  "language_info": {
   "codemirror_mode": {
    "name": "ipython",
    "version": 3
   },
   "file_extension": ".py",
   "mimetype": "text/x-python",
   "name": "python",
   "nbconvert_exporter": "python",
   "pygments_lexer": "ipython3",
   "version": "3.10.13"
  }
 },
 "nbformat": 4,
 "nbformat_minor": 2
}
